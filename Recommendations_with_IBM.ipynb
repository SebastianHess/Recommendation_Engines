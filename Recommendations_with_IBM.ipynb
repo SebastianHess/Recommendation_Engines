{
 "cells": [
  {
   "cell_type": "markdown",
   "metadata": {},
   "source": [
    "# Recommendations with IBM\n",
    "\n",
    "In this notebook, you will be putting your recommendation skills to use on real data from the IBM Watson Studio platform. \n",
    "\n",
    "\n",
    "You may either submit your notebook through the workspace here, or you may work from your local machine and submit through the next page.  Either way assure that your code passes the project [RUBRIC](https://review.udacity.com/#!/rubrics/3325/view).  **Please save regularly.**\n",
    "\n",
    "By following the table of contents, you will build out a number of different methods for making recommendations that can be used for different situations. \n",
    "\n",
    "\n",
    "## Table of Contents\n",
    "\n",
    "I. [Exploratory Data Analysis](#Exploratory-Data-Analysis)<br>\n",
    "II. [Rank Based Recommendations](#Rank)<br>\n",
    "III. [User-User Based Collaborative Filtering](#User-User)<br>\n",
    "IV. [Content Based Recommendations (EXTRA - NOT REQUIRED)](#Content-Recs)<br>\n",
    "V. [Matrix Factorization](#Matrix-Fact)<br>\n",
    "VI. [Extras & Concluding](#conclusions)\n",
    "\n",
    "\n",
    "At the end of the notebook, you will find directions for how to submit your work.  Let's get started by importing the necessary libraries and reading in the data."
   ]
  },
  {
   "cell_type": "code",
   "execution_count": 396,
   "metadata": {},
   "outputs": [
    {
     "data": {
      "text/html": [
       "<div>\n",
       "<style scoped>\n",
       "    .dataframe tbody tr th:only-of-type {\n",
       "        vertical-align: middle;\n",
       "    }\n",
       "\n",
       "    .dataframe tbody tr th {\n",
       "        vertical-align: top;\n",
       "    }\n",
       "\n",
       "    .dataframe thead th {\n",
       "        text-align: right;\n",
       "    }\n",
       "</style>\n",
       "<table border=\"1\" class=\"dataframe\">\n",
       "  <thead>\n",
       "    <tr style=\"text-align: right;\">\n",
       "      <th></th>\n",
       "      <th>article_id</th>\n",
       "      <th>title</th>\n",
       "      <th>email</th>\n",
       "    </tr>\n",
       "  </thead>\n",
       "  <tbody>\n",
       "    <tr>\n",
       "      <th>0</th>\n",
       "      <td>1430.0</td>\n",
       "      <td>using pixiedust for fast, flexible, and easier...</td>\n",
       "      <td>ef5f11f77ba020cd36e1105a00ab868bbdbf7fe7</td>\n",
       "    </tr>\n",
       "    <tr>\n",
       "      <th>1</th>\n",
       "      <td>1314.0</td>\n",
       "      <td>healthcare python streaming application demo</td>\n",
       "      <td>083cbdfa93c8444beaa4c5f5e0f5f9198e4f9e0b</td>\n",
       "    </tr>\n",
       "    <tr>\n",
       "      <th>2</th>\n",
       "      <td>1429.0</td>\n",
       "      <td>use deep learning for image classification</td>\n",
       "      <td>b96a4f2e92d8572034b1e9b28f9ac673765cd074</td>\n",
       "    </tr>\n",
       "    <tr>\n",
       "      <th>3</th>\n",
       "      <td>1338.0</td>\n",
       "      <td>ml optimization using cognitive assistant</td>\n",
       "      <td>06485706b34a5c9bf2a0ecdac41daf7e7654ceb7</td>\n",
       "    </tr>\n",
       "    <tr>\n",
       "      <th>4</th>\n",
       "      <td>1276.0</td>\n",
       "      <td>deploy your python model as a restful api</td>\n",
       "      <td>f01220c46fc92c6e6b161b1849de11faacd7ccb2</td>\n",
       "    </tr>\n",
       "  </tbody>\n",
       "</table>\n",
       "</div>"
      ],
      "text/plain": [
       "   article_id                                              title  \\\n",
       "0      1430.0  using pixiedust for fast, flexible, and easier...   \n",
       "1      1314.0       healthcare python streaming application demo   \n",
       "2      1429.0         use deep learning for image classification   \n",
       "3      1338.0          ml optimization using cognitive assistant   \n",
       "4      1276.0          deploy your python model as a restful api   \n",
       "\n",
       "                                      email  \n",
       "0  ef5f11f77ba020cd36e1105a00ab868bbdbf7fe7  \n",
       "1  083cbdfa93c8444beaa4c5f5e0f5f9198e4f9e0b  \n",
       "2  b96a4f2e92d8572034b1e9b28f9ac673765cd074  \n",
       "3  06485706b34a5c9bf2a0ecdac41daf7e7654ceb7  \n",
       "4  f01220c46fc92c6e6b161b1849de11faacd7ccb2  "
      ]
     },
     "execution_count": 396,
     "metadata": {},
     "output_type": "execute_result"
    }
   ],
   "source": [
    "# Loading libraries\n",
    "import pandas as pd\n",
    "import numpy as np\n",
    "import matplotlib.pyplot as plt\n",
    "import project_tests as t\n",
    "import pickle\n",
    "\n",
    "%matplotlib inline\n",
    "\n",
    "# Loading data\n",
    "df = pd.read_csv('data/user-item-interactions.csv')\n",
    "df_content = pd.read_csv('data/articles_community.csv')\n",
    "del df['Unnamed: 0']\n",
    "del df_content['Unnamed: 0']\n",
    "\n",
    "# Showing df to get an idea of the data\n",
    "df.head()\n"
   ]
  },
  {
   "cell_type": "code",
   "execution_count": 397,
   "metadata": {},
   "outputs": [
    {
     "data": {
      "text/html": [
       "<div>\n",
       "<style scoped>\n",
       "    .dataframe tbody tr th:only-of-type {\n",
       "        vertical-align: middle;\n",
       "    }\n",
       "\n",
       "    .dataframe tbody tr th {\n",
       "        vertical-align: top;\n",
       "    }\n",
       "\n",
       "    .dataframe thead th {\n",
       "        text-align: right;\n",
       "    }\n",
       "</style>\n",
       "<table border=\"1\" class=\"dataframe\">\n",
       "  <thead>\n",
       "    <tr style=\"text-align: right;\">\n",
       "      <th></th>\n",
       "      <th>doc_body</th>\n",
       "      <th>doc_description</th>\n",
       "      <th>doc_full_name</th>\n",
       "      <th>doc_status</th>\n",
       "      <th>article_id</th>\n",
       "    </tr>\n",
       "  </thead>\n",
       "  <tbody>\n",
       "    <tr>\n",
       "      <th>0</th>\n",
       "      <td>Skip navigation Sign in SearchLoading...\\r\\n\\r...</td>\n",
       "      <td>Detect bad readings in real time using Python ...</td>\n",
       "      <td>Detect Malfunctioning IoT Sensors with Streami...</td>\n",
       "      <td>Live</td>\n",
       "      <td>0</td>\n",
       "    </tr>\n",
       "    <tr>\n",
       "      <th>1</th>\n",
       "      <td>No Free Hunch Navigation * kaggle.com\\r\\n\\r\\n ...</td>\n",
       "      <td>See the forest, see the trees. Here lies the c...</td>\n",
       "      <td>Communicating data science: A guide to present...</td>\n",
       "      <td>Live</td>\n",
       "      <td>1</td>\n",
       "    </tr>\n",
       "    <tr>\n",
       "      <th>2</th>\n",
       "      <td>☰ * Login\\r\\n * Sign Up\\r\\n\\r\\n * Learning Pat...</td>\n",
       "      <td>Here’s this week’s news in Data Science and Bi...</td>\n",
       "      <td>This Week in Data Science (April 18, 2017)</td>\n",
       "      <td>Live</td>\n",
       "      <td>2</td>\n",
       "    </tr>\n",
       "    <tr>\n",
       "      <th>3</th>\n",
       "      <td>DATALAYER: HIGH THROUGHPUT, LOW LATENCY AT SCA...</td>\n",
       "      <td>Learn how distributed DBs solve the problem of...</td>\n",
       "      <td>DataLayer Conference: Boost the performance of...</td>\n",
       "      <td>Live</td>\n",
       "      <td>3</td>\n",
       "    </tr>\n",
       "    <tr>\n",
       "      <th>4</th>\n",
       "      <td>Skip navigation Sign in SearchLoading...\\r\\n\\r...</td>\n",
       "      <td>This video demonstrates the power of IBM DataS...</td>\n",
       "      <td>Analyze NY Restaurant data using Spark in DSX</td>\n",
       "      <td>Live</td>\n",
       "      <td>4</td>\n",
       "    </tr>\n",
       "  </tbody>\n",
       "</table>\n",
       "</div>"
      ],
      "text/plain": [
       "                                            doc_body  \\\n",
       "0  Skip navigation Sign in SearchLoading...\\r\\n\\r...   \n",
       "1  No Free Hunch Navigation * kaggle.com\\r\\n\\r\\n ...   \n",
       "2  ☰ * Login\\r\\n * Sign Up\\r\\n\\r\\n * Learning Pat...   \n",
       "3  DATALAYER: HIGH THROUGHPUT, LOW LATENCY AT SCA...   \n",
       "4  Skip navigation Sign in SearchLoading...\\r\\n\\r...   \n",
       "\n",
       "                                     doc_description  \\\n",
       "0  Detect bad readings in real time using Python ...   \n",
       "1  See the forest, see the trees. Here lies the c...   \n",
       "2  Here’s this week’s news in Data Science and Bi...   \n",
       "3  Learn how distributed DBs solve the problem of...   \n",
       "4  This video demonstrates the power of IBM DataS...   \n",
       "\n",
       "                                       doc_full_name doc_status  article_id  \n",
       "0  Detect Malfunctioning IoT Sensors with Streami...       Live           0  \n",
       "1  Communicating data science: A guide to present...       Live           1  \n",
       "2         This Week in Data Science (April 18, 2017)       Live           2  \n",
       "3  DataLayer Conference: Boost the performance of...       Live           3  \n",
       "4      Analyze NY Restaurant data using Spark in DSX       Live           4  "
      ]
     },
     "execution_count": 397,
     "metadata": {},
     "output_type": "execute_result"
    }
   ],
   "source": [
    "# Showing df_content to get an idea of the data\n",
    "df_content.head()\n"
   ]
  },
  {
   "cell_type": "markdown",
   "metadata": {},
   "source": [
    "### <a class=\"anchor\" id=\"Exploratory-Data-Analysis\">Part I : Exploratory Data Analysis</a>\n",
    "\n",
    "Use the dictionary and cells below to provide some insight into the descriptive statistics of the data.\n",
    "\n",
    "`1.` What is the distribution of how many articles a user interacts with in the dataset?  Provide a visual and descriptive statistics to assist with giving a look at the number of times each user interacts with an article.  "
   ]
  },
  {
   "cell_type": "markdown",
   "metadata": {},
   "source": [
    "#### Exploring data frame \"df\""
   ]
  },
  {
   "cell_type": "code",
   "execution_count": 398,
   "metadata": {},
   "outputs": [
    {
     "data": {
      "text/plain": [
       "(45993, 3)"
      ]
     },
     "execution_count": 398,
     "metadata": {},
     "output_type": "execute_result"
    }
   ],
   "source": [
    "# Checking the shape of the data frame\n",
    "df.shape\n"
   ]
  },
  {
   "cell_type": "code",
   "execution_count": 399,
   "metadata": {
    "scrolled": true
   },
   "outputs": [
    {
     "data": {
      "text/plain": [
       "article_id    float64\n",
       "title          object\n",
       "email          object\n",
       "dtype: object"
      ]
     },
     "execution_count": 399,
     "metadata": {},
     "output_type": "execute_result"
    }
   ],
   "source": [
    "# Checking the dtype of the dataframe\n",
    "df.dtypes\n"
   ]
  },
  {
   "cell_type": "code",
   "execution_count": 400,
   "metadata": {},
   "outputs": [
    {
     "data": {
      "text/plain": [
       "article_id     0\n",
       "title          0\n",
       "email         17\n",
       "dtype: int64"
      ]
     },
     "execution_count": 400,
     "metadata": {},
     "output_type": "execute_result"
    }
   ],
   "source": [
    "# Checking the number of missing values\n",
    "df.isnull().sum()\n"
   ]
  },
  {
   "cell_type": "code",
   "execution_count": 401,
   "metadata": {
    "scrolled": true
   },
   "outputs": [
    {
     "name": "stdout",
     "output_type": "stream",
     "text": [
      "Number of unique values of column \"email\": 5148\n",
      "Number of unique values of column \"title\": 714\n"
     ]
    }
   ],
   "source": [
    "# Checking number of unique values for each column\n",
    "print('Number of unique values of column \"{}\":'.format(df.columns[2]), df['email'].nunique())\n",
    "print('Number of unique values of column \"{}\":'.format(df.columns[1]), df['title'].nunique())\n"
   ]
  },
  {
   "cell_type": "code",
   "execution_count": 402,
   "metadata": {
    "scrolled": true
   },
   "outputs": [
    {
     "data": {
      "text/plain": [
       "email\n",
       "0000b6387a0366322d7fbfc6434af145adf7fed1    13\n",
       "001055fc0bb67f71e8fa17002342b256a30254cd     4\n",
       "00148e4911c7e04eeff8def7bbbdaf1c59c2c621     3\n",
       "001a852ecbd6cc12ab77a785efa137b2646505fe     6\n",
       "001fc95b90da5c3cb12c501d201a915e4f093290     2\n",
       "0042719415c4fca7d30bd2d4e9d17c5fc570de13     2\n",
       "00772abe2d0b269b2336fc27f0f4d7cb1d2b65d7     3\n",
       "008ba1d5b4ebf54babf516a2d5aa43e184865da5    10\n",
       "008ca24b82c41d513b3799d09ae276d37f92ce72     1\n",
       "008dfc7a327b5186244caec48e0ab61610a0c660    13\n",
       "009af4e0537378bf8e8caf0ad0e2994f954d822e     1\n",
       "00bda305223d05f6df5d77de41abd2a0c7d895fe     4\n",
       "00c2d5190e8c6b821b0e3848bf56f6e47e428994     3\n",
       "00ced21f957bbcee5edf7b107b2bd05628b04774     4\n",
       "00d9337ecd5f70fba1c4c7a78e21b3532e0112c4     3\n",
       "00e524e4f13137a6fac54f9c71d7769c6507ecde    11\n",
       "00f8341cbecd6af00ba8c78b3bb6ec49adf83248     3\n",
       "00f946b14100f0605fa25089437ee9486378872c     1\n",
       "01041260c97ab9221d923b0a2c525437f148d589     2\n",
       "0108ce3220657a9a89a85bdec959b0f2976dd51c     4\n",
       "011455e91a24c1fb815a4deac6b6eaf5ad16819e     9\n",
       "01198c58d684d79c9026abe355cfb532cb524dc5     1\n",
       "011ae4de07ffb332b0f51c155a35c23c80294962    35\n",
       "011fcfb582be9534e9a275336f7e7c3717100381    11\n",
       "0129dfcdb701b6e1d309934be6393004c6683a2d    15\n",
       "01327bbc4fd7bfe8ad62e599453d2876b928e725     3\n",
       "01455f0ab0a5a22a93d94ad35f6e78431aa90625     7\n",
       "014dedab269f1453c647598c92a3fa37b39eed97     2\n",
       "014e4fe6e6c5eb3fe5ca0b16c16fb4599df6375c     1\n",
       "01560f88312a91894d254e6406c25df19f0ad5e8    11\n",
       "                                            ..\n",
       "fe5396e3762c36767c9c915f7ed1731691d7e4b4     1\n",
       "fe5480ff15f0ac51eeb2314a192351f168d7aad7     1\n",
       "fe56a49b62752708ed2f6e30677c57881f7b78d1    15\n",
       "fe5885b80e91be887510a0b6dd04e011178d6364     3\n",
       "fe5f9d7528518e00b0a73c7a3994afc335496961     3\n",
       "fe66aa534c7824eca663b84b99a437a98a9b026e     2\n",
       "fe69c72c964a8346dbc7763309c4e07d818d360f     4\n",
       "fe88d1f683f308b32fb3d7554f007cc55cc48df5     1\n",
       "fe8c1cb974e39d8ea8c005044e927b3f0de8acd0     3\n",
       "fe90d98b0287090fe8e653bafba6ed3eff19331e     1\n",
       "fe9327be39fd457df70e83d3fc8cba9b8b3f95b1     1\n",
       "feaea388105a4ccc48795b191bbf0c26a23b1356     4\n",
       "fef0c6be3a2ed226e1fb8a811b0ee68a389f6f3c    13\n",
       "fef28e45f7217026b2684d1783a2e18b061bdffb     3\n",
       "fef3bc88def1aa787c99957ded7d5b2c0edc040e     4\n",
       "ff27ffd93e21154b8a9cf2722f2cc0f75dc39eff     1\n",
       "ff288722b76eba5209cdbf9158c6dfbf229b9129     1\n",
       "ff452614b91f4c9bd965150b1a82e7bf18f59334     2\n",
       "ff4d3e1c359cfbb73bcae07fa1eb62c45da2b161     3\n",
       "ff55d0c0b2a4f56aae87c2a21afb7070ab34383d     1\n",
       "ff6e82c763fe2443643e48a03e239eb635f406dc    14\n",
       "ff7a0f59ba022102ad22981141a7182c4d8273c3     7\n",
       "ff833869969184d86f870f98405e7988eccc2309     9\n",
       "ff979e07f9d906a32ba35a9b75fd9585f6306dbc    38\n",
       "ffaefa3a1bc2d074d9a14c9924d4e67a46c35410     1\n",
       "ffc6cfa435937ca0df967b44e9178439d04e3537     2\n",
       "ffc96f8fbb35aac4cb0029332b0fc78e7766bb5d     4\n",
       "ffe3d0543c9046d35c2ee3724ea9d774dff98a32    32\n",
       "fff9fc3ec67bd18ed57a34ed1e67410942c4cd81    10\n",
       "fffb93a166547448a0ff0232558118d59395fecd    13\n",
       "Name: article_id, Length: 5148, dtype: int64"
      ]
     },
     "execution_count": 402,
     "metadata": {},
     "output_type": "execute_result"
    }
   ],
   "source": [
    "# Defining user interactions\n",
    "user_interact = df.groupby('email').count()['article_id']\n",
    "user_interact\n"
   ]
  },
  {
   "cell_type": "code",
   "execution_count": 403,
   "metadata": {},
   "outputs": [],
   "source": [
    "# Calculating the median of users\n",
    "user_med = user_interact.median()\n"
   ]
  },
  {
   "cell_type": "code",
   "execution_count": 477,
   "metadata": {},
   "outputs": [],
   "source": [
    "# Function: Defining function for the plot layout\n",
    "def plot_1():\n",
    "    '''\n",
    "    INPUT:\n",
    "    none\n",
    "    \n",
    "    OUTPUT:\n",
    "    figsize - (plot size) A definition of the plot dimensions\n",
    "    \n",
    "    '''\n",
    "\n",
    "    plt.figure(figsize=(9,6))\n",
    "    "
   ]
  },
  {
   "cell_type": "code",
   "execution_count": 478,
   "metadata": {},
   "outputs": [
    {
     "data": {
      "image/png": "[encoded data removed]",
      "text/plain": [
       "<matplotlib.figure.Figure at 0x7fbb658e95f8>"
      ]
     },
     "metadata": {
      "needs_background": "light"
     },
     "output_type": "display_data"
    }
   ],
   "source": [
    "# Visualisation: Plotting the distribution\n",
    "plot_1() # Function: Defining function for the plot layout \n",
    "plt.hist(user_interact, bins=36, edgecolor='k')\n",
    "plt.title(\"Distribution of Reads by User\")\n",
    "plt.ylabel('Number of Users');\n",
    "plt.xlabel('Number of Reads');\n",
    "plt.axvline(user_med, color='r', label =\"Median value: {}\".format(user_med))\n",
    "plt.legend(loc='best');\n"
   ]
  },
  {
   "cell_type": "code",
   "execution_count": 406,
   "metadata": {},
   "outputs": [
    {
     "data": {
      "text/plain": [
       "count    5148.000000\n",
       "mean        8.930847\n",
       "std        16.802267\n",
       "min         1.000000\n",
       "25%         1.000000\n",
       "50%         3.000000\n",
       "75%         9.000000\n",
       "max       364.000000\n",
       "Name: article_id, dtype: float64"
      ]
     },
     "execution_count": 406,
     "metadata": {},
     "output_type": "execute_result"
    }
   ],
   "source": [
    "# Calculating the descriptive statistics of the user interaction\n",
    "# (50 % is equal to the median)\n",
    "user_interact.describe()\n"
   ]
  },
  {
   "cell_type": "code",
   "execution_count": 407,
   "metadata": {
    "scrolled": true
   },
   "outputs": [
    {
     "name": "stdout",
     "output_type": "stream",
     "text": [
      "1. Median: 50% of individuals interact with 3.0 number of articles or fewer.\n",
      "2. Maximum: The maximum number of user-article interactions by any 1 user is 364.\n"
     ]
    }
   ],
   "source": [
    "# Filling in the median and maximum number of user_article interactios below\n",
    "\n",
    "# 50% of individuals interact with ____ number of articles or fewer.\n",
    "median_val = user_med\n",
    "print('1. Median: 50% of individuals interact with {} number of articles or fewer.'.format(user_med))\n",
    "\n",
    "# The maximum number of user-article interactions by any 1 user is ______.\n",
    "max_views_by_user = np.max(user_interact)\n",
    "print('2. Maximum: The maximum number of user-article interactions by any 1 user is {}.'.format(max_views_by_user))\n"
   ]
  },
  {
   "cell_type": "markdown",
   "metadata": {},
   "source": [
    "`2.` Explore and remove duplicate articles from the **df_content** dataframe.  "
   ]
  },
  {
   "cell_type": "markdown",
   "metadata": {},
   "source": [
    "#### Exploring data frame \"df_content\""
   ]
  },
  {
   "cell_type": "code",
   "execution_count": 408,
   "metadata": {},
   "outputs": [
    {
     "data": {
      "text/plain": [
       "(1056, 5)"
      ]
     },
     "execution_count": 408,
     "metadata": {},
     "output_type": "execute_result"
    }
   ],
   "source": [
    "# Checking the shape of the data frame\n",
    "df_content.shape\n"
   ]
  },
  {
   "cell_type": "code",
   "execution_count": 409,
   "metadata": {
    "scrolled": true
   },
   "outputs": [
    {
     "data": {
      "text/plain": [
       "doc_body           object\n",
       "doc_description    object\n",
       "doc_full_name      object\n",
       "doc_status         object\n",
       "article_id          int64\n",
       "dtype: object"
      ]
     },
     "execution_count": 409,
     "metadata": {},
     "output_type": "execute_result"
    }
   ],
   "source": [
    "# Checking the dtype of the dataframe\n",
    "df_content.dtypes\n"
   ]
  },
  {
   "cell_type": "code",
   "execution_count": 410,
   "metadata": {},
   "outputs": [
    {
     "data": {
      "text/html": [
       "<div>\n",
       "<style scoped>\n",
       "    .dataframe tbody tr th:only-of-type {\n",
       "        vertical-align: middle;\n",
       "    }\n",
       "\n",
       "    .dataframe tbody tr th {\n",
       "        vertical-align: top;\n",
       "    }\n",
       "\n",
       "    .dataframe thead th {\n",
       "        text-align: right;\n",
       "    }\n",
       "</style>\n",
       "<table border=\"1\" class=\"dataframe\">\n",
       "  <thead>\n",
       "    <tr style=\"text-align: right;\">\n",
       "      <th></th>\n",
       "      <th>doc_body</th>\n",
       "      <th>doc_description</th>\n",
       "      <th>doc_full_name</th>\n",
       "      <th>doc_status</th>\n",
       "      <th>article_id</th>\n",
       "    </tr>\n",
       "  </thead>\n",
       "  <tbody>\n",
       "    <tr>\n",
       "      <th>50</th>\n",
       "      <td>Follow Sign in / Sign up Home About Insight Da...</td>\n",
       "      <td>Community Detection at Scale</td>\n",
       "      <td>Graph-based machine learning</td>\n",
       "      <td>Live</td>\n",
       "      <td>50</td>\n",
       "    </tr>\n",
       "    <tr>\n",
       "      <th>221</th>\n",
       "      <td>* United States\\r\\n\\r\\nIBM® * Site map\\r\\n\\r\\n...</td>\n",
       "      <td>When used to make sense of huge amounts of con...</td>\n",
       "      <td>How smart catalogs can turn the big data flood...</td>\n",
       "      <td>Live</td>\n",
       "      <td>221</td>\n",
       "    </tr>\n",
       "    <tr>\n",
       "      <th>232</th>\n",
       "      <td>Homepage Follow Sign in Get started Homepage *...</td>\n",
       "      <td>If you are like most data scientists, you are ...</td>\n",
       "      <td>Self-service data preparation with IBM Data Re...</td>\n",
       "      <td>Live</td>\n",
       "      <td>232</td>\n",
       "    </tr>\n",
       "    <tr>\n",
       "      <th>365</th>\n",
       "      <td>Follow Sign in / Sign up Home About Insight Da...</td>\n",
       "      <td>During the seven-week Insight Data Engineering...</td>\n",
       "      <td>Graph-based machine learning</td>\n",
       "      <td>Live</td>\n",
       "      <td>50</td>\n",
       "    </tr>\n",
       "    <tr>\n",
       "      <th>399</th>\n",
       "      <td>Homepage Follow Sign in Get started * Home\\r\\n...</td>\n",
       "      <td>Today’s world of data science leverages data f...</td>\n",
       "      <td>Using Apache Spark as a parallel processing fr...</td>\n",
       "      <td>Live</td>\n",
       "      <td>398</td>\n",
       "    </tr>\n",
       "    <tr>\n",
       "      <th>578</th>\n",
       "      <td>This video shows you how to construct queries ...</td>\n",
       "      <td>This video shows you how to construct queries ...</td>\n",
       "      <td>Use the Primary Index</td>\n",
       "      <td>Live</td>\n",
       "      <td>577</td>\n",
       "    </tr>\n",
       "    <tr>\n",
       "      <th>692</th>\n",
       "      <td>Homepage Follow Sign in / Sign up Homepage * H...</td>\n",
       "      <td>One of the earliest documented catalogs was co...</td>\n",
       "      <td>How smart catalogs can turn the big data flood...</td>\n",
       "      <td>Live</td>\n",
       "      <td>221</td>\n",
       "    </tr>\n",
       "    <tr>\n",
       "      <th>761</th>\n",
       "      <td>Homepage Follow Sign in Get started Homepage *...</td>\n",
       "      <td>Today’s world of data science leverages data f...</td>\n",
       "      <td>Using Apache Spark as a parallel processing fr...</td>\n",
       "      <td>Live</td>\n",
       "      <td>398</td>\n",
       "    </tr>\n",
       "    <tr>\n",
       "      <th>970</th>\n",
       "      <td>This video shows you how to construct queries ...</td>\n",
       "      <td>This video shows you how to construct queries ...</td>\n",
       "      <td>Use the Primary Index</td>\n",
       "      <td>Live</td>\n",
       "      <td>577</td>\n",
       "    </tr>\n",
       "    <tr>\n",
       "      <th>971</th>\n",
       "      <td>Homepage Follow Sign in Get started * Home\\r\\n...</td>\n",
       "      <td>If you are like most data scientists, you are ...</td>\n",
       "      <td>Self-service data preparation with IBM Data Re...</td>\n",
       "      <td>Live</td>\n",
       "      <td>232</td>\n",
       "    </tr>\n",
       "  </tbody>\n",
       "</table>\n",
       "</div>"
      ],
      "text/plain": [
       "                                              doc_body  \\\n",
       "50   Follow Sign in / Sign up Home About Insight Da...   \n",
       "221  * United States\\r\\n\\r\\nIBM® * Site map\\r\\n\\r\\n...   \n",
       "232  Homepage Follow Sign in Get started Homepage *...   \n",
       "365  Follow Sign in / Sign up Home About Insight Da...   \n",
       "399  Homepage Follow Sign in Get started * Home\\r\\n...   \n",
       "578  This video shows you how to construct queries ...   \n",
       "692  Homepage Follow Sign in / Sign up Homepage * H...   \n",
       "761  Homepage Follow Sign in Get started Homepage *...   \n",
       "970  This video shows you how to construct queries ...   \n",
       "971  Homepage Follow Sign in Get started * Home\\r\\n...   \n",
       "\n",
       "                                       doc_description  \\\n",
       "50                        Community Detection at Scale   \n",
       "221  When used to make sense of huge amounts of con...   \n",
       "232  If you are like most data scientists, you are ...   \n",
       "365  During the seven-week Insight Data Engineering...   \n",
       "399  Today’s world of data science leverages data f...   \n",
       "578  This video shows you how to construct queries ...   \n",
       "692  One of the earliest documented catalogs was co...   \n",
       "761  Today’s world of data science leverages data f...   \n",
       "970  This video shows you how to construct queries ...   \n",
       "971  If you are like most data scientists, you are ...   \n",
       "\n",
       "                                         doc_full_name doc_status  article_id  \n",
       "50                        Graph-based machine learning       Live          50  \n",
       "221  How smart catalogs can turn the big data flood...       Live         221  \n",
       "232  Self-service data preparation with IBM Data Re...       Live         232  \n",
       "365                       Graph-based machine learning       Live          50  \n",
       "399  Using Apache Spark as a parallel processing fr...       Live         398  \n",
       "578                              Use the Primary Index       Live         577  \n",
       "692  How smart catalogs can turn the big data flood...       Live         221  \n",
       "761  Using Apache Spark as a parallel processing fr...       Live         398  \n",
       "970                              Use the Primary Index       Live         577  \n",
       "971  Self-service data preparation with IBM Data Re...       Live         232  "
      ]
     },
     "execution_count": 410,
     "metadata": {},
     "output_type": "execute_result"
    }
   ],
   "source": [
    "# Finding and exploring duplicate articles\n",
    "df_content[df_content.duplicated(subset='article_id', keep=False)]\n"
   ]
  },
  {
   "cell_type": "code",
   "execution_count": 411,
   "metadata": {},
   "outputs": [
    {
     "data": {
      "text/plain": [
       "doc_body           5\n",
       "doc_description    5\n",
       "doc_full_name      5\n",
       "doc_status         5\n",
       "article_id         5\n",
       "dtype: int64"
      ]
     },
     "execution_count": 411,
     "metadata": {},
     "output_type": "execute_result"
    }
   ],
   "source": [
    "# Counting duplicate articles\n",
    "df_content[df_content[\"article_id\"].duplicated()].count()\n"
   ]
  },
  {
   "cell_type": "code",
   "execution_count": 412,
   "metadata": {},
   "outputs": [],
   "source": [
    "# Removing any rows that have the same article_id - only keep the first\n",
    "df_content.drop_duplicates(subset='article_id', inplace=True, keep='first')\n"
   ]
  },
  {
   "cell_type": "code",
   "execution_count": 413,
   "metadata": {
    "scrolled": true
   },
   "outputs": [
    {
     "data": {
      "text/plain": [
       "doc_body           0\n",
       "doc_description    0\n",
       "doc_full_name      0\n",
       "doc_status         0\n",
       "article_id         0\n",
       "dtype: int64"
      ]
     },
     "execution_count": 413,
     "metadata": {},
     "output_type": "execute_result"
    }
   ],
   "source": [
    "# Counting duplicate articles\n",
    "df_content[df_content[\"article_id\"].duplicated()].count()\n"
   ]
  },
  {
   "cell_type": "markdown",
   "metadata": {},
   "source": [
    "`3.` Use the cells below to find:\n",
    "\n",
    "**a.** The number of unique articles that have an interaction with a user.  \n",
    "**b.** The number of unique articles in the dataset (whether they have any interactions or not).<br>\n",
    "**c.** The number of unique users in the dataset. (excluding null values) <br>\n",
    "**d.** The number of user-article interactions in the dataset."
   ]
  },
  {
   "cell_type": "code",
   "execution_count": 414,
   "metadata": {
    "scrolled": true
   },
   "outputs": [
    {
     "data": {
      "text/plain": [
       "article_id     714\n",
       "title          714\n",
       "email         5148\n",
       "dtype: int64"
      ]
     },
     "execution_count": 414,
     "metadata": {},
     "output_type": "execute_result"
    }
   ],
   "source": [
    "# Showing the unique values of the data frame\n",
    "df.nunique()\n"
   ]
  },
  {
   "cell_type": "code",
   "execution_count": 415,
   "metadata": {},
   "outputs": [
    {
     "name": "stdout",
     "output_type": "stream",
     "text": [
      "a. Number of unique articles with user interaction: 714\n",
      "b. Number of unique articles in the dataset: 1051\n",
      "c. Number of unique users in the dataset: 5148\n",
      "d. Number of unique user-article interaction in the dataset: 45993\n"
     ]
    }
   ],
   "source": [
    "# a. The number of unique articles that have at least one interaction\n",
    "unique_articles = df['title'].nunique()\n",
    "print('a. Number of unique articles with user interaction: {}'.format(unique_articles))\n",
    "\n",
    "# b. The number of unique articles on the IBM platform\n",
    "total_articles = df_content[\"article_id\"].shape[0]\n",
    "print('b. Number of unique articles in the dataset: {}'.format(total_articles))\n",
    "\n",
    "# c. The number of unique users\n",
    "unique_users = df[\"email\"].nunique()\n",
    "print('c. Number of unique users in the dataset: {}'.format(unique_users))\n",
    "\n",
    "# d. The number of user-article interactions\n",
    "user_article_interactions = df.shape[0]\n",
    "print('d. Number of unique user-article interaction in the dataset: {}'.format(user_article_interactions))\n"
   ]
  },
  {
   "cell_type": "markdown",
   "metadata": {},
   "source": [
    "`4.` Use the cells below to find the most viewed **article_id**, as well as how often it was viewed.  After talking to the company leaders, the `email_mapper` function was deemed a reasonable way to map users to ids.  There were a small number of null values, and it was found that all of these null values likely belonged to a single user (which is how they are stored using the function below)."
   ]
  },
  {
   "cell_type": "code",
   "execution_count": 416,
   "metadata": {
    "scrolled": true
   },
   "outputs": [
    {
     "data": {
      "text/html": [
       "<div>\n",
       "<style scoped>\n",
       "    .dataframe tbody tr th:only-of-type {\n",
       "        vertical-align: middle;\n",
       "    }\n",
       "\n",
       "    .dataframe tbody tr th {\n",
       "        vertical-align: top;\n",
       "    }\n",
       "\n",
       "    .dataframe thead th {\n",
       "        text-align: right;\n",
       "    }\n",
       "</style>\n",
       "<table border=\"1\" class=\"dataframe\">\n",
       "  <thead>\n",
       "    <tr style=\"text-align: right;\">\n",
       "      <th></th>\n",
       "      <th>title</th>\n",
       "      <th>email</th>\n",
       "    </tr>\n",
       "    <tr>\n",
       "      <th>article_id</th>\n",
       "      <th></th>\n",
       "      <th></th>\n",
       "    </tr>\n",
       "  </thead>\n",
       "  <tbody>\n",
       "    <tr>\n",
       "      <th>1429.0</th>\n",
       "      <td>937</td>\n",
       "      <td>937</td>\n",
       "    </tr>\n",
       "  </tbody>\n",
       "</table>\n",
       "</div>"
      ],
      "text/plain": [
       "            title  email\n",
       "article_id              \n",
       "1429.0        937    937"
      ]
     },
     "execution_count": 416,
     "metadata": {},
     "output_type": "execute_result"
    }
   ],
   "source": [
    "# Listing the most viewed \"article_id\" counts descented sorted by \"email\"\n",
    "df.groupby(by='article_id').count().sort_values(by='email', ascending=False).iloc[:1]\n"
   ]
  },
  {
   "cell_type": "code",
   "execution_count": 417,
   "metadata": {},
   "outputs": [
    {
     "name": "stdout",
     "output_type": "stream",
     "text": [
      "Most viewed article in the dataset: 1429.0\n",
      "Maximum number of most viewed article in the dataset: 937\n"
     ]
    }
   ],
   "source": [
    "# The most viewed article in the dataset as a string with one value following the decimal\n",
    "most_viewed_article_id = df['article_id'].value_counts().index[0]\n",
    "most_viewed_article_id = most_viewed_article_id.astype(str)\n",
    "print('Most viewed article in the dataset: {}'.format(most_viewed_article_id))\n",
    "\n",
    "# The most viewed article in the dataset was viewed how many times?\n",
    "max_id = most_viewed_article_id.strip('.0')\n",
    "max_id = pd.to_numeric(max_id)\n",
    "max_views = df['article_id'].value_counts()[max_id]\n",
    "print('Maximum number of most viewed article in the dataset: {}'.format(max_views))\n"
   ]
  },
  {
   "cell_type": "code",
   "execution_count": 418,
   "metadata": {},
   "outputs": [
    {
     "data": {
      "text/html": [
       "<div>\n",
       "<style scoped>\n",
       "    .dataframe tbody tr th:only-of-type {\n",
       "        vertical-align: middle;\n",
       "    }\n",
       "\n",
       "    .dataframe tbody tr th {\n",
       "        vertical-align: top;\n",
       "    }\n",
       "\n",
       "    .dataframe thead th {\n",
       "        text-align: right;\n",
       "    }\n",
       "</style>\n",
       "<table border=\"1\" class=\"dataframe\">\n",
       "  <thead>\n",
       "    <tr style=\"text-align: right;\">\n",
       "      <th></th>\n",
       "      <th>article_id</th>\n",
       "      <th>title</th>\n",
       "      <th>user_id</th>\n",
       "    </tr>\n",
       "  </thead>\n",
       "  <tbody>\n",
       "    <tr>\n",
       "      <th>0</th>\n",
       "      <td>1430.0</td>\n",
       "      <td>using pixiedust for fast, flexible, and easier...</td>\n",
       "      <td>1</td>\n",
       "    </tr>\n",
       "    <tr>\n",
       "      <th>1</th>\n",
       "      <td>1314.0</td>\n",
       "      <td>healthcare python streaming application demo</td>\n",
       "      <td>2</td>\n",
       "    </tr>\n",
       "    <tr>\n",
       "      <th>2</th>\n",
       "      <td>1429.0</td>\n",
       "      <td>use deep learning for image classification</td>\n",
       "      <td>3</td>\n",
       "    </tr>\n",
       "    <tr>\n",
       "      <th>3</th>\n",
       "      <td>1338.0</td>\n",
       "      <td>ml optimization using cognitive assistant</td>\n",
       "      <td>4</td>\n",
       "    </tr>\n",
       "    <tr>\n",
       "      <th>4</th>\n",
       "      <td>1276.0</td>\n",
       "      <td>deploy your python model as a restful api</td>\n",
       "      <td>5</td>\n",
       "    </tr>\n",
       "  </tbody>\n",
       "</table>\n",
       "</div>"
      ],
      "text/plain": [
       "   article_id                                              title  user_id\n",
       "0      1430.0  using pixiedust for fast, flexible, and easier...        1\n",
       "1      1314.0       healthcare python streaming application demo        2\n",
       "2      1429.0         use deep learning for image classification        3\n",
       "3      1338.0          ml optimization using cognitive assistant        4\n",
       "4      1276.0          deploy your python model as a restful api        5"
      ]
     },
     "execution_count": 418,
     "metadata": {},
     "output_type": "execute_result"
    }
   ],
   "source": [
    "## No need to change the code here - this will be helpful for later parts of the notebook\n",
    "# Run this cell to map the user email to a user_id column and remove the email column\n",
    "\n",
    "def email_mapper():\n",
    "    coded_dict = dict()\n",
    "    cter = 1\n",
    "    email_encoded = []\n",
    "    \n",
    "    for val in df['email']:\n",
    "        if val not in coded_dict:\n",
    "            coded_dict[val] = cter\n",
    "            cter+=1\n",
    "        \n",
    "        email_encoded.append(coded_dict[val])\n",
    "    return email_encoded\n",
    "\n",
    "email_encoded = email_mapper()\n",
    "del df['email']\n",
    "df['user_id'] = email_encoded\n",
    "\n",
    "# show header\n",
    "df.head()\n"
   ]
  },
  {
   "cell_type": "code",
   "execution_count": 419,
   "metadata": {},
   "outputs": [
    {
     "name": "stdout",
     "output_type": "stream",
     "text": [
      "It looks like you have everything right here! Nice job!\n"
     ]
    }
   ],
   "source": [
    "## If you stored all your results in the variable names above, \n",
    "## you shouldn't need to change anything in this cell\n",
    "\n",
    "sol_1_dict = {\n",
    "    '`50% of individuals have _____ or fewer interactions.`': median_val,\n",
    "    '`The total number of user-article interactions in the dataset is ______.`': user_article_interactions,\n",
    "    '`The maximum number of user-article interactions by any 1 user is ______.`': max_views_by_user,\n",
    "    '`The most viewed article in the dataset was viewed _____ times.`': max_views,\n",
    "    '`The article_id of the most viewed article is ______.`': most_viewed_article_id,\n",
    "    '`The number of unique articles that have at least 1 rating ______.`': unique_articles,\n",
    "    '`The number of unique users in the dataset is ______`': unique_users,\n",
    "    '`The number of unique articles on the IBM platform`': total_articles\n",
    "}\n",
    "\n",
    "# Test your dictionary against the solution\n",
    "t.sol_1_test(sol_1_dict)"
   ]
  },
  {
   "cell_type": "markdown",
   "metadata": {},
   "source": [
    "### <a class=\"anchor\" id=\"Rank\">Part II: Rank-Based Recommendations</a>\n",
    "\n",
    "Unlike in the earlier lessons, we don't actually have ratings for whether a user liked an article or not.  We only know that a user has interacted with an article.  In these cases, the popularity of an article can really only be based on how often an article was interacted with.\n",
    "\n",
    "`1.` Fill in the function below to return the **n** top articles ordered with most interactions as the top. Test your function using the tests below."
   ]
  },
  {
   "cell_type": "code",
   "execution_count": 420,
   "metadata": {},
   "outputs": [],
   "source": [
    "# Defining a new column to count the interactions\n",
    "df['ranking'] = df['article_id'].map(df['article_id'].value_counts())\n"
   ]
  },
  {
   "cell_type": "code",
   "execution_count": 421,
   "metadata": {
    "scrolled": true
   },
   "outputs": [
    {
     "data": {
      "text/html": [
       "<div>\n",
       "<style scoped>\n",
       "    .dataframe tbody tr th:only-of-type {\n",
       "        vertical-align: middle;\n",
       "    }\n",
       "\n",
       "    .dataframe tbody tr th {\n",
       "        vertical-align: top;\n",
       "    }\n",
       "\n",
       "    .dataframe thead th {\n",
       "        text-align: right;\n",
       "    }\n",
       "</style>\n",
       "<table border=\"1\" class=\"dataframe\">\n",
       "  <thead>\n",
       "    <tr style=\"text-align: right;\">\n",
       "      <th></th>\n",
       "      <th>article_id</th>\n",
       "      <th>title</th>\n",
       "      <th>user_id</th>\n",
       "      <th>ranking</th>\n",
       "    </tr>\n",
       "  </thead>\n",
       "  <tbody>\n",
       "    <tr>\n",
       "      <th>15728</th>\n",
       "      <td>1429.0</td>\n",
       "      <td>use deep learning for image classification</td>\n",
       "      <td>72</td>\n",
       "      <td>937</td>\n",
       "    </tr>\n",
       "    <tr>\n",
       "      <th>20263</th>\n",
       "      <td>1429.0</td>\n",
       "      <td>use deep learning for image classification</td>\n",
       "      <td>296</td>\n",
       "      <td>937</td>\n",
       "    </tr>\n",
       "    <tr>\n",
       "      <th>40328</th>\n",
       "      <td>1429.0</td>\n",
       "      <td>use deep learning for image classification</td>\n",
       "      <td>4516</td>\n",
       "      <td>937</td>\n",
       "    </tr>\n",
       "  </tbody>\n",
       "</table>\n",
       "</div>"
      ],
      "text/plain": [
       "       article_id                                       title  user_id  \\\n",
       "15728      1429.0  use deep learning for image classification       72   \n",
       "20263      1429.0  use deep learning for image classification      296   \n",
       "40328      1429.0  use deep learning for image classification     4516   \n",
       "\n",
       "       ranking  \n",
       "15728      937  \n",
       "20263      937  \n",
       "40328      937  "
      ]
     },
     "execution_count": 421,
     "metadata": {},
     "output_type": "execute_result"
    }
   ],
   "source": [
    "# Sorting values based on the new column\n",
    "df_n_top = df.sort_values(by='ranking', ascending=False)\n",
    "df_n_top.head(3)\n"
   ]
  },
  {
   "cell_type": "code",
   "execution_count": 422,
   "metadata": {},
   "outputs": [
    {
     "data": {
      "text/plain": [
       "article_id    45279\n",
       "title         45279\n",
       "user_id       45279\n",
       "ranking       45279\n",
       "dtype: int64"
      ]
     },
     "execution_count": 422,
     "metadata": {},
     "output_type": "execute_result"
    }
   ],
   "source": [
    "# Counting duplicates\n",
    "df_n_top[df_n_top[\"article_id\"].duplicated()].count()\n"
   ]
  },
  {
   "cell_type": "code",
   "execution_count": 423,
   "metadata": {
    "scrolled": false
   },
   "outputs": [
    {
     "data": {
      "text/html": [
       "<div>\n",
       "<style scoped>\n",
       "    .dataframe tbody tr th:only-of-type {\n",
       "        vertical-align: middle;\n",
       "    }\n",
       "\n",
       "    .dataframe tbody tr th {\n",
       "        vertical-align: top;\n",
       "    }\n",
       "\n",
       "    .dataframe thead th {\n",
       "        text-align: right;\n",
       "    }\n",
       "</style>\n",
       "<table border=\"1\" class=\"dataframe\">\n",
       "  <thead>\n",
       "    <tr style=\"text-align: right;\">\n",
       "      <th></th>\n",
       "      <th>article_id</th>\n",
       "      <th>title</th>\n",
       "      <th>user_id</th>\n",
       "      <th>ranking</th>\n",
       "    </tr>\n",
       "  </thead>\n",
       "  <tbody>\n",
       "    <tr>\n",
       "      <th>15728</th>\n",
       "      <td>1429.0</td>\n",
       "      <td>use deep learning for image classification</td>\n",
       "      <td>72</td>\n",
       "      <td>937</td>\n",
       "    </tr>\n",
       "    <tr>\n",
       "      <th>41229</th>\n",
       "      <td>1330.0</td>\n",
       "      <td>insights from new york car accident reports</td>\n",
       "      <td>4637</td>\n",
       "      <td>927</td>\n",
       "    </tr>\n",
       "    <tr>\n",
       "      <th>6078</th>\n",
       "      <td>1431.0</td>\n",
       "      <td>visualize car data with brunel</td>\n",
       "      <td>1427</td>\n",
       "      <td>671</td>\n",
       "    </tr>\n",
       "  </tbody>\n",
       "</table>\n",
       "</div>"
      ],
      "text/plain": [
       "       article_id                                        title  user_id  \\\n",
       "15728      1429.0   use deep learning for image classification       72   \n",
       "41229      1330.0  insights from new york car accident reports     4637   \n",
       "6078       1431.0               visualize car data with brunel     1427   \n",
       "\n",
       "       ranking  \n",
       "15728      937  \n",
       "41229      927  \n",
       "6078       671  "
      ]
     },
     "execution_count": 423,
     "metadata": {},
     "output_type": "execute_result"
    }
   ],
   "source": [
    "# Dropping the duplicate \"article_id\"\n",
    "df_n_top = df_n_top.drop_duplicates(subset='article_id')\n",
    "df_n_top.head(3)\n"
   ]
  },
  {
   "cell_type": "code",
   "execution_count": 424,
   "metadata": {},
   "outputs": [
    {
     "data": {
      "text/plain": [
       "article_id    0\n",
       "title         0\n",
       "user_id       0\n",
       "ranking       0\n",
       "dtype: int64"
      ]
     },
     "execution_count": 424,
     "metadata": {},
     "output_type": "execute_result"
    }
   ],
   "source": [
    "# Counting duplicates\n",
    "df_n_top[df_n_top[\"article_id\"].duplicated()].count()\n"
   ]
  },
  {
   "cell_type": "code",
   "execution_count": 425,
   "metadata": {
    "scrolled": false
   },
   "outputs": [
    {
     "data": {
      "text/plain": [
       "['use deep learning for image classification',\n",
       " 'insights from new york car accident reports',\n",
       " 'visualize car data with brunel',\n",
       " 'use xgboost, scikit-learn & ibm watson machine learning apis',\n",
       " 'predicting churn with the spss random tree algorithm',\n",
       " 'healthcare python streaming application demo']"
      ]
     },
     "execution_count": 425,
     "metadata": {},
     "output_type": "execute_result"
    }
   ],
   "source": [
    "# Creating a list of n-top interactions \n",
    "n = 6 # Defining variable value\n",
    "df_n_top.iloc[:n, :]['title'].tolist()\n"
   ]
  },
  {
   "cell_type": "code",
   "execution_count": 426,
   "metadata": {},
   "outputs": [],
   "source": [
    "# Function: Defining function to get the top articles\n",
    "def get_top_articles(n, df=df):\n",
    "    '''\n",
    "    INPUT:\n",
    "    n - (int) the number of top articles to return\n",
    "    df - (pandas dataframe) df as defined at the top of the notebook \n",
    "    \n",
    "    OUTPUT:\n",
    "    top_articles - (list) A list of the top 'n' article titles \n",
    "    \n",
    "    '''\n",
    "    # Your code here\n",
    "    #\n",
    "    \n",
    "    # Defining a new column to count the interactions\n",
    "    df['ranking'] = df['article_id'].map(df['article_id'].value_counts())\n",
    "\n",
    "    # Sorting values based on the new column\n",
    "    df_n_top = df.sort_values(by='ranking', ascending=False)\n",
    "    \n",
    "    # Dropping the duplicate \"article_id\"\n",
    "    df_n_top = df_n_top.drop_duplicates(subset='article_id')\n",
    "\n",
    "    # Creating a list of n-top interactions \n",
    "    top_articles = df_n_top.iloc[:n, :]['title'].tolist()\n",
    "    \n",
    "    return top_articles # Return the top article titles from df (not df_content)\n",
    "\n",
    "\n",
    "# Function: Defining function to get the top articles id´s\n",
    "def get_top_article_ids(n, df=df):\n",
    "    '''\n",
    "    INPUT:\n",
    "    n - (int) the number of top articles to return\n",
    "    df - (pandas dataframe) df as defined at the top of the notebook \n",
    "    \n",
    "    OUTPUT:\n",
    "    top_article_ids - (list) A list of the top 'n' article id´s \n",
    "    \n",
    "    '''\n",
    "    # Your code here\n",
    "    #\n",
    "    \n",
    "    # Defining a new column to count the interactions\n",
    "    df['ranking'] = df['article_id'].map(df['article_id'].value_counts())\n",
    "\n",
    "    # Sorting values based on the new column\n",
    "    df_n_top = df.sort_values(by='ranking', ascending=False)\n",
    "    \n",
    "    # Dropping the duplicate \"article_id\"\n",
    "    df_n_top = df_n_top.drop_duplicates(subset='article_id')\n",
    "\n",
    "    # Creating a list of n-top interactions \n",
    "    top_article_ids = df_n_top.iloc[:n, :]['article_id'].tolist()\n",
    " \n",
    "    return top_article_ids # Return the top article ids\n"
   ]
  },
  {
   "cell_type": "code",
   "execution_count": 427,
   "metadata": {},
   "outputs": [
    {
     "name": "stdout",
     "output_type": "stream",
     "text": [
      "['use deep learning for image classification', 'insights from new york car accident reports', 'visualize car data with brunel', 'use xgboost, scikit-learn & ibm watson machine learning apis', 'predicting churn with the spss random tree algorithm', 'healthcare python streaming application demo', 'finding optimal locations of new store using decision optimization', 'apache spark lab, part 1: basic concepts', 'analyze energy consumption in buildings', 'gosales transactions for logistic regression model']\n",
      "[1429.0, 1330.0, 1431.0, 1427.0, 1364.0, 1314.0, 1293.0, 1170.0, 1162.0, 1304.0]\n"
     ]
    }
   ],
   "source": [
    "# Printing the top 10 articles and article ids\n",
    "print(get_top_articles(10))\n",
    "print(get_top_article_ids(10))\n"
   ]
  },
  {
   "cell_type": "code",
   "execution_count": 428,
   "metadata": {},
   "outputs": [
    {
     "name": "stdout",
     "output_type": "stream",
     "text": [
      "Your top_5 looks like the solution list! Nice job.\n",
      "Your top_10 looks like the solution list! Nice job.\n",
      "Your top_20 looks like the solution list! Nice job.\n"
     ]
    }
   ],
   "source": [
    "# Test your function by returning the top 5, 10, and 20 articles\n",
    "top_5 = get_top_articles(5)\n",
    "top_10 = get_top_articles(10)\n",
    "top_20 = get_top_articles(20)\n",
    "\n",
    "# Test each of your three lists from above\n",
    "t.sol_2_test(get_top_articles)"
   ]
  },
  {
   "cell_type": "markdown",
   "metadata": {},
   "source": [
    "### <a class=\"anchor\" id=\"User-User\">Part III: User-User Based Collaborative Filtering</a>\n",
    "\n",
    "\n",
    "`1.` Use the function below to reformat the **df** dataframe to be shaped with users as the rows and articles as the columns.  \n",
    "\n",
    "* Each **user** should only appear in each **row** once.\n",
    "\n",
    "\n",
    "* Each **article** should only show up in one **column**.  \n",
    "\n",
    "\n",
    "* **If a user has interacted with an article, then place a 1 where the user-row meets for that article-column**.  It does not matter how many times a user has interacted with the article, all entries where a user has interacted with an article should be a 1.  \n",
    "\n",
    "\n",
    "* **If a user has not interacted with an item, then place a zero where the user-row meets for that article-column**. \n",
    "\n",
    "Use the tests to make sure the basic structure of your matrix matches what is expected by the solution."
   ]
  },
  {
   "cell_type": "code",
   "execution_count": 429,
   "metadata": {
    "scrolled": true
   },
   "outputs": [
    {
     "data": {
      "text/html": [
       "<div>\n",
       "<style scoped>\n",
       "    .dataframe tbody tr th:only-of-type {\n",
       "        vertical-align: middle;\n",
       "    }\n",
       "\n",
       "    .dataframe tbody tr th {\n",
       "        vertical-align: top;\n",
       "    }\n",
       "\n",
       "    .dataframe thead th {\n",
       "        text-align: right;\n",
       "    }\n",
       "</style>\n",
       "<table border=\"1\" class=\"dataframe\">\n",
       "  <thead>\n",
       "    <tr style=\"text-align: right;\">\n",
       "      <th>article_id</th>\n",
       "      <th>0.0</th>\n",
       "      <th>2.0</th>\n",
       "      <th>4.0</th>\n",
       "      <th>8.0</th>\n",
       "      <th>9.0</th>\n",
       "      <th>12.0</th>\n",
       "      <th>14.0</th>\n",
       "      <th>15.0</th>\n",
       "      <th>16.0</th>\n",
       "      <th>18.0</th>\n",
       "      <th>...</th>\n",
       "      <th>1434.0</th>\n",
       "      <th>1435.0</th>\n",
       "      <th>1436.0</th>\n",
       "      <th>1437.0</th>\n",
       "      <th>1439.0</th>\n",
       "      <th>1440.0</th>\n",
       "      <th>1441.0</th>\n",
       "      <th>1442.0</th>\n",
       "      <th>1443.0</th>\n",
       "      <th>1444.0</th>\n",
       "    </tr>\n",
       "    <tr>\n",
       "      <th>user_id</th>\n",
       "      <th></th>\n",
       "      <th></th>\n",
       "      <th></th>\n",
       "      <th></th>\n",
       "      <th></th>\n",
       "      <th></th>\n",
       "      <th></th>\n",
       "      <th></th>\n",
       "      <th></th>\n",
       "      <th></th>\n",
       "      <th></th>\n",
       "      <th></th>\n",
       "      <th></th>\n",
       "      <th></th>\n",
       "      <th></th>\n",
       "      <th></th>\n",
       "      <th></th>\n",
       "      <th></th>\n",
       "      <th></th>\n",
       "      <th></th>\n",
       "      <th></th>\n",
       "    </tr>\n",
       "  </thead>\n",
       "  <tbody>\n",
       "    <tr>\n",
       "      <th>1</th>\n",
       "      <td>NaN</td>\n",
       "      <td>NaN</td>\n",
       "      <td>NaN</td>\n",
       "      <td>NaN</td>\n",
       "      <td>NaN</td>\n",
       "      <td>NaN</td>\n",
       "      <td>NaN</td>\n",
       "      <td>NaN</td>\n",
       "      <td>NaN</td>\n",
       "      <td>NaN</td>\n",
       "      <td>...</td>\n",
       "      <td>NaN</td>\n",
       "      <td>NaN</td>\n",
       "      <td>1.0</td>\n",
       "      <td>NaN</td>\n",
       "      <td>1.0</td>\n",
       "      <td>NaN</td>\n",
       "      <td>NaN</td>\n",
       "      <td>NaN</td>\n",
       "      <td>NaN</td>\n",
       "      <td>NaN</td>\n",
       "    </tr>\n",
       "    <tr>\n",
       "      <th>2</th>\n",
       "      <td>NaN</td>\n",
       "      <td>NaN</td>\n",
       "      <td>NaN</td>\n",
       "      <td>NaN</td>\n",
       "      <td>NaN</td>\n",
       "      <td>NaN</td>\n",
       "      <td>NaN</td>\n",
       "      <td>NaN</td>\n",
       "      <td>NaN</td>\n",
       "      <td>NaN</td>\n",
       "      <td>...</td>\n",
       "      <td>NaN</td>\n",
       "      <td>NaN</td>\n",
       "      <td>NaN</td>\n",
       "      <td>NaN</td>\n",
       "      <td>NaN</td>\n",
       "      <td>NaN</td>\n",
       "      <td>NaN</td>\n",
       "      <td>NaN</td>\n",
       "      <td>NaN</td>\n",
       "      <td>NaN</td>\n",
       "    </tr>\n",
       "    <tr>\n",
       "      <th>3</th>\n",
       "      <td>NaN</td>\n",
       "      <td>NaN</td>\n",
       "      <td>NaN</td>\n",
       "      <td>NaN</td>\n",
       "      <td>NaN</td>\n",
       "      <td>1.0</td>\n",
       "      <td>NaN</td>\n",
       "      <td>NaN</td>\n",
       "      <td>NaN</td>\n",
       "      <td>NaN</td>\n",
       "      <td>...</td>\n",
       "      <td>NaN</td>\n",
       "      <td>NaN</td>\n",
       "      <td>1.0</td>\n",
       "      <td>NaN</td>\n",
       "      <td>NaN</td>\n",
       "      <td>NaN</td>\n",
       "      <td>NaN</td>\n",
       "      <td>NaN</td>\n",
       "      <td>NaN</td>\n",
       "      <td>NaN</td>\n",
       "    </tr>\n",
       "  </tbody>\n",
       "</table>\n",
       "<p>3 rows × 714 columns</p>\n",
       "</div>"
      ],
      "text/plain": [
       "article_id  0.0     2.0     4.0     8.0     9.0     12.0    14.0    15.0    \\\n",
       "user_id                                                                      \n",
       "1              NaN     NaN     NaN     NaN     NaN     NaN     NaN     NaN   \n",
       "2              NaN     NaN     NaN     NaN     NaN     NaN     NaN     NaN   \n",
       "3              NaN     NaN     NaN     NaN     NaN     1.0     NaN     NaN   \n",
       "\n",
       "article_id  16.0    18.0     ...    1434.0  1435.0  1436.0  1437.0  1439.0  \\\n",
       "user_id                      ...                                             \n",
       "1              NaN     NaN   ...       NaN     NaN     1.0     NaN     1.0   \n",
       "2              NaN     NaN   ...       NaN     NaN     NaN     NaN     NaN   \n",
       "3              NaN     NaN   ...       NaN     NaN     1.0     NaN     NaN   \n",
       "\n",
       "article_id  1440.0  1441.0  1442.0  1443.0  1444.0  \n",
       "user_id                                             \n",
       "1              NaN     NaN     NaN     NaN     NaN  \n",
       "2              NaN     NaN     NaN     NaN     NaN  \n",
       "3              NaN     NaN     NaN     NaN     NaN  \n",
       "\n",
       "[3 rows x 714 columns]"
      ]
     },
     "execution_count": 429,
     "metadata": {},
     "output_type": "execute_result"
    }
   ],
   "source": [
    "# Reformatting rows and columns of the dataframe (unstack function)\n",
    "df_reform = df.groupby(by=['user_id', 'article_id'])[\"title\"].count().unstack()\n",
    "df_reform.head(3)\n"
   ]
  },
  {
   "cell_type": "code",
   "execution_count": 430,
   "metadata": {},
   "outputs": [
    {
     "data": {
      "text/html": [
       "<div>\n",
       "<style scoped>\n",
       "    .dataframe tbody tr th:only-of-type {\n",
       "        vertical-align: middle;\n",
       "    }\n",
       "\n",
       "    .dataframe tbody tr th {\n",
       "        vertical-align: top;\n",
       "    }\n",
       "\n",
       "    .dataframe thead th {\n",
       "        text-align: right;\n",
       "    }\n",
       "</style>\n",
       "<table border=\"1\" class=\"dataframe\">\n",
       "  <thead>\n",
       "    <tr style=\"text-align: right;\">\n",
       "      <th>article_id</th>\n",
       "      <th>0.0</th>\n",
       "      <th>2.0</th>\n",
       "      <th>4.0</th>\n",
       "      <th>8.0</th>\n",
       "      <th>9.0</th>\n",
       "      <th>12.0</th>\n",
       "      <th>14.0</th>\n",
       "      <th>15.0</th>\n",
       "      <th>16.0</th>\n",
       "      <th>18.0</th>\n",
       "      <th>...</th>\n",
       "      <th>1434.0</th>\n",
       "      <th>1435.0</th>\n",
       "      <th>1436.0</th>\n",
       "      <th>1437.0</th>\n",
       "      <th>1439.0</th>\n",
       "      <th>1440.0</th>\n",
       "      <th>1441.0</th>\n",
       "      <th>1442.0</th>\n",
       "      <th>1443.0</th>\n",
       "      <th>1444.0</th>\n",
       "    </tr>\n",
       "    <tr>\n",
       "      <th>user_id</th>\n",
       "      <th></th>\n",
       "      <th></th>\n",
       "      <th></th>\n",
       "      <th></th>\n",
       "      <th></th>\n",
       "      <th></th>\n",
       "      <th></th>\n",
       "      <th></th>\n",
       "      <th></th>\n",
       "      <th></th>\n",
       "      <th></th>\n",
       "      <th></th>\n",
       "      <th></th>\n",
       "      <th></th>\n",
       "      <th></th>\n",
       "      <th></th>\n",
       "      <th></th>\n",
       "      <th></th>\n",
       "      <th></th>\n",
       "      <th></th>\n",
       "      <th></th>\n",
       "    </tr>\n",
       "  </thead>\n",
       "  <tbody>\n",
       "    <tr>\n",
       "      <th>1</th>\n",
       "      <td>0</td>\n",
       "      <td>0</td>\n",
       "      <td>0</td>\n",
       "      <td>0</td>\n",
       "      <td>0</td>\n",
       "      <td>0</td>\n",
       "      <td>0</td>\n",
       "      <td>0</td>\n",
       "      <td>0</td>\n",
       "      <td>0</td>\n",
       "      <td>...</td>\n",
       "      <td>0</td>\n",
       "      <td>0</td>\n",
       "      <td>1</td>\n",
       "      <td>0</td>\n",
       "      <td>1</td>\n",
       "      <td>0</td>\n",
       "      <td>0</td>\n",
       "      <td>0</td>\n",
       "      <td>0</td>\n",
       "      <td>0</td>\n",
       "    </tr>\n",
       "    <tr>\n",
       "      <th>2</th>\n",
       "      <td>0</td>\n",
       "      <td>0</td>\n",
       "      <td>0</td>\n",
       "      <td>0</td>\n",
       "      <td>0</td>\n",
       "      <td>0</td>\n",
       "      <td>0</td>\n",
       "      <td>0</td>\n",
       "      <td>0</td>\n",
       "      <td>0</td>\n",
       "      <td>...</td>\n",
       "      <td>0</td>\n",
       "      <td>0</td>\n",
       "      <td>0</td>\n",
       "      <td>0</td>\n",
       "      <td>0</td>\n",
       "      <td>0</td>\n",
       "      <td>0</td>\n",
       "      <td>0</td>\n",
       "      <td>0</td>\n",
       "      <td>0</td>\n",
       "    </tr>\n",
       "    <tr>\n",
       "      <th>3</th>\n",
       "      <td>0</td>\n",
       "      <td>0</td>\n",
       "      <td>0</td>\n",
       "      <td>0</td>\n",
       "      <td>0</td>\n",
       "      <td>1</td>\n",
       "      <td>0</td>\n",
       "      <td>0</td>\n",
       "      <td>0</td>\n",
       "      <td>0</td>\n",
       "      <td>...</td>\n",
       "      <td>0</td>\n",
       "      <td>0</td>\n",
       "      <td>1</td>\n",
       "      <td>0</td>\n",
       "      <td>0</td>\n",
       "      <td>0</td>\n",
       "      <td>0</td>\n",
       "      <td>0</td>\n",
       "      <td>0</td>\n",
       "      <td>0</td>\n",
       "    </tr>\n",
       "  </tbody>\n",
       "</table>\n",
       "<p>3 rows × 714 columns</p>\n",
       "</div>"
      ],
      "text/plain": [
       "article_id  0.0     2.0     4.0     8.0     9.0     12.0    14.0    15.0    \\\n",
       "user_id                                                                      \n",
       "1                0       0       0       0       0       0       0       0   \n",
       "2                0       0       0       0       0       0       0       0   \n",
       "3                0       0       0       0       0       1       0       0   \n",
       "\n",
       "article_id  16.0    18.0     ...    1434.0  1435.0  1436.0  1437.0  1439.0  \\\n",
       "user_id                      ...                                             \n",
       "1                0       0   ...         0       0       1       0       1   \n",
       "2                0       0   ...         0       0       0       0       0   \n",
       "3                0       0   ...         0       0       1       0       0   \n",
       "\n",
       "article_id  1440.0  1441.0  1442.0  1443.0  1444.0  \n",
       "user_id                                             \n",
       "1                0       0       0       0       0  \n",
       "2                0       0       0       0       0  \n",
       "3                0       0       0       0       0  \n",
       "\n",
       "[3 rows x 714 columns]"
      ]
     },
     "execution_count": 430,
     "metadata": {},
     "output_type": "execute_result"
    }
   ],
   "source": [
    "# Filling NaN with \"0\" (not NaN values: keeping value \"1\")\n",
    "user_item = df_reform.notnull().astype(int)\n",
    "user_item.head(3)\n"
   ]
  },
  {
   "cell_type": "code",
   "execution_count": 431,
   "metadata": {},
   "outputs": [],
   "source": [
    "# Function: Creating the user-article matrix with 1's and 0's\n",
    "def create_user_item_matrix(df):\n",
    "    '''\n",
    "    INPUT:\n",
    "    df - pandas dataframe with article_id, title, user_id columns\n",
    "    \n",
    "    OUTPUT:\n",
    "    user_item - user item matrix \n",
    "    \n",
    "    Description:\n",
    "    Return a matrix with user ids as rows and article ids on the columns with 1 values where a user interacted with \n",
    "    an article and a 0 otherwise\n",
    "    '''\n",
    "    # Fill in the function here\n",
    "    #\n",
    "    \n",
    "    # Reformatting rows and columns of the dataframe\n",
    "    df_reform = df.groupby(by=['user_id', 'article_id'])[\"title\"].count().unstack()\n",
    " \n",
    "    # Filling NaN with \"0\" and not NaN with \"1\" interger values\n",
    "    user_item = df_reform.notnull().astype(int)\n",
    "\n",
    "    return user_item # return the user_item matrix \n",
    "\n",
    "user_item = create_user_item_matrix(df)\n"
   ]
  },
  {
   "cell_type": "code",
   "execution_count": 432,
   "metadata": {},
   "outputs": [
    {
     "name": "stdout",
     "output_type": "stream",
     "text": [
      "You have passed our quick tests!  Please proceed!\n"
     ]
    }
   ],
   "source": [
    "## Tests: You should just need to run this cell.  Don't change the code.\n",
    "assert user_item.shape[0] == 5149, \"Oops!  The number of users in the user-article matrix doesn't look right.\"\n",
    "assert user_item.shape[1] == 714, \"Oops!  The number of articles in the user-article matrix doesn't look right.\"\n",
    "assert user_item.sum(axis=1)[1] == 36, \"Oops!  The number of articles seen by user 1 doesn't look right.\"\n",
    "print(\"You have passed our quick tests!  Please proceed!\")"
   ]
  },
  {
   "cell_type": "markdown",
   "metadata": {},
   "source": [
    "`2.` Complete the function below which should take a user_id and provide an ordered list of the most similar users to that user (from most similar to least similar).  The returned result should not contain the provided user_id, as we know that each user is similar to him/herself. Because the results for each user here are binary, it (perhaps) makes sense to compute similarity as the dot product of two users. \n",
    "\n",
    "Use the tests to test your function."
   ]
  },
  {
   "cell_type": "code",
   "execution_count": 433,
   "metadata": {
    "scrolled": true
   },
   "outputs": [
    {
     "data": {
      "text/html": [
       "<div>\n",
       "<style scoped>\n",
       "    .dataframe tbody tr th:only-of-type {\n",
       "        vertical-align: middle;\n",
       "    }\n",
       "\n",
       "    .dataframe tbody tr th {\n",
       "        vertical-align: top;\n",
       "    }\n",
       "\n",
       "    .dataframe thead th {\n",
       "        text-align: right;\n",
       "    }\n",
       "</style>\n",
       "<table border=\"1\" class=\"dataframe\">\n",
       "  <thead>\n",
       "    <tr style=\"text-align: right;\">\n",
       "      <th>article_id</th>\n",
       "      <th>0.0</th>\n",
       "      <th>2.0</th>\n",
       "      <th>4.0</th>\n",
       "      <th>8.0</th>\n",
       "      <th>9.0</th>\n",
       "      <th>12.0</th>\n",
       "      <th>14.0</th>\n",
       "      <th>15.0</th>\n",
       "      <th>16.0</th>\n",
       "      <th>18.0</th>\n",
       "      <th>...</th>\n",
       "      <th>1434.0</th>\n",
       "      <th>1435.0</th>\n",
       "      <th>1436.0</th>\n",
       "      <th>1437.0</th>\n",
       "      <th>1439.0</th>\n",
       "      <th>1440.0</th>\n",
       "      <th>1441.0</th>\n",
       "      <th>1442.0</th>\n",
       "      <th>1443.0</th>\n",
       "      <th>1444.0</th>\n",
       "    </tr>\n",
       "    <tr>\n",
       "      <th>user_id</th>\n",
       "      <th></th>\n",
       "      <th></th>\n",
       "      <th></th>\n",
       "      <th></th>\n",
       "      <th></th>\n",
       "      <th></th>\n",
       "      <th></th>\n",
       "      <th></th>\n",
       "      <th></th>\n",
       "      <th></th>\n",
       "      <th></th>\n",
       "      <th></th>\n",
       "      <th></th>\n",
       "      <th></th>\n",
       "      <th></th>\n",
       "      <th></th>\n",
       "      <th></th>\n",
       "      <th></th>\n",
       "      <th></th>\n",
       "      <th></th>\n",
       "      <th></th>\n",
       "    </tr>\n",
       "  </thead>\n",
       "  <tbody>\n",
       "    <tr>\n",
       "      <th>1</th>\n",
       "      <td>0</td>\n",
       "      <td>0</td>\n",
       "      <td>0</td>\n",
       "      <td>0</td>\n",
       "      <td>0</td>\n",
       "      <td>0</td>\n",
       "      <td>0</td>\n",
       "      <td>0</td>\n",
       "      <td>0</td>\n",
       "      <td>0</td>\n",
       "      <td>...</td>\n",
       "      <td>0</td>\n",
       "      <td>0</td>\n",
       "      <td>1</td>\n",
       "      <td>0</td>\n",
       "      <td>1</td>\n",
       "      <td>0</td>\n",
       "      <td>0</td>\n",
       "      <td>0</td>\n",
       "      <td>0</td>\n",
       "      <td>0</td>\n",
       "    </tr>\n",
       "    <tr>\n",
       "      <th>2</th>\n",
       "      <td>0</td>\n",
       "      <td>0</td>\n",
       "      <td>0</td>\n",
       "      <td>0</td>\n",
       "      <td>0</td>\n",
       "      <td>0</td>\n",
       "      <td>0</td>\n",
       "      <td>0</td>\n",
       "      <td>0</td>\n",
       "      <td>0</td>\n",
       "      <td>...</td>\n",
       "      <td>0</td>\n",
       "      <td>0</td>\n",
       "      <td>0</td>\n",
       "      <td>0</td>\n",
       "      <td>0</td>\n",
       "      <td>0</td>\n",
       "      <td>0</td>\n",
       "      <td>0</td>\n",
       "      <td>0</td>\n",
       "      <td>0</td>\n",
       "    </tr>\n",
       "    <tr>\n",
       "      <th>3</th>\n",
       "      <td>0</td>\n",
       "      <td>0</td>\n",
       "      <td>0</td>\n",
       "      <td>0</td>\n",
       "      <td>0</td>\n",
       "      <td>1</td>\n",
       "      <td>0</td>\n",
       "      <td>0</td>\n",
       "      <td>0</td>\n",
       "      <td>0</td>\n",
       "      <td>...</td>\n",
       "      <td>0</td>\n",
       "      <td>0</td>\n",
       "      <td>1</td>\n",
       "      <td>0</td>\n",
       "      <td>0</td>\n",
       "      <td>0</td>\n",
       "      <td>0</td>\n",
       "      <td>0</td>\n",
       "      <td>0</td>\n",
       "      <td>0</td>\n",
       "    </tr>\n",
       "  </tbody>\n",
       "</table>\n",
       "<p>3 rows × 714 columns</p>\n",
       "</div>"
      ],
      "text/plain": [
       "article_id  0.0     2.0     4.0     8.0     9.0     12.0    14.0    15.0    \\\n",
       "user_id                                                                      \n",
       "1                0       0       0       0       0       0       0       0   \n",
       "2                0       0       0       0       0       0       0       0   \n",
       "3                0       0       0       0       0       1       0       0   \n",
       "\n",
       "article_id  16.0    18.0     ...    1434.0  1435.0  1436.0  1437.0  1439.0  \\\n",
       "user_id                      ...                                             \n",
       "1                0       0   ...         0       0       1       0       1   \n",
       "2                0       0   ...         0       0       0       0       0   \n",
       "3                0       0   ...         0       0       1       0       0   \n",
       "\n",
       "article_id  1440.0  1441.0  1442.0  1443.0  1444.0  \n",
       "user_id                                             \n",
       "1                0       0       0       0       0  \n",
       "2                0       0       0       0       0  \n",
       "3                0       0       0       0       0  \n",
       "\n",
       "[3 rows x 714 columns]"
      ]
     },
     "execution_count": 433,
     "metadata": {},
     "output_type": "execute_result"
    }
   ],
   "source": [
    "# Creating a pandas dataframe\n",
    "df_user_item = pd.DataFrame(user_item)\n",
    "df_user_item.head(3)\n"
   ]
  },
  {
   "cell_type": "code",
   "execution_count": 434,
   "metadata": {},
   "outputs": [
    {
     "data": {
      "text/plain": [
       "user_id\n",
       "1    5\n",
       "2    1\n",
       "3    3\n",
       "dtype: int64"
      ]
     },
     "execution_count": 434,
     "metadata": {},
     "output_type": "execute_result"
    }
   ],
   "source": [
    "# Computing similarity of each user to the provided user\n",
    "user_id = 63 # Defining variable value\n",
    "sim = df_user_item.dot(user_item.loc[user_id])\n",
    "sim.head(3)\n"
   ]
  },
  {
   "cell_type": "code",
   "execution_count": 435,
   "metadata": {
    "scrolled": false
   },
   "outputs": [
    {
     "data": {
      "text/plain": [
       "user_id\n",
       "63      16\n",
       "4502    15\n",
       "203      9\n",
       "dtype: int64"
      ]
     },
     "execution_count": 435,
     "metadata": {},
     "output_type": "execute_result"
    }
   ],
   "source": [
    "# Sorting by similarity\n",
    "sim = sim.sort_values(ascending=False)\n",
    "sim.head(3)\n"
   ]
  },
  {
   "cell_type": "code",
   "execution_count": 436,
   "metadata": {},
   "outputs": [],
   "source": [
    "# Creating list of the user ids\n",
    "sim = sim.index.tolist()\n"
   ]
  },
  {
   "cell_type": "code",
   "execution_count": 437,
   "metadata": {
    "scrolled": true
   },
   "outputs": [],
   "source": [
    "# Removing the own user id\n",
    "most_similar_users = [id for id in sim if id != user_id]\n"
   ]
  },
  {
   "cell_type": "code",
   "execution_count": 438,
   "metadata": {},
   "outputs": [],
   "source": [
    "# Function: Defining function to get the similar users\n",
    "def find_similar_users(user_id, user_item=user_item):\n",
    "    '''\n",
    "    INPUT:\n",
    "    user_id - (int) a user_id\n",
    "    user_item - (pandas dataframe) matrix of users by articles: \n",
    "                1's when a user has interacted with an article, 0 otherwise\n",
    "    \n",
    "    OUTPUT:\n",
    "    most_similar_users - (list) an ordered list where the closest users (largest dot product users)\n",
    "                    are listed first\n",
    "    \n",
    "    Description:\n",
    "    Computes the similarity of every pair of users based on the dot product\n",
    "    Returns an ordered\n",
    "    \n",
    "    '''\n",
    "    # Creating a pandas dataframe\n",
    "    df_user_item = pd.DataFrame(user_item)\n",
    "    \n",
    "    # Computing similarity of each user to the provided user\n",
    "    sim = df_user_item.dot(user_item.loc[user_id])\n",
    "        \n",
    "    # Sorting by similarity\n",
    "    sim = sim.sort_values(ascending=False)    \n",
    " \n",
    "    # Creating list of the user ids\n",
    "    sim = sim.index.tolist()\n",
    "   \n",
    "    # Removing the own user id\n",
    "    most_similar_users = [id for id in sim if id != user_id]\n",
    "       \n",
    "    return most_similar_users # return a list of the users in order from most to least similar\n",
    "        "
   ]
  },
  {
   "cell_type": "code",
   "execution_count": 439,
   "metadata": {
    "scrolled": false
   },
   "outputs": [
    {
     "name": "stdout",
     "output_type": "stream",
     "text": [
      "The 10 most similar users to user 1 are: [3933, 23, 3782, 203, 4459, 131, 3870, 46, 4201, 5041]\n",
      "The 5 most similar users to user 3933 are: [1, 23, 3782, 4459, 203]\n",
      "The 3 most similar users to user 46 are: [4201, 23, 3782]\n"
     ]
    }
   ],
   "source": [
    "# Do a spot check of your function\n",
    "print(\"The 10 most similar users to user 1 are: {}\".format(find_similar_users(1)[:10]))\n",
    "print(\"The 5 most similar users to user 3933 are: {}\".format(find_similar_users(3933)[:5]))\n",
    "print(\"The 3 most similar users to user 46 are: {}\".format(find_similar_users(46)[:3]))"
   ]
  },
  {
   "cell_type": "markdown",
   "metadata": {},
   "source": [
    "`3.` Now that you have a function that provides the most similar users to each user, you will want to use these users to find articles you can recommend.  Complete the functions below to return the articles you would recommend to each user. "
   ]
  },
  {
   "cell_type": "code",
   "execution_count": 440,
   "metadata": {},
   "outputs": [],
   "source": [
    "# Creating list for article ids as pandas dataframe\n",
    "article_ids = 63 # Defining variable value\n",
    "article_ids = pd.Series(article_ids).astype(np.float).astype(np.int32).tolist()\n"
   ]
  },
  {
   "cell_type": "code",
   "execution_count": 441,
   "metadata": {},
   "outputs": [
    {
     "data": {
      "text/plain": [
       "[]"
      ]
     },
     "execution_count": 441,
     "metadata": {},
     "output_type": "execute_result"
    }
   ],
   "source": [
    "# Creating the list of article names\n",
    "article_names = df[df[\"article_id\"].isin(article_ids)][\"title\"].unique().tolist()\n",
    "article_names\n"
   ]
  },
  {
   "cell_type": "code",
   "execution_count": 442,
   "metadata": {},
   "outputs": [
    {
     "data": {
      "text/html": [
       "<div>\n",
       "<style scoped>\n",
       "    .dataframe tbody tr th:only-of-type {\n",
       "        vertical-align: middle;\n",
       "    }\n",
       "\n",
       "    .dataframe tbody tr th {\n",
       "        vertical-align: top;\n",
       "    }\n",
       "\n",
       "    .dataframe thead th {\n",
       "        text-align: right;\n",
       "    }\n",
       "</style>\n",
       "<table border=\"1\" class=\"dataframe\">\n",
       "  <thead>\n",
       "    <tr style=\"text-align: right;\">\n",
       "      <th>article_id</th>\n",
       "      <th>0.0</th>\n",
       "      <th>2.0</th>\n",
       "      <th>4.0</th>\n",
       "      <th>8.0</th>\n",
       "      <th>9.0</th>\n",
       "      <th>12.0</th>\n",
       "      <th>14.0</th>\n",
       "      <th>15.0</th>\n",
       "      <th>16.0</th>\n",
       "      <th>18.0</th>\n",
       "      <th>...</th>\n",
       "      <th>1434.0</th>\n",
       "      <th>1435.0</th>\n",
       "      <th>1436.0</th>\n",
       "      <th>1437.0</th>\n",
       "      <th>1439.0</th>\n",
       "      <th>1440.0</th>\n",
       "      <th>1441.0</th>\n",
       "      <th>1442.0</th>\n",
       "      <th>1443.0</th>\n",
       "      <th>1444.0</th>\n",
       "    </tr>\n",
       "    <tr>\n",
       "      <th>user_id</th>\n",
       "      <th></th>\n",
       "      <th></th>\n",
       "      <th></th>\n",
       "      <th></th>\n",
       "      <th></th>\n",
       "      <th></th>\n",
       "      <th></th>\n",
       "      <th></th>\n",
       "      <th></th>\n",
       "      <th></th>\n",
       "      <th></th>\n",
       "      <th></th>\n",
       "      <th></th>\n",
       "      <th></th>\n",
       "      <th></th>\n",
       "      <th></th>\n",
       "      <th></th>\n",
       "      <th></th>\n",
       "      <th></th>\n",
       "      <th></th>\n",
       "      <th></th>\n",
       "    </tr>\n",
       "  </thead>\n",
       "  <tbody>\n",
       "    <tr>\n",
       "      <th>63</th>\n",
       "      <td>0</td>\n",
       "      <td>0</td>\n",
       "      <td>0</td>\n",
       "      <td>0</td>\n",
       "      <td>0</td>\n",
       "      <td>0</td>\n",
       "      <td>0</td>\n",
       "      <td>0</td>\n",
       "      <td>0</td>\n",
       "      <td>0</td>\n",
       "      <td>...</td>\n",
       "      <td>0</td>\n",
       "      <td>0</td>\n",
       "      <td>0</td>\n",
       "      <td>0</td>\n",
       "      <td>0</td>\n",
       "      <td>0</td>\n",
       "      <td>0</td>\n",
       "      <td>0</td>\n",
       "      <td>0</td>\n",
       "      <td>0</td>\n",
       "    </tr>\n",
       "  </tbody>\n",
       "</table>\n",
       "<p>1 rows × 714 columns</p>\n",
       "</div>"
      ],
      "text/plain": [
       "article_id  0.0     2.0     4.0     8.0     9.0     12.0    14.0    15.0    \\\n",
       "user_id                                                                      \n",
       "63               0       0       0       0       0       0       0       0   \n",
       "\n",
       "article_id  16.0    18.0     ...    1434.0  1435.0  1436.0  1437.0  1439.0  \\\n",
       "user_id                      ...                                             \n",
       "63               0       0   ...         0       0       0       0       0   \n",
       "\n",
       "article_id  1440.0  1441.0  1442.0  1443.0  1444.0  \n",
       "user_id                                             \n",
       "63               0       0       0       0       0  \n",
       "\n",
       "[1 rows x 714 columns]"
      ]
     },
     "execution_count": 442,
     "metadata": {},
     "output_type": "execute_result"
    }
   ],
   "source": [
    "# Defining user ids \n",
    "user_id = 63 # Defining variable value\n",
    "user_ids = user_item.loc[[user_id]]\n",
    "user_ids\n"
   ]
  },
  {
   "cell_type": "code",
   "execution_count": 443,
   "metadata": {},
   "outputs": [
    {
     "data": {
      "text/plain": [
       "['268.0',\n",
       " '486.0',\n",
       " '678.0',\n",
       " '684.0',\n",
       " '695.0',\n",
       " '881.0',\n",
       " '930.0',\n",
       " '993.0',\n",
       " '1059.0',\n",
       " '1276.0',\n",
       " '1293.0',\n",
       " '1360.0',\n",
       " '1393.0',\n",
       " '1400.0',\n",
       " '1427.0',\n",
       " '1430.0']"
      ]
     },
     "execution_count": 443,
     "metadata": {},
     "output_type": "execute_result"
    }
   ],
   "source": [
    "# Creating the list of article ids \n",
    "article_ids = user_ids[user_ids==1].dropna(axis=1).columns.tolist()\n",
    "article_ids = [str(i) for i in article_ids]\n",
    "article_ids\n"
   ]
  },
  {
   "cell_type": "code",
   "execution_count": 444,
   "metadata": {},
   "outputs": [
    {
     "name": "stdout",
     "output_type": "stream",
     "text": [
      "[4502, 203, 4459, 3870, 131, 3764, 98, 3784, 3782, 40, 23, 371, 763, 3540, 49, 4932, 3697, 912, 347, 52, 46, 195, 3933, 1355, 4933, 2790, 322, 3578, 3596, 3621, 3622, 135, 4511, 214, 1, 4134, 4778, 2982, 21, 4201, 290, 3195, 4785, 273, 3141, 249, 11, 126, 185, 418, 176, 4356, 3966, 3483, 113, 3518, 456, 1035, 598, 1240, 3986, 155, 1137, 4991, 13, 4934, 187, 3172, 4876, 4883, 2903, 4088, 674, 122, 3654, 2941, 129, 251, 252, 3057, 4515, 3100, 4518, 3197, 121, 510, 288, 4999, 3061, 536, 3740, 2258, 220, 262, 111, 511, 3691, 4706, 114, 3237, 4786, 215, 3007, 3404, 3618, 3439, 170, 4755, 2813, 3169, 420, 2975, 4642, 4904, 4901, 2826, 3147, 186, 395, 3763, 3474, 3353, 241, 242, 330, 169, 3486, 245, 197, 1405, 3190, 3532, 1244, 204, 3316, 151, 4685, 484, 132, 4268, 37, 4204, 2430, 4300, 609, 4082, 58, 5041, 829, 922, 17, 4287, 754, 3968, 698, 765, 5069, 688, 3910, 71, 4390, 4145, 807, 619, 5058, 3960, 5059, 3951, 82, 1026, 94, 542, 4071, 51, 56, 896, 6, 4, 3783, 3794, 3, 5143, 558, 3812, 86, 4037, 712, 8, 5138, 4061, 864, 4711, 4038, 860, 370, 4127, 334, 1443, 335, 4282, 4285, 3238, 3314, 362, 339, 4098, 3245, 3247, 3264, 359, 354, 326, 4462, 1487, 3091, 4203, 3107, 4768, 4209, 287, 285, 726, 4774, 280, 1566, 3082, 277, 276, 4233, 4788, 715, 268, 267, 706, 3118, 324, 3191, 4130, 3213, 319, 318, 4272, 3211, 315, 1401, 1506, 4245, 1509, 3176, 4255, 746, 3134, 745, 295, 4197, 375, 4635, 3336, 3637, 3824, 3636, 3633, 3829, 4517, 4522, 3864, 3876, 3877, 3614, 488, 1187, 3879, 3600, 3889, 1208, 3890, 4543, 474, 3819, 1163, 1386, 3818, 535, 1082, 3732, 3714, 3705, 1063, 4453, 3775, 1062, 4449, 1061, 3684, 3678, 1059, 3803, 4503, 4429, 3651, 502, 3897, 1213, 4552, 3898, 410, 1335, 409, 4623, 405, 3972, 3408, 3975, 631, 1068, 635, 639, 4021, 3363, 3358, 3354, 647, 649, 4323, 414, 3436, 923, 3490, 964, 3528, 4378, 450, 1272, 3500, 1278, 444, 607, 621, 612, 4367, 3957, 4595, 3466, 426, 1317, 3441, 266, 4230, 115, 153, 2768, 5034, 2728, 41, 85, 156, 87, 213, 4871, 38, 88, 2907, 2913, 43, 69, 35, 1712, 223, 2926, 1705, 5023, 2324, 4853, 145, 100, 2688, 209, 44, 26, 171, 5057, 2830, 5062, 66, 173, 5066, 72, 2144, 2842, 4900, 61, 60, 5048, 79, 57, 5079, 2355, 2850, 196, 2186, 168, 76, 205, 163, 1807, 45, 1897, 2917, 3031, 4823, 9, 2981, 104, 2583, 2290, 261, 22, 2989, 248, 5140, 4969, 3006, 3034, 136, 260, 2288, 2572, 103, 256, 253, 2029, 1655, 10, 5011, 244, 125, 2974, 5134, 4842, 4802, 1110, 3888, 2494, 2556, 3885, 3883, 2136, 3878, 2128, 3715, 3719, 986, 987, 1103, 3880, 2558, 2403, 1114, 957, 3920, 960, 961, 2161, 3917, 3694, 2391, 965, 2149, 3700, 3912, 2397, 3703, 3907, 3902, 1993, 977, 978, 2421, 3891, 2417, 1018, 999, 1058, 3801, 1045, 2447, 1056, 3786, 3785, 2450, 2451, 2455, 1075, 3762, 2510, 2458, 2095, 2060, 2465, 3776, 2467, 2473, 3774, 1065, 2063, 2446, 2042, 3857, 2423, 3856, 3853, 1004, 1013, 3839, 2066, 3832, 3724, 1098, 3729, 2114, 3805, 2442, 2007, 2444, 3738, 1036, 1040, 3806, 3743, 3745, 3749, 3928, 3058, 946, 820, 4161, 784, 2307, 4137, 2214, 797, 798, 2313, 2213, 2212, 4110, 4107, 2318, 822, 4076, 2320, 825, 826, 2205, 2202, 4097, 2331, 4093, 832, 2199, 4087, 841, 842, 2220, 2304, 4167, 2228, 2270, 719, 2272, 722, 2273, 730, 4210, 4206, 2274, 2244, 2238, 739, 2234, 742, 2289, 4190, 752, 753, 2291, 755, 2231, 757, 4178, 758, 759, 760, 4172, 2197, 843, 942, 2370, 898, 3997, 3996, 902, 2181, 904, 907, 917, 2180, 2359, 3693, 2362, 2174, 926, 844, 927, 3962, 2168, 2167, 3949, 3947, 938, 939, 3944, 2164, 3943, 2163, 941, 4001, 4002, 2347, 2189, 4070, 2336, 855, 856, 857, 4057, 4054, 863, 4049, 2337, 4047, 4046, 4039, 4034, 4027, 2194, 4025, 2340, 4024, 881, 2193, 882, 885, 4013, 4010, 894, 4004, 2360, 2638, 2577, 2891, 3305, 2894, 1418, 1423, 3293, 3292, 2895, 2897, 3274, 1446, 4228, 3269, 3268, 2898, 1448, 2901, 1451, 1455, 1459, 1465, 3244, 2902, 3243, 2908, 2915, 3233, 1476, 2919, 1478, 3309, 3310, 2579, 3311, 3384, 1362, 3378, 3376, 3373, 3371, 3368, 1372, 2846, 3360, 1754, 3352, 2860, 1392, 3337, 2863, 2872, 2879, 3329, 3326, 2880, 2882, 1406, 3320, 3318, 1410, 2885, 2889, 1413, 1481, 3225, 1483, 1485, 3123, 3119, 2993, 3116, 1568, 3111, 3005, 1577, 3009, 3011, 3099, 3094, 1582, 3015, 3022, 3085, 3024, 1633, 3079, 1627, 3077, 3072, 3069, 3068, 1600, 1605, 1615, 3047, 3052, 2991, 3126, 2987, 2962, 2924, 3218, 3217, 1488, 2932, 1701, 3212, 2949, 3209, 3208, 1685, 1498, 1681, 3193, 3136, 2965, 1672, 1671, 2971, 1510, 2972, 1523, 1527, 1532, 3155, 1540, 3144, 2983, 1359, 3391, 3392, 1250, 1184, 2689, 2694, 1196, 1882, 1198, 3589, 1881, 3581, 3579, 2710, 2718, 3575, 1857, 2725, 3572, 1219, 3566, 3565, 3559, 3555, 3554, 3553, 1228, 3548, 2727, 3535, 1243, 2731, 1182, 3616, 2668, 2621, 1984, 1983, 3674, 1147, 3663, 1150, 1152, 3655, 2594, 2595, 2597, 3647, 1967, 3643, 1178, 1947, 2625, 1940, 1169, 3634, 3059, 2646, 3632, 3630, 3629, 2653, 1914, 2665, 2766, 1253, 2841, 1817, 1781, 2818, 3438, 2819, 3435, 1322, 1323, 2820, 3430, 3425, 1330, 1780, 1332, 1778, 2825, 3417, 3414, 2829, 1338, 1340, 3410, 2835, 1343, 1769, 3402, 1349, 1350, 1353, 2838, 2814, 2812, 3451, 1283, 1258, 3514, 1261, 1262, 1263, 1264, 1806, 2794, 2795, 1281, 2800, 1282, 3488, 3485, 1309, 2801, 1285, 3477, 1291, 2802, 3472, 3471, 3467, 2803, 1300, 1301, 2804, 1302, 3270, 2257, 270, 640, 91, 4668, 636, 89, 263, 638, 4336, 264, 644, 641, 366, 365, 4673, 364, 4331, 190, 92, 193, 4559, 629, 382, 199, 4363, 379, 4361, 4813, 4892, 625, 5018, 4806, 4471, 4349, 4660, 96, 4563, 525, 4329, 350, 4308, 274, 656, 5046, 4311, 521, 74, 184, 661, 5038, 4784, 518, 5051, 352, 4486, 5053, 5054, 4316, 4317, 4909, 272, 646, 648, 4801, 4800, 4799, 144, 357, 651, 78, 464, 146, 355, 4480, 75, 4792, 4573, 538, 383, 581, 4618, 434, 4867, 5004, 4410, 4619, 408, 582, 137, 583, 406, 216, 4869, 230, 585, 4874, 431, 4851, 219, 4426, 4421, 120, 4855, 119, 118, 221, 421, 428, 4861, 4608, 4417, 4982, 4862, 5001, 4611, 4437, 438, 211, 4447, 4834, 547, 4450, 4454, 4647, 134, 4648, 4379, 4825, 5012, 4824, 5013, 4371, 613, 4822, 4643, 239, 4583, 4445, 591, 592, 554, 210, 4974, 4840, 4393, 445, 552, 4392, 237, 207, 4837, 596, 4882, 304, 423, 181, 4712, 19, 501, 5105, 301, 34, 4248, 500, 5129, 331, 312, 36, 4931, 4930, 4273, 4759, 487, 302, 4274, 15, 310, 4929, 685, 4926, 4277, 333, 4241, 683, 292, 4527, 337, 4250, 4758, 4763, 4505, 690, 504, 24, 689, 4727, 5118, 4725, 693, 164, 27, 28, 485, 697, 687, 5111, 33, 483, 5110, 166, 4254, 325, 482, 4733, 31, 32, 666, 5120, 4270, 4506, 5123, 54, 4242, 5083, 160, 4491, 5070, 2, 4747, 159, 4773, 475, 4697, 64, 4235, 4292, 65, 490, 67, 343, 4943, 4918, 4295, 4296, 149, 4746, 4695, 305, 180, 471, 669, 346, 348, 4526, 5067, 679, 5075, 308, 55, 5081, 5077, 4748, 499, 4925, 681, 513, 4730, 4512, 5, 4542, 1718, 1717, 1730, 1808, 222, 1715, 1809, 1798, 162, 1804, 1728, 1709, 1729, 224, 1810, 1805, 1719, 1720, 1799, 217, 1727, 1721, 1802, 1725, 1724, 1801, 1803, 1726, 1722, 1723, 212, 1713, 1800, 1714, 1711, 1716, 218, 208, 1710, 1792, 1797, 1708, 174, 172, 1767, 1784, 191, 1766, 1765, 1764, 1785, 1786, 192, 1787, 1763, 1788, 1789, 1790, 1762, 1768, 189, 1760, 1783, 182, 1777, 1776, 1775, 183, 1779, 179, 178, 1774, 1773, 1772, 1771, 177, 175, 1770, 188, 1782, 1761, 1759, 1731, 1741, 1739, 1793, 1794, 1738, 165, 1737, 1736, 200, 201, 1795, 1735, 202, 1734, 1733, 206, 1732, 1796, 1740, 1742, 1758, 1743, 1757, 1756, 1755, 194, 1753, 1752, 198, 1751, 1750, 1749, 167, 1748, 1747, 1746, 1745, 1744, 1791, 716, 1656, 1707, 1706, 1590, 1589, 279, 1588, 1587, 1586, 1585, 1584, 281, 1583, 282, 283, 1581, 1580, 1579, 1578, 284, 286, 1576, 1575, 1574, 1573, 1572, 278, 1591, 1592, 1604, 1613, 1612, 1611, 265, 1610, 1609, 1608, 1607, 1606, 269, 1603, 1593, 1602, 1601, 271, 1599, 1598, 1597, 1596, 1595, 1594, 275, 289, 1571, 1570, 1537, 299, 1546, 1545, 300, 1544, 1543, 1542, 1541, 1539, 1538, 1536, 1548, 1535, 1534, 1533, 1531, 1530, 1529, 1528, 1526, 1525, 1524, 1547, 1549, 1569, 1559, 291, 1567, 1565, 293, 1564, 294, 1563, 1562, 1561, 1560, 296, 1550, 1558, 1557, 1556, 1555, 1554, 1553, 1552, 297, 1551, 298, 1614, 1616, 1617, 233, 1680, 1679, 1678, 1677, 1676, 1675, 231, 1674, 1673, 232, 1670, 1682, 234, 235, 1669, 236, 1668, 1667, 1666, 1665, 1664, 238, 229, 1683, 1662, 227, 225, 1704, 1703, 1702, 226, 1700, 1699, 1698, 1697, 1696, 1695, 1684, 1694, 1693, 1692, 1691, 1690, 1689, 1688, 1687, 1686, 228, 1663, 1661, 1618, 1629, 1638, 1637, 1636, 255, 1635, 1634, 257, 1632, 1631, 1630, 258, 1640, 1628, 259, 1626, 1625, 1624, 1623, 1622, 1621, 1620, 1619, 1639, 1641, 1660, 1651, 240, 1659, 1658, 243, 1657, 1812, 246, 1654, 1653, 1652, 1650, 254, 1649, 1648, 1647, 247, 1646, 1645, 250, 1644, 1643, 1642, 1811, 148, 1813, 2108, 2106, 83, 2105, 84, 2104, 90, 2103, 2102, 2101, 2100, 2099, 93, 2098, 2097, 95, 2096, 2094, 2093, 2092, 2091, 97, 2090, 2089, 2088, 2087, 2107, 2109, 1814, 2110, 2134, 2133, 2132, 2131, 2130, 2129, 2127, 77, 2126, 2125, 2124, 2123, 80, 2122, 2121, 2120, 2119, 2118, 2117, 2116, 2115, 81, 2113, 2112, 2111, 2086, 2085, 99, 2084, 2054, 2053, 2052, 2051, 2050, 105, 2049, 2048, 2047, 2046, 2045, 2044, 2043, 106, 2041, 2040, 2039, 2038, 2037, 2036, 2035, 2034, 2033, 2032, 2031, 2055, 2056, 2057, 2072, 2083, 2082, 2081, 2080, 2079, 2078, 2077, 2076, 2075, 2074, 2073, 2071, 2058, 2070, 2069, 2068, 2067, 101, 2065, 2064, 2062, 2061, 102, 2059, 2135, 2137, 2138, 2200, 2230, 2229, 2227, 2226, 2225, 2224, 2223, 2222, 2221, 2219, 25, 2218, 2217, 2216, 2215, 29, 2211, 2210, 2209, 30, 2208, 2207, 2206, 2204, 2203, 2232, 20, 18, 7, 2256, 2255, 2254, 2253, 2252, 2251, 2250, 2249, 2248, 2247, 2246, 12, 16, 2245, 14, 2243, 2242, 2241, 2240, 2239, 2237, 2236, 2235, 2233, 2201, 2198, 2139, 2196, 2166, 2165, 68, 2162, 70, 2160, 2159, 2158, 2157, 2156, 2155, 2154, 2153, 2152, 2151, 2150, 2148, 2147, 2146, 2145, 73, 2143, 2142, 2141, 2140, 2169, 2170, 2171, 2187, 39, 42, 2195, 47, 48, 50, 2192, 2191, 2190, 53, 2188, 2185, 2172, 2184, 2183, 2182, 2179, 2178, 59, 2177, 62, 2176, 2175, 2173, 2030, 107, 2028, 1866, 1891, 1890, 1889, 142, 143, 1888, 1887, 1886, 1885, 1884, 1883, 147, 1880, 1879, 1878, 1877, 1876, 1875, 1874, 1873, 1872, 1871, 1870, 1869, 1868, 1892, 1893, 1894, 140, 1917, 1916, 1915, 138, 1913, 1912, 1911, 1910, 139, 1909, 1908, 1907, 1895, 1906, 1905, 1904, 1903, 1902, 1901, 1900, 1899, 1898, 141, 1896, 1867, 1865, 1919, 1864, 1839, 1838, 1837, 1836, 1835, 1834, 1833, 1832, 1831, 1830, 1829, 1828, 1827, 1826, 1825, 1824, 1823, 1822, 1821, 1820, 1819, 1818, 161, 1816, 1815, 1840, 1841, 1842, 1855, 1863, 1862, 1861, 1860, 1859, 1858, 150, 152, 1856, 154, 157, 1854, 1843, 158, 1853, 1852, 1851, 1850, 1849, 1848, 1847, 1846, 1845, 1844, 1918, 1920, 2027, 1974, 1999, 1998, 1997, 1996, 1995, 1994, 1992, 1991, 110, 1990, 1989, 1988, 1987, 112, 1986, 116, 1985, 117, 1982, 1981, 1980, 1979, 1978, 1977, 1976, 2000, 2001, 2002, 2015, 2026, 2025, 2024, 2023, 2022, 2021, 2020, 2019, 2018, 2017, 2016, 2014, 2003, 2013, 2012, 2011, 2010, 2009, 2008, 2006, 2005, 108, 2004, 109, 1975, 1973, 1921, 123, 130, 1945, 1944, 1943, 1942, 1941, 1939, 1938, 1937, 1936, 1935, 1934, 133, 1933, 1932, 1931, 1930, 1929, 1928, 1927, 1926, 1925, 1924, 1923, 1922, 1946, 128, 1948, 1961, 1972, 124, 1971, 1970, 1969, 1968, 1966, 1965, 1964, 1963, 1962, 1960, 127, 1959, 1958, 1957, 1956, 1955, 1954, 1953, 1952, 1951, 1950, 1949, 303, 338, 1522, 586, 1001, 1000, 574, 998, 997, 996, 575, 995, 994, 993, 992, 991, 576, 990, 989, 988, 577, 578, 579, 580, 985, 984, 983, 584, 982, 573, 572, 1002, 1016, 1025, 567, 1024, 1023, 568, 1022, 1021, 1020, 1019, 1017, 569, 1015, 1003, 1014, 570, 1012, 1011, 1010, 1009, 1008, 1007, 1006, 1005, 571, 981, 587, 1027, 588, 955, 954, 953, 603, 952, 951, 950, 949, 604, 948, 947, 945, 944, 943, 605, 606, 940, 608, 610, 611, 937, 614, 936, 615, 935, 956, 602, 958, 970, 980, 979, 589, 590, 976, 975, 974, 973, 593, 972, 971, 969, 959, 968, 967, 966, 594, 595, 963, 962, 597, 599, 600, 601, 566, 1028, 933, 537, 1096, 529, 1095, 1094, 1093, 1092, 1091, 530, 1090, 1089, 1088, 531, 1087, 532, 1086, 1085, 1084, 533, 1083, 534, 1081, 1080, 1079, 1078, 1077, 1097, 528, 527, 522, 1121, 1120, 1119, 1118, 519, 520, 1116, 1115, 1113, 1112, 1111, 1109, 1099, 523, 1108, 1107, 1106, 524, 1105, 1104, 1102, 526, 1101, 1100, 1076, 1074, 565, 1073, 1048, 1047, 1046, 555, 1044, 556, 1043, 557, 559, 1042, 1041, 560, 1039, 1038, 561, 1037, 562, 563, 1034, 1033, 564, 1032, 1031, 1030, 1029, 1049, 1050, 1051, 544, 1072, 539, 540, 1071, 1070, 1069, 541, 1067, 1066, 543, 1064, 545, 1052, 546, 1060, 548, 549, 550, 551, 1057, 553, 1055, 1054, 1053, 934, 932, 1521, 772, 799, 684, 796, 795, 794, 793, 792, 791, 790, 789, 788, 787, 686, 786, 785, 783, 782, 781, 780, 779, 778, 777, 776, 775, 774, 800, 801, 802, 816, 675, 676, 677, 824, 823, 678, 821, 819, 680, 818, 817, 815, 803, 814, 813, 812, 811, 810, 809, 808, 682, 806, 805, 804, 773, 771, 827, 770, 705, 738, 707, 737, 736, 708, 735, 734, 709, 710, 733, 732, 731, 711, 729, 728, 727, 725, 724, 723, 713, 721, 720, 714, 718, 740, 704, 741, 696, 769, 768, 767, 766, 764, 691, 692, 762, 761, 694, 695, 756, 743, 699, 700, 701, 751, 750, 749, 748, 747, 702, 703, 744, 673, 828, 931, 879, 905, 630, 903, 632, 901, 900, 633, 634, 899, 897, 637, 895, 893, 892, 891, 642, 890, 889, 643, 888, 887, 886, 884, 883, 645, 906, 908, 628, 624, 616, 930, 929, 928, 617, 618, 925, 620, 924, 622, 623, 921, 909, 920, 919, 626, 918, 627, 916, 915, 914, 913, 911, 910, 880, 650, 672, 878, 852, 851, 850, 849, 848, 847, 663, 664, 846, 845, 665, 667, 668, 840, 839, 838, 670, 837, 836, 835, 834, 833, 671, 831, 830, 853, 854, 662, 869, 877, 876, 875, 874, 873, 872, 871, 652, 653, 654, 870, 868, 660, 867, 866, 865, 655, 657, 862, 861, 658, 859, 858, 659, 517, 1122, 1123, 387, 1391, 1390, 1389, 1388, 1387, 1385, 1384, 1383, 1382, 380, 381, 1381, 1380, 1379, 1378, 384, 1377, 1376, 385, 1375, 1374, 1373, 386, 1371, 1370, 378, 1393, 1394, 372, 1414, 361, 363, 1412, 1411, 367, 368, 1409, 1408, 1407, 369, 1404, 1395, 373, 1403, 1402, 374, 1400, 1399, 1398, 1397, 1396, 376, 377, 1369, 1368, 1416, 1367, 1344, 401, 1342, 402, 1341, 403, 404, 1339, 407, 1337, 1336, 1334, 1333, 1331, 411, 1329, 412, 1328, 1327, 1326, 1325, 413, 1324, 415, 1321, 400, 1345, 399, 1357, 388, 1366, 389, 1365, 1364, 1363, 1361, 390, 1360, 391, 1358, 1356, 1346, 392, 393, 394, 1354, 396, 1352, 1351, 397, 398, 1348, 1347, 1415, 360, 516, 1471, 1494, 1493, 1492, 316, 1491, 317, 1490, 1489, 320, 321, 323, 1486, 327, 1484, 328, 1482, 329, 1480, 1479, 1477, 332, 1475, 1474, 1473, 1472, 1495, 1496, 1497, 307, 1520, 1519, 1518, 306, 1517, 1516, 1515, 1514, 1513, 1512, 1511, 1508, 1499, 1507, 309, 1505, 311, 1504, 1503, 313, 1502, 314, 1501, 1500, 336, 1470, 1417, 1469, 1442, 1441, 1440, 1439, 1438, 1437, 1436, 1435, 1434, 1433, 1432, 1431, 1430, 1429, 1428, 356, 1427, 1426, 1425, 1424, 1422, 1421, 1420, 1419, 358, 353, 1444, 1445, 1460, 1468, 717, 340, 341, 1467, 342, 1466, 1464, 1463, 1462, 1461, 1458, 351, 1457, 1456, 344, 1454, 1453, 1452, 345, 1450, 1449, 349, 1447, 416, 417, 1320, 493, 481, 1195, 1194, 1193, 1192, 1191, 1190, 1189, 1188, 1186, 1185, 486, 1183, 1181, 489, 1180, 1179, 1177, 491, 492, 1176, 1175, 1174, 1173, 1172, 1197, 480, 1199, 476, 469, 470, 1218, 1217, 1216, 1215, 472, 1214, 473, 1212, 1211, 1210, 1200, 477, 1209, 478, 1207, 1206, 1205, 1204, 1203, 479, 1202, 1201, 1171, 494, 419, 1170, 1145, 1144, 1143, 1142, 1141, 1140, 1139, 509, 1138, 512, 1136, 1135, 1134, 1133, 1132, 1131, 1130, 1129, 1128, 1127, 1126, 1125, 514, 1124, 515, 1146, 508, 1148, 1160, 495, 496, 497, 498, 1168, 1167, 1166, 1165, 1164, 1162, 1161, 1159, 507, 1158, 1157, 1156, 503, 1155, 1154, 1153, 505, 1151, 506, 1149, 1220, 1221, 1222, 1223, 432, 1292, 433, 1290, 435, 1289, 1288, 1287, 1286, 436, 437, 1284, 439, 440, 441, 442, 443, 1280, 1279, 1277, 1276, 1275, 1274, 1273, 446, 1293, 1294, 1295, 1308, 1319, 1318, 422, 1316, 1315, 1314, 1313, 1312, 1311, 1310, 424, 1307, 430, 1306, 1305, 1304, 1303, 425, 427, 1299, 1298, 1297, 1296, 429, 447, 1271, 1270, 1232, 461, 1242, 1241, 1239, 462, 1238, 1237, 1236, 1235, 1234, 1233, 463, 459, 1231, 1230, 1229, 465, 466, 467, 1227, 1226, 1225, 468, 1224, 460, 1245, 1269, 1257, 1268, 1267, 1266, 1265, 448, 449, 451, 1260, 452, 1259, 453, 454, 1246, 1256, 1255, 1254, 455, 1252, 1251, 457, 1249, 1248, 458, 1247, 1117, 5149, 2259, 4187, 4181, 4182, 4183, 4184, 4185, 4186, 4188, 4179, 4189, 4191, 4192, 4193, 4194, 4195, 4180, 4177, 4157, 4166, 4159, 4160, 4162, 4163, 4164, 4165, 4168, 4176, 4169, 4170, 4171, 4173, 4174, 4175, 4196, 4198, 4199, 4232, 4224, 4225, 4226, 4227, 4229, 4231, 4234, 4200, 4236, 4237, 4238, 4239, 4240, 4243, 4223, 4222, 4221, 4220, 4219, 4218, 4217, 4216, 4215, 4214, 4213, 4212, 4211, 4208, 4207, 4205, 4202, 4158, 4156, 3687, 4105, 4099, 4100, 4101, 4102, 4103, 4104, 4106, 4095, 4108, 4109, 4111, 4112, 4113, 4114, 4096, 4094, 4155, 4081, 4074, 4075, 4077, 4078, 4079, 4080, 4083, 4092, 4084, 4085, 4086, 4089, 4090, 4091, 4115, 4116, 4117, 4147, 4140, 4141, 4142, 4143, 4144, 4146, 4148, 4118, 4149, 4150, 4151, 4152, 4153, 4154, 4139, 4138, 4136, 4135, 4133, 4132, 4131, 4129, 4128, 4126, 4125, 4124, 4123, 4122, 4121, 4120, 4119, 4244, 4246, 4247, 4374, 4366, 4368, 4369, 4370, 4372, 4373, 4375, 4364, 4376, 4377, 4380, 4381, 4382, 4383, 4365, 4362, 4249, 4351, 4344, 4345, 4346, 4347, 4348, 4350, 4352, 4360, 4353, 4354, 4355, 4357, 4358, 4359, 4384, 4385, 4386, 4415, 4408, 4409, 4411, 4412, 4413, 4414, 4416, 4387, 4418, 4419, 4420, 4422, 4423, 4424, 4407, 4406, 4405, 4404, 4403, 4402, 4401, 4400, 4399, 4398, 4397, 4396, 4395, 4394, 4391, 4389, 4388, 4343, 4342, 4341, 4283, 4275, 4276, 4278, 4279, 4280, 4281, 4284, 4297, 4286, 4288, 4289, 4290, 4291, 4293, 4271, 4269, 4267, 4266, 4265, 4264, 4263, 4262, 4261, 4260, 4259, 4258, 4257, 4256, 4253, 4252, 4251, 4294, 4298, 4340, 4330, 4322, 4324, 4325, 4326, 4327, 4328, 4332, 4299, 4333, 4334, 4335, 4337, 4338, 4339, 4321, 4320, 4319, 4318, 4315, 4314, 4313, 4312, 4310, 4309, 4307, 4306, 4305, 4304, 4303, 4302, 4301, 4073, 4072, 4069, 3820, 3811, 3813, 3814, 3815, 3816, 3817, 3821, 3809, 3822, 3823, 3825, 3826, 3827, 3828, 3810, 3808, 3873, 3795, 3788, 3789, 3790, 3791, 3792, 3793, 3796, 3807, 3797, 3798, 3799, 3800, 3802, 3804, 3830, 3831, 3833, 3862, 3854, 3855, 3858, 3859, 3860, 3861, 3863, 3834, 3865, 3866, 3867, 3868, 3869, 3871, 3852, 3851, 3850, 3849, 3848, 3847, 3846, 3845, 3844, 3843, 3842, 3841, 3840, 3838, 3837, 3836, 3835, 3787, 3781, 3780, 3722, 3713, 3716, 3717, 3718, 3720, 3721, 3723, 3734, 3725, 3726, 3727, 3728, 3730, 3731, 3712, 3711, 3710, 3709, 3708, 3707, 3706, 3704, 3702, 3701, 3699, 3698, 3696, 3695, 3692, 3690, 3689, 3733, 3735, 3779, 3768, 3759, 3760, 3761, 3765, 3766, 3767, 3769, 3736, 3770, 3771, 3772, 3773, 3777, 3778, 3758, 3757, 3756, 3755, 3754, 3753, 3752, 3751, 3750, 3748, 3747, 3746, 3744, 3742, 3741, 3739, 3737, 3872, 3874, 4068, 4009, 4000, 4003, 4005, 4006, 4007, 4008, 4011, 3998, 4012, 4014, 4015, 4016, 4017, 4018, 3999, 3995, 3875, 3985, 3979, 3980, 3981, 3982, 3983, 3984, 3987, 3994, 3988, 3989, 3990, 3991, 3992, 3993, 4019, 4020, 4022, 4059, 4051, 4052, 4053, 4055, 4056, 4058, 4060, 4023, 4062, 4063, 4064, 4065, 4066, 4067, 4050, 4048, 4045, 4044, 4043, 4042, 4041, 4040, 4036, 4035, 4033, 4032, 4031, 4030, 4029, 4028, 4026, 3978, 3977, 3976, 3916, 3908, 3909, 3911, 3913, 3914, 3915, 3918, 3927, 3919, 3921, 3922, 3923, 3924, 3925, 3906, 3905, 3904, 3903, 3901, 3900, 3899, 3896, 3895, 3894, 3893, 3892, 3887, 3886, 3884, 3882, 3881, 3926, 3929, 3974, 3963, 3954, 3955, 3956, 3958, 3959, 3961, 3964, 3930, 3965, 3967, 3969, 3970, 3971, 3973, 3953, 3952, 3950, 3948, 3946, 3945, 3942, 3941, 3940, 3939, 3938, 3937, 3936, 3935, 3934, 3932, 3931, 4425, 4427, 4428, 4910, 4902, 4903, 4905, 4906, 4907, 4908, 4911, 4898, 4912, 4913, 4914, 4915, 4916, 4917, 4899, 4897, 4964, 4887, 4879, 4880, 4881, 4884, 4885, 4886, 4888, 4896, 4889, 4890, 4891, 4893, 4894, 4895, 4919, 4920, 4921, 4955, 4949, 4950, 4951, 4952, 4953, 4954, 4956, 4922, 4957, 4958, 4959, 4960, 4961, 4962, 4948, 4947, 4946, 4945, 4944, 4942, 4941, 4940, 4939, 4938, 4937, 4936, 4935, 4928, 4927, 4924, 4923, 4878, 4877, 4875, 4814, 4807, 4808, 4809, 4810, 4811, 4812, 4815, 4827, 4816, 4817, 4818, 4819, 4820, 4821, 4805, 4804, 4803, 4798, 4797, 4796, 4795, 4794, 4793, 4791, 4790, 4789, 4787, 4783, 4782, 4781, 4780, 4826, 4828, 4873, 4860, 4852, 4854, 4856, 4857, 4858, 4859, 4863, 4829, 4864, 4865, 4866, 4868, 4870, 4872, 4850, 4849, 4848, 4847, 4846, 4845, 4844, 4843, 4841, 4839, 4838, 4836, 4835, 4833, 4832, 4831, 4830, 4963, 4965, 4777, 5094, 5088, 5089, 5090, 5091, 5092, 5093, 5095, 5086, 5096, 5097, 5098, 5099, 5100, 5101, 5087, 5085, 4966, 5071, 5060, 5061, 5063, 5064, 5065, 5068, 5072, 5084, 5073, 5074, 5076, 5078, 5080, 5082, 5102, 5103, 5104, 5137, 5130, 5131, 5132, 5133, 5135, 5136, 5139, 5106, 5141, 5142, 5144, 5145, 5146, 5147, 5128, 5127, 5126, 5125, 5124, 5122, 5121, 5119, 5117, 5116, 5115, 5114, 5113, 5112, 5109, 5108, 5107, 5056, 5055, 5052, 4994, 4987, 4988, 4989, 4990, 4992, 4993, 4995, 5006, 4996, 4997, 4998, 5000, 5002, 5003, 4986, 4985, 4984, 4983, 4981, 4980, 4979, 4978, 4977, 4976, 4975, 4973, 4972, 4971, 4970, 4968, 4967, 5005, 5007, 5050, 5039, 5031, 5032, 5033, 5035, 5036, 5037, 5040, 5008, 5042, 5043, 5044, 5045, 5047, 5049, 5030, 5029, 5028, 5027, 5026, 5025, 5024, 5022, 5021, 5020, 5019, 5017, 5016, 5015, 5014, 5010, 5009, 4779, 4776, 4430, 4553, 4546, 4547, 4548, 4549, 4550, 4551, 4554, 4544, 4555, 4556, 4557, 4558, 4560, 4561, 4545, 4541, 4602, 4532, 4524, 4525, 4528, 4529, 4530, 4531, 4533, 4540, 4534, 4535, 4536, 4537, 4538, 4539, 4562, 4564, 4565, 4592, 4586, 4587, 4588, 4589, 4590, 4591, 4593, 4566, 4594, 4596, 4597, 4598, 4599, 4600, 4585, 4584, 4582, 4581, 4580, 4579, 4578, 4577, 4576, 4575, 4574, 4572, 4571, 4570, 4569, 4568, 4567, 4523, 4521, 4520, 4463, 4455, 4456, 4457, 4458, 4460, 4461, 4464, 4473, 4465, 4466, 4467, 4468, 4469, 4470, 4452, 4451, 4448, 4446, 4444, 4443, 4442, 4441, 4440, 4439, 4438, 4436, 4435, 4434, 4433, 4432, 4431, 4472, 4474, 4519, 4504, 4496, 4497, 4498, 4499, 4500, 4501, 4507, 4475, 4508, 4509, 4510, 4513, 4514, 4516, 4495, 4494, 4493, 4492, 4490, 4489, 4488, 4487, 4485, 4484, 4483, 4482, 4481, 4479, 4478, 4477, 4476, 4601, 4603, 4775, 4718, 4710, 4713, 4714, 4715, 4716, 4717, 4719, 4708, 4720, 4721, 4722, 4723, 4724, 4726, 4709, 4707, 4604, 4696, 4689, 4690, 4691, 4692, 4693, 4694, 4698, 4705, 4699, 4700, 4701, 4702, 4703, 4704, 4728, 4729, 4731, 4764, 4754, 4756, 4757, 4760, 4761, 4762, 4765, 4732, 4766, 4767, 4769, 4770, 4771, 4772, 4753, 4752, 4751, 4750, 4749, 4745, 4744, 4743, 4742, 4741, 4740, 4739, 4738, 4737, 4736, 4735, 4734, 4688, 4687, 4686, 4633, 4627, 4628, 4629, 4630, 4631, 4632, 4634, 4645, 4636, 4637, 4638, 4639, 4640, 4641, 4626, 4625, 4624, 4622, 4621, 4620, 4617, 4616, 4615, 4614, 4613, 4612, 4610, 4609, 4607, 4606, 4605, 4644, 4646, 4684, 4676, 4669, 4670, 4671, 4672, 4674, 4675, 4677, 4649, 4678, 4679, 4680, 4681, 4682, 4683, 4667, 4666, 4665, 4664, 4663, 4662, 4661, 4659, 4658, 4657, 4656, 4655, 4654, 4653, 4652, 4651, 4650, 3688, 3686, 2260, 2701, 2695, 2696, 2697, 2698, 2699, 2700, 2702, 2692, 2703, 2704, 2705, 2706, 2707, 2708, 2693, 2691, 2672, 2680, 2674, 2675, 2676, 2677, 2678, 2679, 2681, 2690, 2682, 2683, 2684, 2685, 2686, 2687, 2709, 2711, 2712, 2742, 2736, 2737, 2738, 2739, 2740, 2741, 2743, 2713, 2744, 2745, 2746, 2747, 2748, 2749, 2735, 2734, 2733, 2732, 2730, 2729, 2726, 2724, 2723, 2722, 2721, 2720, 2719, 2717, 2716, 2715, 2714, 2673, 2671, 3685, 2620, 2614, 2615, 2616, 2617, 2618, 2619, 2622, 2612, 2623, 2624, 2626, 2627, 2628, 2629, 2613, 2611, 2670, 2602, 2593, 2596, 2598, 2599, 2600, 2601, 2603, 2610, 2604, 2605, 2606, 2607, 2608, 2609, 2630, 2631, 2632, 2660, 2654, 2655, 2656, 2657, 2658, 2659, 2661, 2633, 2662, 2663, 2664, 2666, 2667, 2669, 2652, 2651, 2650, 2649, 2648, 2647, 2645, 2644, 2643, 2642, 2641, 2640, 2639, 2637, 2636, 2635, 2634, 2750, 2751, 2752, 2877, 2870, 2871, 2873, 2874, 2875, 2876, 2878, 2868, 2881, 2883, 2884, 2886, 2887, 2888, 2869, 2867, 2753, 2856, 2849, 2851, 2852, 2853, 2854, 2855, 2857, 2866, 2858, 2859, 2861, 2862, 2864, 2865, 2890, 2892, 2893, 2934, 2927, 2928, 2929, 2930, 2931, 2933, 2935, 2896, 2936, 2937, 2938, 2939, 2940, 2942, 2925, 2923, 2922, 2921, 2920, 2918, 2916, 2914, 2912, 2911, 2910, 2909, 2906, 2905, 2904, 2900, 2899, 2848, 2847, 2845, 2779, 2773, 2774, 2775, 2776, 2777, 2778, 2780, 2788, 2781, 2782, 2783, 2784, 2785, 2786, 2772, 2771, 2770, 2769, 2767, 2765, 2764, 2763, 2762, 2761, 2760, 2759, 2758, 2757, 2756, 2755, 2754, 2787, 2789, 2844, 2832, 2822, 2823, 2824, 2827, 2828, 2831, 2833, 2791, 2834, 2836, 2837, 2839, 2840, 2843, 2821, 2817, 2816, 2815, 2811, 2810, 2809, 2808, 2807, 2806, 2805, 2799, 2798, 2797, 2796, 2793, 2792, 2592, 2591, 2590, 2379, 2373, 2374, 2375, 2376, 2377, 2378, 2380, 2371, 2381, 2382, 2383, 2384, 2385, 2386, 2372, 2369, 2429, 2357, 2350, 2351, 2352, 2353, 2354, 2356, 2358, 2368, 2361, 2363, 2364, 2365, 2366, 2367, 2387, 2388, 2389, 2418, 2411, 2412, 2413, 2414, 2415, 2416, 2419, 2390, 2420, 2422, 2424, 2425, 2426, 2427, 2410, 2409, 2408, 2407, 2406, 2405, 2404, 2402, 2401, 2400, 2399, 2398, 2396, 2395, 2394, 2393, 2392, 2349, 2348, 2346, 2292, 2282, 2283, 2284, 2285, 2286, 2287, 2293, 2301, 2294, 2295, 2296, 2297, 2298, 2299, 2281, 2280, 2279, 2278, 2277, 2276, 2275, 2271, 2269, 2268, 2267, 2266, 2265, 2264, 2263, 2262, 2261, 2300, 2302, 2345, 2334, 2327, 2328, 2329, 2330, 2332, 2333, 2335, 2303, 2338, 2339, 2341, 2342, 2343, 2344, 2326, 2325, 2323, 2322, 2321, 2319, 2317, 2316, 2315, 2314, 2312, 2311, 2310, 2309, 2308, 2306, 2305, 2428, 2431, 2589, 2540, 2534, 2535, 2536, 2537, 2538, 2539, 2541, 2532, 2542, 2543, 2544, 2545, 2546, 2547, 2533, 2531, 2432, 2522, 2516, 2517, 2518, 2519, 2520, 2521, 2523, 2530, 2524, 2525, 2526, 2527, 2528, 2529, 2548, 2549, 2550, 2580, 2571, 2573, 2574, 5148, 2576, 2578, 2581, 2551, 2582, 2584, 2585, 2586, 2587, 2588, 2570, 2569, 2568, 2567, 2566, 2565, 2564, 2563, 2562, 2561, 2560, 2559, 2557, 2555, 2554, 2553, 2552, 2515, 2514, 2513, 2464, 2457, 2459, 2460, 2461, 2462, 2463, 2466, 2476, 2468, 2469, 2470, 2471, 2472, 2474, 2456, 2454, 2453, 2452, 2449, 2448, 2445, 2443, 2441, 2440, 2439, 2438, 2437, 2436, 2435, 2434, 2433, 2475, 2477, 2512, 2503, 2497, 2498, 2499, 2500, 2501, 2502, 2504, 2478, 2505, 2506, 2507, 2508, 2509, 2511, 2496, 2495, 2493, 2492, 2491, 2490, 2489, 2488, 2487, 2486, 2485, 2484, 2483, 2482, 2481, 2480, 2479, 2943, 2944, 2945, 3446, 3437, 3440, 3442, 3443, 3444, 3445, 3447, 3433, 3448, 3449, 3450, 3452, 3453, 3454, 3434, 3432, 3503, 3421, 3413, 3415, 3416, 3418, 3419, 3420, 3422, 3431, 3423, 3424, 3426, 3427, 3428, 3429, 3455, 3456, 3457, 3493, 3482, 3484, 3487, 3489, 3491, 3492, 3494, 3458, 3495, 3496, 3497, 3498, 3499, 3501, 3481, 3480, 3479, 3478, 3476, 3475, 3473, 3470, 3469, 3468, 3465, 3464, 3463, 3462, 3461, 3460, 3459, 3412, 3411, 3409, 3348, 3342, 3343, 3344, 3345, 3346, 3347, 3349, 3362, 3350, 3351, 3355, 3356, 3357, 3359, 3341, 3340, 3339, 3338, 3335, 3334, 3333, 3332, 3331, 3330, 3328, 3327, 3325, 3324, 3323, 3322, 3321, 3361, 3364, 3407, 3397, 3389, 3390, 3393, 3394, 3395, 3396, 3398, 3365, 3399, 3400, 3401, 3403, 3405, 3406, 3388, 3387, 3386, 3385, 3383, 3382, 3381, 3380, 3379, 3377, 3375, 3374, 3372, 3370, 3369, 3367, 3366, 3502, 3504, 3317, 3626, 3617, 3619, 3620, 3623, 3624, 3625, 3627, 3613, 3628, 3631, 3635, 3638, 3639, 3640, 3615, 3612, 3505, 3603, 3595, 3597, 3598, 3599, 3601, 3602, 3604, 3611, 3605, 3606, 3607, 3608, 3609, 3610, 3641, 3642, 3644, 3675, 3668, 3669, 3670, 3671, 3672, 3673, 3676, 3645, 3677, 3679, 3680, 3681, 3682, 3683, 3667, 3666, 3665, 3664, 3662, 3661, 3660, 3659, 3658, 3657, 3656, 3653, 3652, 3650, 3649, 3648, 3646, 3594, 3593, 3592, 3533, 3525, 3526, 3527, 3529, 3530, 3531, 3534, 3544, 3536, 3537, 3538, 3539, 3541, 3542, 3524, 3523, 3522, 3521, 3520, 3519, 3517, 3516, 3515, 3513, 3512, 3511, 3510, 3509, 3508, 3507, 3506, 3543, 3545, 3591, 3582, 3571, 3573, 3574, 3576, 3577, 3580, 3583, 3546, 3584, 3585, 3586, 3587, 3588, 3590, 3570, 3569, 3568, 3567, 3564, 3563, 3562, 3561, 3560, 3558, 3557, 3556, 3552, 3551, 3550, 3549, 3547, 3319, 3315, 2946, 3074, 3065, 3066, 3067, 3070, 3071, 3073, 3075, 3063, 3076, 3078, 3080, 3081, 3083, 3084, 3064, 3062, 3133, 3048, 3041, 3042, 3043, 3044, 3045, 3046, 3049, 3060, 3050, 3051, 3053, 3054, 3055, 3056, 3086, 3087, 3088, 3122, 3113, 3114, 3115, 3117, 3120, 3121, 3124, 3089, 3125, 3127, 3128, 3129, 3130, 3131, 3112, 3110, 3109, 3108, 3106, 3105, 3104, 3103, 3102, 3101, 3098, 3097, 3096, 3095, 3093, 3092, 3090, 3040, 3039, 3038, 2977, 2967, 2968, 2969, 2970, 2973, 2976, 2978, 2992, 2979, 2980, 2984, 2985, 2986, 2988, 2966, 2964, 2963, 2961, 2960, 2959, 2958, 2957, 2956, 2955, 2954, 2953, 2952, 2951, 2950, 2948, 2947, 2990, 2994, 3037, 3027, 3019, 3020, 3021, 3023, 3025, 3026, 3028, 2995, 3029, 3030, 3032, 3033, 3035, 3036, 3018, 3017, 3016, 3014, 3013, 3012, 3010, 3008, 3004, 3003, 3002, 3001, 3000, 2999, 2998, 2997, 2996, 3132, 3135, 3313, 3259, 3253, 3254, 3255, 3256, 3257, 3258, 3260, 3251, 3261, 3262, 3263, 3265, 3266, 3267, 3252, 3250, 3137, 3235, 3228, 3229, 3230, 3231, 3232, 3234, 3236, 3249, 3239, 3240, 3241, 3242, 3246, 3248, 3271, 3272, 3273, 3301, 3295, 3296, 3297, 3298, 3299, 3300, 3302, 3275, 3303, 3304, 3306, 3307, 3308, 3312, 3294, 3291, 3290, 3289, 3288, 3287, 3286, 3285, 3284, 3283, 3282, 3281, 3280, 3279, 3278, 3277, 3276, 3227, 3226, 3224, 3165, 3159, 3160, 3161, 3162, 3163, 3164, 3166, 3177, 3167, 3168, 3170, 3171, 3173, 3174, 3158, 3157, 3156, 3154, 3153, 3152, 3151, 3150, 3149, 3148, 3146, 3145, 3143, 3142, 3140, 3139, 3138, 3175, 3178, 3223, 3210, 3202, 3203, 3204, 3205, 3206, 3207, 3214, 3179, 3215, 3216, 3219, 3220, 3221, 3222, 3201, 3200, 3199, 3198, 3196, 3194, 3192, 3189, 3188, 3187, 3186, 3185, 3184, 3183, 3182, 3181, 3180, 2575]\n"
     ]
    }
   ],
   "source": [
    "# Defining similar users\n",
    "user_id = 63 # Defining variable value\n",
    "sim_users = find_similar_users(user_id)\n",
    "print(sim_users)\n"
   ]
  },
  {
   "cell_type": "code",
   "execution_count": 445,
   "metadata": {},
   "outputs": [
    {
     "name": "stdout",
     "output_type": "stream",
     "text": [
      "[0.0, 2.0, 4.0, 8.0, 9.0, 12.0, 14.0, 15.0, 16.0, 18.0, 20.0, 25.0, 26.0, 28.0, 29.0, 30.0, 32.0, 33.0, 34.0, 36.0, 39.0, 40.0, 43.0, 48.0, 50.0, 51.0, 53.0, 54.0, 57.0, 58.0, 59.0, 60.0, 62.0, 64.0, 65.0, 68.0, 74.0, 76.0, 77.0, 78.0, 80.0, 81.0, 82.0, 87.0, 89.0, 92.0, 96.0, 98.0, 100.0, 101.0, 102.0, 103.0, 107.0, 108.0, 109.0, 110.0, 111.0, 112.0, 113.0, 115.0, 116.0, 117.0, 120.0, 122.0, 124.0, 125.0, 130.0, 131.0, 132.0, 134.0, 136.0, 138.0, 142.0, 143.0, 145.0, 146.0, 151.0, 152.0, 153.0, 157.0, 158.0, 162.0, 164.0, 173.0, 176.0, 181.0, 183.0, 184.0, 188.0, 189.0, 191.0, 193.0, 194.0, 195.0, 202.0, 205.0, 210.0, 213.0, 215.0, 221.0, 223.0, 224.0, 225.0, 230.0, 232.0, 233.0, 234.0, 236.0, 237.0, 239.0, 240.0, 241.0, 244.0, 250.0, 251.0, 252.0, 253.0, 254.0, 256.0, 258.0, 260.0, 263.0, 266.0, 268.0, 270.0, 273.0, 277.0, 278.0, 283.0, 284.0, 288.0, 291.0, 295.0, 297.0, 298.0, 299.0, 302.0, 303.0, 310.0, 311.0, 313.0, 314.0, 315.0, 316.0, 319.0, 323.0, 324.0, 329.0, 330.0, 336.0, 337.0, 339.0, 346.0, 347.0, 348.0, 349.0, 350.0, 351.0, 352.0, 353.0, 355.0, 356.0, 359.0, 362.0, 363.0, 364.0, 366.0, 367.0, 369.0, 373.0, 375.0, 376.0, 379.0, 381.0, 382.0, 383.0, 384.0, 389.0, 390.0, 395.0, 398.0, 399.0, 400.0, 404.0, 409.0, 411.0, 412.0, 415.0, 416.0, 417.0, 420.0, 422.0, 426.0, 427.0, 428.0, 429.0, 430.0, 437.0, 440.0, 443.0, 444.0, 446.0, 448.0, 455.0, 460.0, 462.0, 463.0, 464.0, 465.0, 468.0, 470.0, 473.0, 474.0, 475.0, 477.0, 479.0, 480.0, 482.0, 485.0, 486.0, 491.0, 492.0, 494.0, 495.0, 499.0, 500.0, 502.0, 504.0, 508.0, 510.0, 515.0, 517.0, 521.0, 522.0, 524.0, 525.0, 528.0, 532.0, 534.0, 542.0, 544.0, 547.0, 553.0, 555.0, 557.0, 559.0, 563.0, 564.0, 566.0, 567.0, 569.0, 575.0, 583.0, 585.0, 586.0, 588.0, 593.0, 599.0, 600.0, 606.0, 607.0, 609.0, 610.0, 616.0, 617.0, 618.0, 622.0, 626.0, 631.0, 632.0, 634.0, 636.0, 641.0, 644.0, 645.0, 647.0, 651.0, 653.0, 655.0, 656.0, 658.0, 659.0, 662.0, 665.0, 667.0, 668.0, 669.0, 670.0, 673.0, 675.0, 677.0, 678.0, 679.0, 680.0, 681.0, 682.0, 684.0, 686.0, 692.0, 693.0, 695.0, 701.0, 705.0, 708.0, 714.0, 715.0, 720.0, 721.0, 722.0, 723.0, 724.0, 725.0, 727.0, 729.0, 730.0, 732.0, 735.0, 740.0, 744.0, 749.0, 751.0, 757.0, 758.0, 759.0, 760.0, 761.0, 763.0, 764.0, 766.0, 768.0, 778.0, 781.0, 782.0, 784.0, 785.0, 788.0, 793.0, 795.0, 800.0, 805.0, 809.0, 812.0, 813.0, 821.0, 825.0, 833.0, 843.0, 844.0, 846.0, 853.0, 855.0, 857.0, 858.0, 861.0, 862.0, 864.0, 865.0, 868.0, 870.0, 871.0, 876.0, 878.0, 880.0, 881.0, 882.0, 884.0, 887.0, 891.0, 892.0, 896.0, 898.0, 903.0, 905.0, 906.0, 910.0, 911.0, 919.0, 926.0, 928.0, 930.0, 932.0, 933.0, 935.0, 936.0, 939.0, 940.0, 941.0, 943.0, 947.0, 948.0, 949.0, 951.0, 952.0, 955.0, 957.0, 958.0, 959.0, 961.0, 962.0, 965.0, 967.0, 968.0, 969.0, 972.0, 973.0, 974.0, 975.0, 977.0, 981.0, 984.0, 985.0, 986.0, 990.0, 993.0, 996.0, 997.0, 1000.0, 1004.0, 1006.0, 1008.0, 1014.0, 1015.0, 1016.0, 1017.0, 1018.0, 1024.0, 1025.0, 1028.0, 1030.0, 1035.0, 1038.0, 1042.0, 1043.0, 1044.0, 1047.0, 1048.0, 1050.0, 1051.0, 1052.0, 1053.0, 1054.0, 1055.0, 1056.0, 1057.0, 1058.0, 1059.0, 1060.0, 1061.0, 1062.0, 1063.0, 1064.0, 1065.0, 1066.0, 1067.0, 1068.0, 1069.0, 1070.0, 1071.0, 1072.0, 1073.0, 1074.0, 1075.0, 1077.0, 1078.0, 1079.0, 1080.0, 1083.0, 1084.0, 1085.0, 1086.0, 1089.0, 1091.0, 1092.0, 1097.0, 1101.0, 1106.0, 1108.0, 1112.0, 1113.0, 1114.0, 1116.0, 1119.0, 1120.0, 1121.0, 1122.0, 1123.0, 1124.0, 1125.0, 1127.0, 1128.0, 1130.0, 1134.0, 1135.0, 1137.0, 1138.0, 1139.0, 1140.0, 1141.0, 1142.0, 1143.0, 1144.0, 1145.0, 1146.0, 1147.0, 1148.0, 1149.0, 1150.0, 1151.0, 1152.0, 1153.0, 1154.0, 1155.0, 1156.0, 1157.0, 1158.0, 1159.0, 1160.0, 1161.0, 1162.0, 1163.0, 1164.0, 1165.0, 1166.0, 1167.0, 1168.0, 1169.0, 1170.0, 1171.0, 1172.0, 1173.0, 1174.0, 1175.0, 1176.0, 1177.0, 1178.0, 1179.0, 1180.0, 1181.0, 1183.0, 1184.0, 1185.0, 1186.0, 1187.0, 1188.0, 1189.0, 1190.0, 1191.0, 1192.0, 1195.0, 1196.0, 1197.0, 1198.0, 1199.0, 1200.0, 1202.0, 1203.0, 1206.0, 1208.0, 1210.0, 1219.0, 1221.0, 1225.0, 1226.0, 1227.0, 1228.0, 1230.0, 1232.0, 1233.0, 1234.0, 1235.0, 1237.0, 1244.0, 1247.0, 1251.0, 1252.0, 1253.0, 1254.0, 1257.0, 1260.0, 1261.0, 1263.0, 1266.0, 1267.0, 1271.0, 1273.0, 1274.0, 1276.0, 1277.0, 1278.0, 1279.0, 1280.0, 1281.0, 1282.0, 1283.0, 1285.0, 1286.0, 1289.0, 1290.0, 1291.0, 1292.0, 1293.0, 1294.0, 1295.0, 1296.0, 1297.0, 1298.0, 1299.0, 1303.0, 1304.0, 1305.0, 1306.0, 1307.0, 1308.0, 1313.0, 1314.0, 1315.0, 1317.0, 1318.0, 1319.0, 1320.0, 1321.0, 1324.0, 1326.0, 1328.0, 1329.0, 1330.0, 1331.0, 1332.0, 1333.0, 1334.0, 1335.0, 1336.0, 1337.0, 1338.0, 1340.0, 1343.0, 1344.0, 1346.0, 1348.0, 1349.0, 1350.0, 1351.0, 1354.0, 1355.0, 1356.0, 1357.0, 1358.0, 1359.0, 1360.0, 1361.0, 1362.0, 1363.0, 1364.0, 1365.0, 1366.0, 1367.0, 1368.0, 1369.0, 1371.0, 1372.0, 1377.0, 1378.0, 1386.0, 1387.0, 1390.0, 1391.0, 1393.0, 1394.0, 1395.0, 1396.0, 1397.0, 1398.0, 1400.0, 1401.0, 1402.0, 1403.0, 1404.0, 1405.0, 1406.0, 1407.0, 1408.0, 1409.0, 1410.0, 1411.0, 1412.0, 1414.0, 1415.0, 1416.0, 1418.0, 1419.0, 1420.0, 1421.0, 1422.0, 1423.0, 1424.0, 1425.0, 1426.0, 1427.0, 1428.0, 1429.0, 1430.0, 1431.0, 1432.0, 1433.0, 1434.0, 1435.0, 1436.0, 1437.0, 1439.0, 1440.0, 1441.0, 1442.0, 1443.0, 1444.0]\n"
     ]
    }
   ],
   "source": [
    "# Creating a list of recommendations for the user\n",
    "recs = df[df[\"user_id\"].isin(sim_users)][\"article_id\"]\n",
    "recs = list(set(recs))\n",
    "print(recs)\n"
   ]
  },
  {
   "cell_type": "code",
   "execution_count": 446,
   "metadata": {},
   "outputs": [],
   "source": [
    "# Function: Defining function to get the article names\n",
    "def get_article_names(article_ids, df=df):\n",
    "    '''\n",
    "    INPUT:\n",
    "    article_ids - (list) a list of article ids\n",
    "    df - (pandas dataframe) df as defined at the top of the notebook\n",
    "    \n",
    "    OUTPUT:\n",
    "    article_names - (list) a list of article names associated with the list of article ids \n",
    "                    (this is identified by the title column)\n",
    "    '''\n",
    "    # Your code here\n",
    "    #\n",
    "    \n",
    "    # Creating list for article ids as pandas dataframe\n",
    "    article_ids = pd.Series(article_ids).astype(np.float).astype(np.int32).tolist()\n",
    "    \n",
    "    # Creating the list of article names\n",
    "    article_names = df[df[\"article_id\"].isin(article_ids)][\"title\"].unique().tolist()\n",
    "  \n",
    "    return article_names # Return the article names associated with list of article ids\n",
    "\n",
    "\n",
    "# Function: Defining function to get the article ids and article names\n",
    "def get_user_articles(user_id, user_item=user_item):\n",
    "    '''\n",
    "    INPUT:\n",
    "    user_id - (int) a user id\n",
    "    user_item - (pandas dataframe) matrix of users by articles: \n",
    "                1's when a user has interacted with an article, 0 otherwise\n",
    "    \n",
    "    OUTPUT:\n",
    "    article_ids - (list) a list of the article ids seen by the user\n",
    "    article_names - (list) a list of article names associated with the list of article ids \n",
    "                    (this is identified by the doc_full_name column in df_content)\n",
    "    \n",
    "    Description:\n",
    "    Provides a list of the article_ids and article titles that have been seen by a user\n",
    "    '''\n",
    "    # Your code here\n",
    "    #\n",
    "     \n",
    "    # Defining user ids \n",
    "    user_ids = user_item.loc[[user_id]]\n",
    "    \n",
    "    # Creating the list of article ids \n",
    "    article_ids = user_ids[user_ids==1].dropna(axis=1).columns.tolist()\n",
    "    article_ids = [str(i) for i in article_ids]\n",
    "\n",
    "    # Creating the list of article names\n",
    "    article_names = get_article_names(article_ids)\n",
    "\n",
    "    return article_ids, article_names # return the ids and names\n",
    "\n",
    "\n",
    "# Function: Defining function to get the user-user recommendations\n",
    "def user_user_recs(user_id, m=10):\n",
    "    '''\n",
    "    INPUT:\n",
    "    user_id - (int) a user id\n",
    "    m - (int) the number of recommendations you want for the user\n",
    "    \n",
    "    OUTPUT:\n",
    "    recs - (list) a list of recommendations for the user\n",
    "    \n",
    "    Description:\n",
    "    Loops through the users based on closeness to the input user_id\n",
    "    For each user - finds articles the user hasn't seen before and provides them as recs\n",
    "    Does this until m recommendations are found\n",
    "    \n",
    "    Notes:\n",
    "    Users who are the same closeness are chosen arbitrarily as the 'next' user\n",
    "    \n",
    "    For the user where the number of recommended articles starts below m \n",
    "    and ends exceeding m, the last items are chosen arbitrarily\n",
    "    \n",
    "    '''\n",
    "    # Your code here\n",
    "    #\n",
    "    \n",
    "    # Defining similar users\n",
    "    sim_users = find_similar_users(user_id)\n",
    "    \n",
    "    # Creating a list of recommendations for the user\n",
    "    recs = df[df[\"user_id\"].isin(sim_users)][\"article_id\"]\n",
    "    recs = list(set(recs))\n",
    "    \n",
    "    return recs # return your recommendations for this user_id   \n"
   ]
  },
  {
   "cell_type": "code",
   "execution_count": 447,
   "metadata": {},
   "outputs": [
    {
     "data": {
      "text/plain": [
       "['using pixiedust for fast, flexible, and easier data analysis and experimentation',\n",
       " 'healthcare python streaming application demo',\n",
       " 'use deep learning for image classification',\n",
       " 'ml optimization using cognitive assistant',\n",
       " 'deploy your python model as a restful api',\n",
       " 'visualize data with the matplotlib library',\n",
       " 'upload files to ibm data science experience using the command line',\n",
       " 'classify tumors with machine learning',\n",
       " 'configuring the apache spark sql context',\n",
       " 'got zip code data? prep it for analytics. – ibm watson data lab – medium',\n",
       " 'the unit commitment problem',\n",
       " 'apache spark lab, part 1: basic concepts',\n",
       " 'getting started with python',\n",
       " 'timeseries data analysis of iot events by using jupyter notebook',\n",
       " '10 must attend data science, ml and ai conferences in 2018',\n",
       " 'housing (2015): united states demographic measures',\n",
       " 'access db2 warehouse on cloud and db2 with python',\n",
       " 'the nurse assignment problem',\n",
       " 'dsx: hybrid mode',\n",
       " 'predicting churn with the spss random tree algorithm',\n",
       " 'data science for real-time streaming analytics',\n",
       " 'analyze energy consumption in buildings',\n",
       " 'ibm watson facebook posts for 2015',\n",
       " 'web picks - dataminingapps',\n",
       " 'visualize car data with brunel',\n",
       " 'common excel tasks demonstrated in\\xa0pandas',\n",
       " 'analyze open data sets with pandas dataframes',\n",
       " 'use xgboost, scikit-learn & ibm watson machine learning apis',\n",
       " 'intents & examples for ibm watson conversation',\n",
       " 'apache spark lab, part 3: machine learning',\n",
       " 'uci: sms spam collection',\n",
       " 'putting a human face on machine learning',\n",
       " 'gosales transactions for naive bayes model',\n",
       " 'access mysql with python',\n",
       " 'access mysql with r',\n",
       " 'ibm data science experience white paper - sparkr transforming r into a tool for big data analytics',\n",
       " 'gosales transactions for logistic regression model',\n",
       " 'welcome to pixiedust',\n",
       " 'leverage python, scikit, and text classification for behavioral profiling',\n",
       " 'dry bulb temperature, by country, station and year',\n",
       " 'world tourism data by the world tourism organization',\n",
       " 'an introduction to stock market data analysis with r (part 1)',\n",
       " 'insights from new york car accident reports',\n",
       " 'maximize oil company profits',\n",
       " 'airbnb data for analytics: austin listings',\n",
       " 'city population by sex, city and city type',\n",
       " 'using github for project control in dsx',\n",
       " 'use sql with data in hadoop python',\n",
       " 'discover hidden facebook usage insights',\n",
       " 'overfitting in machine learning: what it is and how to prevent it',\n",
       " 'use apache systemml and spark for machine learning',\n",
       " 'use the cloudant-spark connector in python notebook',\n",
       " 'analyze open data sets with spark & pixiedust',\n",
       " 'uci ml repository: chronic kidney disease data set',\n",
       " 'uci: heart disease - cleveland',\n",
       " 'income (2015): united states demographic measures',\n",
       " 'apache spark as the new engine of genomics',\n",
       " 'how to use version control (github) in rstudio within dsx?',\n",
       " 'pixieapp for outlier detection',\n",
       " 'excel files: loading from object storage — python',\n",
       " 'developing for the ibm streaming analytics service',\n",
       " 'building a business that combines human experts and data science',\n",
       " 'time series prediction using recurrent neural networks (lstms)',\n",
       " 'simple graphing with ipython and\\xa0pandas',\n",
       " 'graph-based machine learning',\n",
       " 'airbnb data for analytics: washington d.c. listings',\n",
       " 'uci: white wine quality',\n",
       " 'model bike sharing data with spss',\n",
       " 'data visualization with r: scrum metrics',\n",
       " 'contraceptive prevalence (% women 15-49) by country',\n",
       " 'optimizing a marketing campaign: moving from predictions to actions',\n",
       " 'analyze precipitation data',\n",
       " 'airbnb data for analytics: amsterdam calendar',\n",
       " 'finding optimal locations of new store using decision optimization',\n",
       " 'analyze accident reports on amazon emr spark',\n",
       " 'quick guide to build a recommendation engine in python',\n",
       " 'percentage of internet users by country',\n",
       " 'neural language modeling from scratch (part 1)',\n",
       " 'learning statistics on youtube',\n",
       " 'accelerate your workflow with dsx',\n",
       " 'interest rates',\n",
       " 'analyzing data by using the sparkling.data library features',\n",
       " 'breast cancer wisconsin (diagnostic) data set',\n",
       " 'interactive time series with dygraphs',\n",
       " 'health insurance (2015): united states demographic measures',\n",
       " 'imitation learning in tensorflow (hopper from openai gym)',\n",
       " '10 tips on using jupyter notebook',\n",
       " 'country statistics: infant mortality rate',\n",
       " 'use r dataframes & ibm watson natural language understanding',\n",
       " 'mobile-cellular telephone subscriptions per 100 inhabitants, worldwide',\n",
       " 'improved water source by country: % population with access',\n",
       " 'better together: spss and data science experience',\n",
       " '502    forgetting the past to learn the future: long ...\\nName: title, dtype: object',\n",
       " 'annual precipitation by country 1990-2009',\n",
       " '520    using notebooks with pixiedust for fast, flexi...\\nName: title, dtype: object',\n",
       " 'intentional homicide, number and rate per 100,000 population, by country',\n",
       " 'fortune 100 companies',\n",
       " 'jupyter notebook tutorial',\n",
       " 'high-tech exports as % of manufactured exports by country',\n",
       " 'a moving average trading strategy',\n",
       " 'education (2015): united states demographic measures',\n",
       " 'how to perform a logistic regression in r',\n",
       " 'python machine learning: scikit-learn tutorial',\n",
       " 'country statistics - europe - population and society',\n",
       " 'how smart catalogs can turn the big data flood into an ocean of opportunity',\n",
       " 'deep learning with tensorflow course by big data university',\n",
       " 'learn tensorflow and deep learning together and now!',\n",
       " 'apache spark lab, part 2: querying data',\n",
       " '15 page tutorial for r',\n",
       " 'analyze traffic data from the city of san francisco',\n",
       " 'country statistics: unemployment rate',\n",
       " 'read and write data to and from amazon s3 buckets in rstudio',\n",
       " 'how the circle line rogue train was caught with data',\n",
       " 'use decision optimization to schedule league games',\n",
       " 'airbnb data for analytics: vienna reviews',\n",
       " 'country statistics: health expenditures',\n",
       " 'using brunel in ipython/jupyter notebooks',\n",
       " 'generative adversarial networks (gans)',\n",
       " 'what is hadoop?',\n",
       " 'use spark for r to load data and run sql queries',\n",
       " 'working with notebooks in dsx',\n",
       " 'probabilistic graphical models tutorial\\u200a—\\u200apart 1 – stats and bots',\n",
       " 'household consumption expenditure',\n",
       " 'the greatest public datasets for ai – startup grind',\n",
       " 'this week in data science (august 02, 2016)',\n",
       " 'use spark r to load and analyze data',\n",
       " 'learn about data science in world of watson',\n",
       " \"a beginner's guide to variational methods\",\n",
       " 'occupation (2015): united states demographic measures',\n",
       " 'rapidly build machine learning flows with dsx',\n",
       " 'using machine learning to predict baseball injuries',\n",
       " 'use spark for scala to load data and run sql queries',\n",
       " 'simple linear regression? do it the bayesian way',\n",
       " 'deep learning trends and an example',\n",
       " 'analyze open data sets using pandas in a python notebook',\n",
       " 'airbnb data for analytics: barcelona reviews',\n",
       " 'machine learning for everyone',\n",
       " 'tidy up your jupyter notebooks with scripts',\n",
       " 'deep learning from scratch i: computational graphs',\n",
       " 'data visualization playbook: telling the data story',\n",
       " 'experience iot with coursera',\n",
       " 'use ibm data science experience to read and write data stored on amazon s3',\n",
       " 'this week in data science',\n",
       " 'what is text analytics?',\n",
       " 'analyzing streaming data from kafka topics',\n",
       " 'total population by country',\n",
       " 'working interactively with rstudio and notebooks in dsx',\n",
       " 'transfer learning for flight delay prediction via variational autoencoders',\n",
       " 'the nurse assignment problem data',\n",
       " 'uci: car evaluation',\n",
       " 'adolescent fertility rate (births per 1,000 women ages 15-19), worldwide',\n",
       " 'tensorflow quick tips',\n",
       " 'airbnb data for analytics: amsterdam listings',\n",
       " 'an introduction to scientific python (and a bit of the maths behind it) – numpy',\n",
       " '10 pieces of advice to beginner data scientists',\n",
       " 'uci: poker hand - testing data set',\n",
       " 'data model with streaming analytics and python',\n",
       " '1357    what i learned implementing a classifier from ...\\nName: title, dtype: object',\n",
       " 'how to use db2 warehouse on cloud in data science experience notebooks',\n",
       " 'movie recommender system with spark machine learning',\n",
       " 'modeling energy usage in new york city',\n",
       " '1448    i ranked every intro to data science course on...\\nName: title, dtype: object',\n",
       " 'airbnb data for analytics: berlin reviews',\n",
       " 'workflow in r',\n",
       " 'jupyter notebooks with scala, python, or r kernels',\n",
       " 'car performance data',\n",
       " 'fertility rate by country in total births per woman',\n",
       " 'brunel in jupyter',\n",
       " 'country statistics: stock of broad money',\n",
       " 'sparklyr — r interface for apache spark',\n",
       " 'deep learning with data science experience',\n",
       " 'learn basics about notebooks and apache spark',\n",
       " 'shaping data with ibm data refinery',\n",
       " 'enjoy python 3.5 in jupyter notebooks',\n",
       " 'the million dollar question: where is my data?',\n",
       " 'ibm watson machine learning: get started',\n",
       " 'challenges in deep learning',\n",
       " 'data science in the cloud',\n",
       " 'awesome deep learning papers',\n",
       " 'uci: forest fires',\n",
       " 'tidy data in python',\n",
       " 'from python nested lists to multidimensional numpy arrays',\n",
       " 'analyze db2 warehouse on cloud data in rstudio in dsx',\n",
       " 'neural networks for beginners: popular types and applications',\n",
       " 'rstudio ide  cheat sheet',\n",
       " 'world marriage data',\n",
       " 'flexdashboard: interactive dashboards for r',\n",
       " 'programmatic evaluation using watson conversation',\n",
       " 'forest area by country in sq km',\n",
       " 'uci: adult - predict income',\n",
       " 'developing ibm streams applications with the python api (version 1.6)',\n",
       " 'are your predictive models like broken clocks?',\n",
       " 'improving real-time object detection with yolo',\n",
       " 'persistent changes to spark config in dsx',\n",
       " 'access ibm analytics for apache spark from rstudio',\n",
       " 'mobile cellular subscriptions per 100 people by country',\n",
       " 'country population by gender 1985-2005',\n",
       " 'part-time employment rate, worldwide, by country and year',\n",
       " 'annual % population growth by country',\n",
       " 'country statistics: children under the age of 5 years underweight',\n",
       " 'cleaning the swamp: turn your data lake into a source of crystal-clear insight',\n",
       " 'leaflet: interactive web maps with r',\n",
       " 'an attempt to understand boosting algorithm(s)',\n",
       " 'wages',\n",
       " 'spark sql - rapid performance evolution',\n",
       " 'uci: poker hand - training data set',\n",
       " 'variational auto-encoder for \"frey faces\" using keras',\n",
       " 'easy json loading and social sharing in dsx notebooks',\n",
       " 'build a python app on the streaming analytics service',\n",
       " 'shiny 0.12: interactive plots with ggplot2',\n",
       " 'build a predictive analytic model',\n",
       " 'country statistics: telephones - mobile cellular',\n",
       " 'load data into rstudio for analysis in dsx',\n",
       " 'interactive web apps with shiny cheat sheet',\n",
       " 'times world university ranking analysis',\n",
       " 'uci: iris',\n",
       " 'self-service data preparation with ibm data refinery',\n",
       " 'real-time sentiment analysis of twitter hashtags with spark (+ pixiedust)',\n",
       " 'top 10 machine learning algorithms for beginners',\n",
       " 'collecting data science cheat sheets',\n",
       " 'agriculture, value added (% of gdp) by country',\n",
       " 'customer demographics and sales',\n",
       " 'score a predictive model built with ibm spss modeler, wml & dsx',\n",
       " 'sudoku',\n",
       " 'government consumption expenditure',\n",
       " 'super fast string matching in python',\n",
       " 'getting started with graphframes in apache spark™',\n",
       " 'connect to db2 warehouse on cloud and db2 using scala',\n",
       " \"2875    hugo larochelle's neural network & deep learni...\\nName: title, dtype: object\",\n",
       " '10 powerful features on watson data platform, no coding necessary',\n",
       " 'make machine learning a reality for your enterprise',\n",
       " 'declarative machine learning',\n",
       " 'working with db2 warehouse on cloud in data science experience',\n",
       " 'united states demographic measures: zip code tabulation areas (zctas)',\n",
       " 'access postgresql with python',\n",
       " 'making data science a team sport',\n",
       " 'the pandas data analysis library',\n",
       " 'word2vec in data products',\n",
       " 'reducing overplotting in scatterplots',\n",
       " '5 practical use cases of social network analytics: going beyond facebook and twitter',\n",
       " 'airbnb data for analytics: berlin calendar',\n",
       " 'notebooks: a power tool for data scientists',\n",
       " 'use the machine learning library',\n",
       " 'd3heatmap: interactive heat maps',\n",
       " 'births attended by skilled health staff (% of total) by country',\n",
       " 'the 3 kinds of context: machine learning and the art of the frame',\n",
       " 'introducing streams designer',\n",
       " 'country statistics: commercial bank prime lending rate',\n",
       " 'sector correlations shiny app',\n",
       " 'brunel interactive visualizations in jupyter notebooks',\n",
       " 'drowning in data sources: how data cataloging could fix your findability problems',\n",
       " 'brunel 2.0 preview',\n",
       " 'shiny: a data scientist’s best friend',\n",
       " 'new shiny cheat sheet and video tutorial',\n",
       " '3992    using apache spark to predict attack vectors a...\\nName: title, dtype: object',\n",
       " 'this week in data science (may 30, 2017)',\n",
       " 'uci: wine recognition',\n",
       " 'use data assets in a project using ibm data catalog',\n",
       " 'model a golomb ruler',\n",
       " 'airbnb data for analytics: boston calendar',\n",
       " 'pixiedust: magic for your python notebook',\n",
       " 'blogging with brunel',\n",
       " 'create a connection and add it to a project using ibm data refinery',\n",
       " 'mapping points with folium',\n",
       " 'uci: red wine quality',\n",
       " 'country statistics: gdp - per capita (ppp)',\n",
       " 'what caused the challenger disaster?',\n",
       " 'airbnb data for analytics: portland listings',\n",
       " 'shiny 0.13.0',\n",
       " 'data visualization playbook: revisiting the basics',\n",
       " 'hyperparameter optimization: sven hafeneger',\n",
       " 'detect malfunctioning iot sensors with streaming analytics',\n",
       " 'a comparison of logistic regression and naive bayes ',\n",
       " 'country statistics: distribution of family income - gini index',\n",
       " 'uci: abalone',\n",
       " 'country statistics: life expectancy at birth',\n",
       " 'airbnb data for analytics: new york city calendar',\n",
       " 'manage object storage in dsx',\n",
       " 'airbnb data for analytics: boston listings',\n",
       " 'using machine learning to predict value of homes on airbnb',\n",
       " 'pixiedust gets its first community-driven feature in 1.0.4',\n",
       " 'pixiedust 1.0 is here! – ibm watson data lab',\n",
       " 'dt: an r interface to the datatables library',\n",
       " 'airbnb data for analytics: amsterdam reviews',\n",
       " 'which one to choose for your problem',\n",
       " 'machine learning exercises in python, part 1',\n",
       " 'electric power consumption (kwh per capita) by country',\n",
       " 'adoption of machine learning to software failure prediction',\n",
       " 'airbnb data for analytics: portland reviews',\n",
       " 'airbnb data for analytics: portland calendar',\n",
       " 'spark 1.4 for rstudio',\n",
       " 'back to basics — jupyter notebooks',\n",
       " 'how to map usa rivers using ggplot2',\n",
       " 'airbnb data for analytics: venice listings',\n",
       " 'consumer prices',\n",
       " 'airbnb data for analytics: venice calendar',\n",
       " 'population below national poverty line, total, percentage',\n",
       " 'airbnb data for analytics: venice reviews',\n",
       " 'worldwide fuel oil consumption by household (in 1000 metric tons)',\n",
       " 'practical tutorial on random forest and parameter tuning in r',\n",
       " 'optimization for deep learning highlights in 2017',\n",
       " '0 to life-changing app: scala first steps and an interview with jakob odersky',\n",
       " 'ibm data catalog is now generally available',\n",
       " 'using deep learning with keras to predict customer churn',\n",
       " 'spark-based machine learning tools for capturing word meanings',\n",
       " 'leverage scikit-learn models with core ml',\n",
       " 'house building with worker skills',\n",
       " 'gradient boosting explained',\n",
       " 'three reasons machine learning models go out of sync',\n",
       " 'working with sqlite databases using python and pandas',\n",
       " 'country statistics: crude oil - proved reserves',\n",
       " 'country statistics: crude oil - exports',\n",
       " 'how to write the first for loop in r',\n",
       " 'upload data and create data frames in jupyter notebooks',\n",
       " \"i'd rather predict basketball games than elections: elastic nba rankings\",\n",
       " 'this week in data science (may 23, 2017)',\n",
       " 'i am not a data scientist – ibm watson data lab',\n",
       " 'predicting gentrification using longitudinal census data',\n",
       " 'this week in data science (march 28, 2017)',\n",
       " 'machine learning and the science of choosing',\n",
       " 'spark 2.1 and job monitoring available in dsx',\n",
       " 'deep forest: towards an alternative to deep neural networks',\n",
       " '10 essential algorithms for machine learning engineers',\n",
       " 'what’s new in the streaming analytics service on bluemix',\n",
       " 'neurally embedded emojis',\n",
       " 'data wrangling with dplyr and tidyr cheat sheet',\n",
       " 'why you should master r (even if it might eventually become obsolete)',\n",
       " 'best packages for data manipulation in r',\n",
       " 'this week in data science (april 18, 2017)',\n",
       " 'higher-order logistic regression for large datasets',\n",
       " 'roads paved as % of total roads by country',\n",
       " 'how to choose a project to practice data science',\n",
       " 'this week in data science (february 14, 2017)',\n",
       " 'data structures related to machine learning algorithms',\n",
       " 'united states demographic measures: population and age',\n",
       " 'data tidying in data science experience',\n",
       " 'trust in data science',\n",
       " 'a dynamic duo – inside machine learning – medium',\n",
       " 'this week in data science (april 25, 2017)',\n",
       " 'use spark for python to load data and run sql queries',\n",
       " 'ensemble learning to improve machine learning results',\n",
       " 'this week in data science (january 10, 2017)',\n",
       " 'apache spark™ 2.0: extend structured streaming for spark ml',\n",
       " 'using deep learning to reconstruct high-resolution audio',\n",
       " 'introduction to market basket analysis in\\xa0python',\n",
       " '7292    a dramatic tour through python’s data visualiz...\\nName: title, dtype: object',\n",
       " 'when machine learning matters · erik bernhardsson',\n",
       " 'the machine learning database',\n",
       " 'co2 emissions (metric tons per capita) by country',\n",
       " 'data science bowl 2017',\n",
       " 'the data science process',\n",
       " \"a kaggler's guide to model stacking in practice\",\n",
       " 'statistics for hackers',\n",
       " '10 data science podcasts you need to be listening to right now',\n",
       " 'employed population by occupation and age',\n",
       " 'this week in data science (april 4, 2017)',\n",
       " 'pearson correlation aggregation on sparksql',\n",
       " 'ml algorithm != learning machine',\n",
       " 'households by type of household, age and sex of head of household',\n",
       " 'hurricane how-to',\n",
       " 'this week in data science (january 24, 2017)',\n",
       " 'airbnb data for analytics: vienna listings',\n",
       " 'external debt stocks, total (dod, current us$) by country',\n",
       " 'what is machine learning?',\n",
       " 'automating web analytics through python',\n",
       " 'life expectancy at birth by country in total years',\n",
       " 'modern machine learning algorithms',\n",
       " 'markdown for jupyter notebooks cheatsheet',\n",
       " 'machine learning for the enterprise.',\n",
       " 'access postgresql with r',\n",
       " 'introduction to neural networks, advantages and applications',\n",
       " 'this week in data science (april 11, 2017)',\n",
       " \"let's have some fun with nfl data\",\n",
       " 'pulling and displaying etf data',\n",
       " 'this week in data science (january 31, 2017)',\n",
       " 'interconnect with us',\n",
       " '8170    data science expert interview: dez blanchfield...\\nName: title, dtype: object',\n",
       " 'environment statistics database - water',\n",
       " 'statistical bias types explained (with examples)',\n",
       " 'how to scale your analytics using r',\n",
       " '7 types of job profiles that makes you a data scientist',\n",
       " 'airbnb data for analytics: antwerp listings test',\n",
       " 'r for data science',\n",
       " 'flightpredict ii: the sequel  – ibm watson data lab',\n",
       " 'top 10 machine learning use cases: part 1',\n",
       " 'htmlwidgets: javascript data visualization for r',\n",
       " 'airbnb data for analytics: vancouver listings',\n",
       " 'what is smote in an imbalanced class setting (e.g. fraud detection)?',\n",
       " 'using machine learning to predict parking difficulty',\n",
       " 'improving the roi of big data and analytics through leveraging new sources of data',\n",
       " 'this week in data science (february 28, 2017)',\n",
       " 'this week in data science (may 2, 2017)',\n",
       " 'country statistics: reserves of foreign exchange and gold',\n",
       " 'airbnb data for analytics: sydney calendar',\n",
       " 'this week in data science (may 16, 2017)',\n",
       " 'some random weekend reading',\n",
       " 'airbnb data for analytics: antwerp reviews',\n",
       " 'artificial intelligence, ethically speaking – inside machine learning – medium',\n",
       " 'getting started with apache mahout',\n",
       " 'this week in data science (february 21, 2017)',\n",
       " 'airbnb data for analytics: toronto reviews',\n",
       " 'airbnb data for analytics: austin reviews',\n",
       " 'country statistics: internet users',\n",
       " 'clustering: a guide for the perplexed',\n",
       " 'using rstudio in ibm data science experience',\n",
       " 'recommendation system algorithms – stats and bots',\n",
       " 'use ibm data science experience to detect time series anomalies',\n",
       " 'recommender systems: approaches & algorithms',\n",
       " 'web picks by dataminingapps',\n",
       " 'enhanced color mapping',\n",
       " 'data science platforms are on the rise and ibm is leading the way',\n",
       " 'essentials of machine learning algorithms (with python and r codes)',\n",
       " 'web picks (week of 23 january 2017)',\n",
       " 'predicting the 2016 us presidential election',\n",
       " 'why relational databases and r?',\n",
       " 'publish notebooks to github in dsx',\n",
       " 'the art of side effects: curing apache spark streaming’s amnesia (part 1/2)',\n",
       " 'apache spark sql analyzer resolves order-by column',\n",
       " 'airbnb data for analytics: toronto calendar',\n",
       " 'don’t overlook simpler techniques and algorithms',\n",
       " 'airbnb data for analytics: washington d.c. reviews',\n",
       " 'airbnb data for analytics: sydney reviews',\n",
       " 'seti data, publicly available, from ibm',\n",
       " 'airbnb data for analytics: antwerp calendar',\n",
       " 'brunel: imitation is a sincere form of flattery',\n",
       " 'this week in data science (march 7, 2017)',\n",
       " 'country statistics: electricity - from fossil fuels',\n",
       " 'bayesian regularization for #neuralnetworks – autonomous agents\\u200a—\\u200a#ai',\n",
       " 'jupyter (ipython) notebooks features',\n",
       " 'apache spark™ 2.0: migrating applications',\n",
       " '0 to life-changing app: new apache systemml api on spark shell',\n",
       " 'airbnb data for analytics: paris listings',\n",
       " 'the power of machine learning in spark',\n",
       " 'nips 2016 — day 2 highlights',\n",
       " 'airbnb data for analytics: vienna calendar',\n",
       " 'airbnb data for analytics: trentino listings',\n",
       " 'making data cleaning simple with the sparkling.data library',\n",
       " 'airbnb data for analytics: vancouver reviews',\n",
       " 'how to ease the strain as your data volumes rise',\n",
       " 'country statistics: gross national saving',\n",
       " 'country statistics: telephones - fixed lines',\n",
       " 'data visualization playbook: the right level of detail',\n",
       " \"december '16 rstudio tips and tricks\",\n",
       " 'r markdown reference guide',\n",
       " 'this week in data science (february 7, 2017)',\n",
       " 'ratio (% of population) at national poverty line by country',\n",
       " 'backpropagation — how neural networks learn complex behaviors',\n",
       " 'united states demographic measures: education',\n",
       " 'finding the user in data science',\n",
       " 'statistical bias types explained',\n",
       " 'airbnb data for analytics: trentino reviews',\n",
       " 'tidyverse practice: mapping large european cities',\n",
       " 'a classification problem',\n",
       " 'share the (pixiedust) magic – ibm watson data lab – medium',\n",
       " 'country statistics: central bank discount rate',\n",
       " 'data visualization with ggplot2 cheat sheet',\n",
       " 'airbnb data for analytics: sydney listings',\n",
       " 'data science experience demo: modeling energy usage in nyc',\n",
       " 'country statistics: roadways',\n",
       " 'tidyr 0.6.0',\n",
       " 'analyze starcraft ii replays with jupyter notebooks',\n",
       " 'twelve\\xa0ways to color a map of africa using brunel',\n",
       " 'how open api economy accelerates the growth of big data and analytics',\n",
       " 'unstructured and structured data versus repetitive and non-repetitive',\n",
       " 'airbnb data for analytics: seattle reviews',\n",
       " 'country statistics: stock of domestic credit',\n",
       " 'run shiny applications in rstudio in dsx',\n",
       " 'airbnb data for analytics: dublin reviews',\n",
       " \"feature importance and why it's important\",\n",
       " 'pseudo-labeling a simple semi-supervised learning method',\n",
       " 'using apply, sapply, lapply in r',\n",
       " 'gross national income per capita, atlas method (current us$) by country',\n",
       " 'airbnb data for analytics: barcelona listings',\n",
       " 'open sourcing 223gb of driving data – udacity inc',\n",
       " 'worldwide electricity demand and production 1990-2012',\n",
       " 'random forest interpretation – conditional feature contributions',\n",
       " 'how can data scientists collaborate to build better business',\n",
       " 'airbnb data for analytics: chicago listings',\n",
       " 'what is systemml? why is it relevant to you?',\n",
       " 'top 20 r machine learning and data science packages',\n",
       " 'data visualization: the importance of excluding unnecessary details',\n",
       " 'airbnb data for analytics: madrid listings',\n",
       " 'apache spark™ 2.0: impressive improvements to spark sql',\n",
       " 'one year as a data scientist at stack overflow',\n",
       " 'web picks (week of 4 september 2017)',\n",
       " 'united states demographic measures: income',\n",
       " 'this week in data science (november 01, 2016)',\n",
       " 'a visual explanation of the back propagation algorithm for neural networks',\n",
       " '8 ways to turn data into value with apache spark machine learning',\n",
       " 'a glimpse inside the mind of a data scientist',\n",
       " 'airbnb data for analytics: nashville calendar',\n",
       " 'military expenditure as % of gdp by country',\n",
       " 'improving quality of life with spark-empowered machine learning',\n",
       " '20405    how to tame the valley — hessian-free hacks fo...\\nName: title, dtype: object',\n",
       " 'the difference between ai, machine learning, and deep learning?',\n",
       " 'time series analysis using max/min and neuroscience',\n",
       " 'country statistics: population',\n",
       " 'country statistics: airports',\n",
       " 'airbnb data for analytics: toronto listings',\n",
       " 'airbnb data for analytics: antwerp listings',\n",
       " 'an interview with pythonista katharine jarmul',\n",
       " 'labor',\n",
       " 'country statistics: maternal mortality rate',\n",
       " 'the data processing inequality',\n",
       " 'total employment, by economic activity (thousands)',\n",
       " 'airbnb data for analytics: boston reviews',\n",
       " 'airbnb data for analytics: new york city reviews',\n",
       " 'top analytics tools in 2016',\n",
       " 'apache spark 2.0: machine learning. under the hood and over the rainbow.',\n",
       " 'what is spark?',\n",
       " 'energy use (kg of oil equivalent per capita) by country',\n",
       " 'apache systemml',\n",
       " 'beyond parallelize and collect',\n",
       " 'airbnb data for analytics: brussels reviews',\n",
       " 'how to get a job in deep learning',\n",
       " 'country statistics: crude oil - imports',\n",
       " 'building custom machine learning algorithms with apache systemml',\n",
       " 'laplace noising versus simulated out of sample methods (cross frames)',\n",
       " 'marital status of men and women',\n",
       " 'foundational methodology for data science',\n",
       " 'airbnb data for analytics: paris reviews',\n",
       " 'the new builders podcast ep 3: collaboration',\n",
       " 'creating the data science experience',\n",
       " 'intelligent applications - apache spark',\n",
       " 'recent trends in recommender systems',\n",
       " 'country populations 15 years of age and over, by educational attainment, age and sex',\n",
       " 'country statistics: current account balance',\n",
       " 'apache spark @scale: a 60 tb+ production use case',\n",
       " 'a survey of books about apache spark™',\n",
       " 'using the maker palette in the ibm data science experience',\n",
       " 'airbnb data for analytics: san diego reviews',\n",
       " 'airbnb data for analytics: athens listings',\n",
       " 'a fast on-disk format for data frames for r and python, powered by apache arrow',\n",
       " 'country surface area (sq. km)',\n",
       " 'a day in the life of a data engineer',\n",
       " 'data science experience documentation',\n",
       " 'this week in data science (january 17, 2017)',\n",
       " 'airbnb data for analytics: new orleans listings',\n",
       " 'advancements in the spark community',\n",
       " 'airbnb data for analytics: vancouver calendar',\n",
       " \"h2o with ibm's data science experience (dsx)\",\n",
       " 'this week in data science (july 26, 2016)',\n",
       " 'readr 1.0.0',\n",
       " 'airbnb data for analytics: oakland reviews',\n",
       " 'worldwide county and region - national accounts - gross national income 1948-2010',\n",
       " 'international liquidity',\n",
       " 'airbnb data for analytics: trentino calendar',\n",
       " 'primary school completion rate % of relevant age group by country',\n",
       " 'airbnb data for analytics: mallorca reviews',\n",
       " 'airbnb data for analytics: athens calendar',\n",
       " 'machine learning for the enterprise',\n",
       " 'do i need to learn r?',\n",
       " 'a new version of dt (0.2) on cran',\n",
       " 'airbnb data for analytics: san francisco listings',\n",
       " 'natural gas production, 1995 - 2012, worldwide',\n",
       " 'unmet need for family planning, spacing, percentage, worldwide, by country',\n",
       " 'cache table in apache spark sql',\n",
       " 'ggplot2 2.2.0 coming soon!',\n",
       " 'this week in data science (november 22, 2016)',\n",
       " 'airbnb data for analytics: paris calendar',\n",
       " 'xml2 1.0.0',\n",
       " 'this week in data science (december 27, 2016)',\n",
       " 'airbnb data for analytics: athens reviews',\n",
       " 'measles immunization % children 12-23 months by country',\n",
       " 'consumption of ozone-depleting cfcs in odp metric tons',\n",
       " 'airbnb data for analytics: montreal listings',\n",
       " 'airbnb data for analytics: new orleans reviews',\n",
       " 'dplyr 0.5.0',\n",
       " 'roads, paved (% of total roads), worldwide, 1990-2011',\n",
       " 'let data dictate the visualization',\n",
       " 'foreign direct investment, net inflows (bop, current us$) by country',\n",
       " 'big data is better data',\n",
       " 'package development with devtools  cheat sheet',\n",
       " 'can a.i. be taught to explain itself?',\n",
       " 'get social with your notebooks in dsx',\n",
       " 'run dsx notebooks on amazon emr',\n",
       " 'using bigdl in dsx for deep learning on spark',\n",
       " 'overlapping co-cluster recommendation algorithm (ocular)',\n",
       " 'using dsx notebooks to analyze github data',\n",
       " 'airbnb data for analytics: santa cruz county reviews',\n",
       " '51822    using apache spark as a parallel processing fr...\\nName: title, dtype: object',\n",
       " 'web picks (december 2017)',\n",
       " '3 scenarios for machine learning on multicloud',\n",
       " 'discover, catalog and govern data with ibm data catalog',\n",
       " 'greenhouse gas emissions worldwide',\n",
       " 'visualising data the node.js way',\n",
       " 'governance overview for ibm data catalog',\n",
       " 'mycheatsheets.com',\n",
       " 'perform sentiment analysis with lstms, using tensorflow',\n",
       " 'this week in data science (october 18, 2016)',\n",
       " 'poverty (2015): united states demographic measures',\n",
       " 'visual information theory ',\n",
       " 'build a logistic regression model with wml & dsx',\n",
       " 'country statistics: electricity - consumption',\n",
       " 'how ibm builds an effective data science team',\n",
       " 'join and enrich data from multiple sources',\n",
       " 'deep learning achievements over the past year ',\n",
       " 'airbnb data for analytics: austin calendar',\n",
       " 'visualize the 1854 london cholera outbreak',\n",
       " 'process events from the watson iot platform in a streams python application',\n",
       " 'aspiring data scientists! start to learn statistics with these 6 books!',\n",
       " 'airbnb data for analytics: barcelona calendar',\n",
       " 'country statistics: imports',\n",
       " '54174    detect potentially malfunctioning sensors in r...\\nName: title, dtype: object',\n",
       " 'calculate moving averages on real time data with streams designer',\n",
       " 'airbnb data for analytics: london reviews',\n",
       " 'transform anything into a vector',\n",
       " 'breaking the 80/20 rule: how data catalogs transform data scientists’ productivity',\n",
       " 'generalization in deep learning',\n",
       " 'ingest data from message hub in a streams flow',\n",
       " '9 mistakes to avoid when starting your career in data science',\n",
       " 'predicting flight cancellations using weather data, part 3',\n",
       " 'probabilistic graphical models tutorial\\u200a—\\u200apart 2 – stats and bots',\n",
       " 'develop a scala spark model on chicago building violations',\n",
       " '10 data science, machine learning and ai podcasts you must listen to',\n",
       " 'country statistics: budget surplus or deficit',\n",
       " 'small steps to tensorflow',\n",
       " 'migrating to python 3 with pleasure',\n",
       " 'collect your own fitbit data with python',\n",
       " 'load db2 warehouse on cloud data with apache spark in dsx',\n",
       " 'how to solve 90% of nlp problems',\n",
       " '56594    lifelong (machine) learning: how automation ca...\\nName: title, dtype: object',\n",
       " 'python if statements explained (python for data science basics #4)',\n",
       " 'fighting gerrymandering: using data science to draw fairer congressional districts',\n",
       " 'work with data connections in dsx',\n",
       " 'analyze ny restaurant data using spark in dsx',\n",
       " 'working with ibm cloud object storage in python',\n",
       " 'watson machine learning for developers',\n",
       " 'apache spark: upgrade and speed-up your analytics',\n",
       " 'making sense of the bias / variance trade-off in (deep) reinforcement learning',\n",
       " 'categorize urban density',\n",
       " 'ibm data catalog overview',\n",
       " '70 amazing free data sources you should know',\n",
       " 'working with ibm cloud object storage in r',\n",
       " 'predict chronic kidney disease using spss modeler flows',\n",
       " 'building your first machine learning system ',\n",
       " 'country statistics: natural gas - consumption',\n",
       " 'python for loops explained (python for data science basics #5)',\n",
       " \"for ai to get creative, it must learn the rules--then how to break 'em\",\n",
       " 'data science of variable selection',\n",
       " 'why even a moth’s brain is smarter than an ai',\n",
       " 'deep learning, structure and innate priors',\n",
       " 'a guide to convolution arithmetic for deep learning',\n",
       " 'a guide to receptive field arithmetic for convolutional neural networks',\n",
       " 'the two phases of gradient descent in deep learning',\n",
       " 'the random forest algorithm ',\n",
       " 'get started with streams designer by following this roadmap',\n",
       " 'time series anomaly detection algorithms – stats and bots',\n",
       " 'announcing dsx environments in beta!',\n",
       " 'effectively using\\xa0matplotlib',\n",
       " 'missing data conundrum: exploration and imputation techniques',\n",
       " 'calls by customers of a telco company',\n",
       " 'customers of a telco including services used',\n",
       " 'empirical bayes for multiple sample sizes',\n",
       " 'country statistics: industrial production growth rate',\n",
       " 'the t-distribution: a key statistical concept discovered by a beer brewery',\n",
       " 'talent vs luck: the role of randomness in success and failure',\n",
       " 'working with on-premises databases — step by step',\n",
       " 'airbnb data for analytics: london listings',\n",
       " 'airbnb data for analytics: san diego listings',\n",
       " 'environment statistics database - waste',\n",
       " 'understanding empirical bayes estimation (using baseball statistics)',\n",
       " 'bayesian nonparametric models – stats and bots',\n",
       " 'cifar-100 - python version',\n",
       " 'fashion-mnist',\n",
       " 'country statistics: refined petroleum products - production',\n",
       " 'ibm cloud sql query',\n",
       " 'cifar-10 - python version',\n",
       " 'watson assistant workspace analysis with user logs',\n",
       " 'airbnb data for analytics: chicago calendar',\n",
       " 'use iot data in streams designer for billing and alerts',\n",
       " 'breast cancer detection with xgboost, wml and scikit',\n",
       " 'introducing ibm watson studio ',\n",
       " 'best practices for custom models in watson visual recognition',\n",
       " 'apple, ibm add machine learning to partnership with watson-core ml coupling',\n",
       " 'analyze facebook data using ibm watson and watson studio',\n",
       " 'find airbnb deals in portland with machine learning using r',\n",
       " 'from scikit-learn model to cloud with wml client',\n",
       " 'watson speech-to-text services — tl;dr need not apply',\n",
       " 'from local spark mllib model to cloud with watson machine learning',\n",
       " 'social media insights with watson developer cloud & watson studio',\n",
       " 'from spark ml model to online scoring with scala',\n",
       " 'analyze data, build a dashboard with spark and pixiedust',\n",
       " 'predict loan applicant behavior with tensorflow neural networking',\n",
       " 'annual % inflation by country',\n",
       " 'continuous learning on watson',\n",
       " 'using shell scripts to control data flows created in watson applications',\n",
       " '66855    migration from ibm bluemix data connect api (a...\\nName: title, dtype: object',\n",
       " 'what’s new in data refinery?',\n",
       " 'stacking multiple custom models in watson visual recognition',\n",
       " 'style transfer experiments with watson machine learning',\n",
       " 'country statistics: merchant marine',\n",
       " 'geographic coordinates of world locations',\n",
       " 'webinar: april 11 - thinking inside the box: you can do that inside a data frame?!',\n",
       " 'dimensionality reduction algorithms',\n",
       " 'build deep learning architectures with neural network modeler',\n",
       " 'a tensorflow regression model to predict house values',\n",
       " 'use pmml to predict iris species',\n",
       " 'country statistics: railways',\n",
       " 'airbnb data for analytics: chicago reviews',\n",
       " 'refugees',\n",
       " 'refugees, worldwide, 2003 - 2013',\n",
       " '68879    don’t throw more data at the problem! here’s h...\\nName: title, dtype: object',\n",
       " 'you could be looking at it all wrong',\n",
       " 'airbnb data for analytics: seattle calendar',\n",
       " 'web picks (week of 2 october 2017)',\n",
       " 'data science expert interview: holden karau',\n",
       " 'create a project for watson machine learning in dsx',\n",
       " 'country statistics: market value of publicly traded shares',\n",
       " 'airbnb data for analytics: washington d.c. calendar',\n",
       " 'build a naive-bayes model with wml & dsx',\n",
       " 'load and analyze public data sets in dsx',\n",
       " 'the new builders ep. 13: all the data that’s fit to analyze',\n",
       " 'create a project in dsx']"
      ]
     },
     "execution_count": 447,
     "metadata": {},
     "output_type": "execute_result"
    }
   ],
   "source": [
    "# Checking results\n",
    "get_article_names(user_user_recs(1, 10)) # Return 10 recommendations for user 1\n"
   ]
  },
  {
   "cell_type": "code",
   "execution_count": 448,
   "metadata": {},
   "outputs": [
    {
     "name": "stdout",
     "output_type": "stream",
     "text": [
      "If this is all you see, you passed all of our tests!  Nice job!\n"
     ]
    }
   ],
   "source": [
    "# Testing your functions here - No need to change this code - just run this cell\n",
    "assert set(get_article_names(['1024.0', '1176.0', '1305.0', '1314.0', '1422.0', '1427.0'])) == set(['using deep learning to reconstruct high-resolution audio', 'build a python app on the streaming analytics service', 'gosales transactions for naive bayes model', 'healthcare python streaming application demo', 'use r dataframes & ibm watson natural language understanding', 'use xgboost, scikit-learn & ibm watson machine learning apis']), \"Oops! Your the get_article_names function doesn't work quite how we expect.\"\n",
    "assert set(get_article_names(['1320.0', '232.0', '844.0'])) == set(['housing (2015): united states demographic measures','self-service data preparation with ibm data refinery','use the cloudant-spark connector in python notebook']), \"Oops! Your the get_article_names function doesn't work quite how we expect.\"\n",
    "assert set(get_user_articles(20)[0]) == set(['1320.0', '232.0', '844.0'])\n",
    "assert set(get_user_articles(20)[1]) == set(['housing (2015): united states demographic measures', 'self-service data preparation with ibm data refinery','use the cloudant-spark connector in python notebook'])\n",
    "assert set(get_user_articles(2)[0]) == set(['1024.0', '1176.0', '1305.0', '1314.0', '1422.0', '1427.0'])\n",
    "assert set(get_user_articles(2)[1]) == set(['using deep learning to reconstruct high-resolution audio', 'build a python app on the streaming analytics service', 'gosales transactions for naive bayes model', 'healthcare python streaming application demo', 'use r dataframes & ibm watson natural language understanding', 'use xgboost, scikit-learn & ibm watson machine learning apis'])\n",
    "print(\"If this is all you see, you passed all of our tests!  Nice job!\")\n"
   ]
  },
  {
   "cell_type": "markdown",
   "metadata": {},
   "source": [
    "`4.` Now we are going to improve the consistency of the **user_user_recs** function from above.  \n",
    "\n",
    "* Instead of arbitrarily choosing when we obtain users who are all the same closeness to a given user - choose the users that have the most total article interactions before choosing those with fewer article interactions.\n",
    "\n",
    "\n",
    "* Instead of arbitrarily choosing articles from the user where the number of recommended articles starts below m and ends exceeding m, choose articles with the articles with the most total interactions before choosing those with fewer total interactions. This ranking should be  what would be obtained from the **top_articles** function you wrote earlier."
   ]
  },
  {
   "cell_type": "code",
   "execution_count": 449,
   "metadata": {},
   "outputs": [
    {
     "data": {
      "text/plain": [
       "array([0, 0, 0, 0, 0, 0, 0, 0, 0, 0, 0, 0, 0, 0, 0, 0, 0, 0, 0, 0, 0, 0, 0,\n",
       "       0, 0, 0, 0, 0, 0, 0, 0, 0, 0, 0, 0, 0, 0, 0, 0, 0, 0, 0, 0, 0, 0, 0,\n",
       "       0, 0, 0, 0, 0, 0, 0, 0, 0, 0, 0, 0, 0, 0, 0, 0, 0, 0, 0, 0, 0, 0, 0,\n",
       "       0, 0, 0, 0, 0, 0, 0, 0, 0, 0, 0, 0, 0, 0, 0, 0, 0, 0, 0, 0, 0, 0, 0,\n",
       "       0, 0, 0, 0, 0, 0, 0, 0, 0, 0, 0, 0, 0, 0, 0, 0, 0, 0, 0, 0, 0, 0, 0,\n",
       "       0, 0, 0, 0, 0, 0, 0, 0, 0, 0, 0, 0, 0, 0, 0, 0, 0, 0, 0, 0, 0, 0, 0,\n",
       "       0, 0, 0, 0, 0, 0, 0, 0, 0, 0, 0, 0, 0, 0, 0, 0, 0, 0, 0, 0, 0, 0, 0,\n",
       "       0, 0, 0, 0, 0, 0, 0, 0, 0, 0, 0, 0, 0, 0, 0, 0, 0, 0, 0, 0, 0, 0, 0,\n",
       "       0, 0, 0, 0, 0, 0, 0, 0, 0, 0, 0, 0, 0, 0, 0, 0, 0, 0, 0, 0, 0, 0, 0,\n",
       "       0, 0, 0, 0, 0, 0, 0, 0, 0, 0, 0, 0, 0, 0, 0, 0, 0, 0, 0, 0, 0, 0, 0,\n",
       "       0, 0, 0, 0, 0, 0, 0, 0, 0, 0, 0, 0, 0, 0, 0, 0, 0, 0, 0, 0, 0, 0, 0,\n",
       "       0, 0, 0, 0, 0, 0, 0, 0, 0, 0, 0, 0, 0, 0, 0, 0, 0, 0, 0, 0, 0, 0, 0,\n",
       "       0, 0, 0, 0, 0, 0, 0, 0, 0, 0, 0, 0, 0, 0, 0, 0, 0, 0, 0, 0, 0, 0, 0,\n",
       "       0, 0, 0, 0, 0, 0, 0, 0, 0, 0, 0, 0, 0, 0, 0, 0, 0, 0, 0, 0, 0, 0, 0,\n",
       "       0, 0, 0, 0, 0, 0, 0, 0, 0, 0, 0, 0, 0, 0, 0, 0, 0, 0, 0, 0, 0, 0, 0,\n",
       "       0, 0, 0, 0, 0, 0, 0, 0, 0, 0, 0, 0, 0, 0, 0, 0, 0, 0, 0, 0, 0, 0, 0,\n",
       "       0, 0, 0, 0, 0, 0, 0, 0, 0, 0, 0, 0, 0, 0, 0, 0, 0, 0, 0, 1, 0, 0, 0,\n",
       "       0, 0, 0, 0, 0, 0, 0, 0, 0, 0, 0, 0, 0, 0, 0, 0, 0, 0, 0, 0, 0, 0, 0,\n",
       "       0, 0, 0, 0, 0, 0, 0, 0, 0, 0, 0, 0, 0, 0, 0, 0, 0, 0, 0, 0, 0, 0, 0,\n",
       "       0, 0, 0, 0, 0, 0, 0, 0, 0, 0, 0, 0, 0, 0, 0, 0, 0, 0, 0, 0, 0, 0, 0,\n",
       "       0, 0, 0, 0, 0, 0, 0, 0, 0, 0, 0, 0, 0, 0, 0, 0, 0, 0, 0, 0, 0, 0, 0,\n",
       "       0, 0, 0, 0, 0, 0, 0, 0, 0, 0, 0, 0, 0, 0, 0, 0, 0, 0, 0, 0, 0, 0, 0,\n",
       "       0, 0, 0, 0, 0, 0, 0, 0, 0, 0, 0, 0, 1, 0, 0, 0, 0, 0, 0, 0, 0, 0, 0,\n",
       "       0, 0, 0, 0, 0, 0, 0, 0, 0, 0, 0, 0, 0, 0, 0, 0, 0, 0, 0, 0, 0, 0, 0,\n",
       "       0, 0, 0, 0, 0, 0, 0, 0, 0, 0, 0, 0, 0, 0, 0, 0, 0, 0, 0, 0, 0, 0, 0,\n",
       "       0, 0, 0, 0, 0, 0, 0, 0, 0, 0, 0, 0, 0, 0, 0, 0, 0, 0, 0, 0, 0, 0, 0,\n",
       "       0, 0, 0, 0, 0, 0, 0, 0, 0, 0, 0, 0, 0, 0, 0, 0, 0, 0, 0, 0, 0, 0, 0,\n",
       "       0, 0, 0, 0, 0, 0, 0, 0, 0, 0, 0, 0, 0, 0, 0, 0, 0, 0, 0, 0, 0, 0, 0,\n",
       "       0, 0, 0, 0, 1, 0, 0, 0, 0, 0, 0, 0, 0, 0, 0, 0, 0, 0, 0, 0, 0, 0, 0,\n",
       "       0, 0, 0, 0, 0, 0, 0, 0, 0, 0, 0, 0, 0, 0, 0, 0, 0, 0, 0, 0, 0, 0, 0,\n",
       "       0, 0, 0, 0, 0, 0, 0, 0, 0, 0, 0, 0, 0, 0, 0, 0, 0, 0, 0, 0, 0, 0, 0,\n",
       "       0])"
      ]
     },
     "execution_count": 449,
     "metadata": {},
     "output_type": "execute_result"
    }
   ],
   "source": [
    "# Defining array of user interatcions\n",
    "user_id = 96 # Defining variable value\n",
    "interact_arr = np.array(user_item.loc[user_id])\n",
    "interact_arr\n"
   ]
  },
  {
   "cell_type": "code",
   "execution_count": 450,
   "metadata": {},
   "outputs": [
    {
     "data": {
      "text/html": [
       "<div>\n",
       "<style scoped>\n",
       "    .dataframe tbody tr th:only-of-type {\n",
       "        vertical-align: middle;\n",
       "    }\n",
       "\n",
       "    .dataframe tbody tr th {\n",
       "        vertical-align: top;\n",
       "    }\n",
       "\n",
       "    .dataframe thead th {\n",
       "        text-align: right;\n",
       "    }\n",
       "</style>\n",
       "<table border=\"1\" class=\"dataframe\">\n",
       "  <thead>\n",
       "    <tr style=\"text-align: right;\">\n",
       "      <th>article_id</th>\n",
       "      <th>0.0</th>\n",
       "      <th>2.0</th>\n",
       "      <th>4.0</th>\n",
       "      <th>8.0</th>\n",
       "      <th>9.0</th>\n",
       "      <th>12.0</th>\n",
       "      <th>14.0</th>\n",
       "      <th>15.0</th>\n",
       "      <th>16.0</th>\n",
       "      <th>18.0</th>\n",
       "      <th>...</th>\n",
       "      <th>1434.0</th>\n",
       "      <th>1435.0</th>\n",
       "      <th>1436.0</th>\n",
       "      <th>1437.0</th>\n",
       "      <th>1439.0</th>\n",
       "      <th>1440.0</th>\n",
       "      <th>1441.0</th>\n",
       "      <th>1442.0</th>\n",
       "      <th>1443.0</th>\n",
       "      <th>1444.0</th>\n",
       "    </tr>\n",
       "    <tr>\n",
       "      <th>user_id</th>\n",
       "      <th></th>\n",
       "      <th></th>\n",
       "      <th></th>\n",
       "      <th></th>\n",
       "      <th></th>\n",
       "      <th></th>\n",
       "      <th></th>\n",
       "      <th></th>\n",
       "      <th></th>\n",
       "      <th></th>\n",
       "      <th></th>\n",
       "      <th></th>\n",
       "      <th></th>\n",
       "      <th></th>\n",
       "      <th></th>\n",
       "      <th></th>\n",
       "      <th></th>\n",
       "      <th></th>\n",
       "      <th></th>\n",
       "      <th></th>\n",
       "      <th></th>\n",
       "    </tr>\n",
       "  </thead>\n",
       "  <tbody>\n",
       "    <tr>\n",
       "      <th>1</th>\n",
       "      <td>0</td>\n",
       "      <td>0</td>\n",
       "      <td>0</td>\n",
       "      <td>0</td>\n",
       "      <td>0</td>\n",
       "      <td>0</td>\n",
       "      <td>0</td>\n",
       "      <td>0</td>\n",
       "      <td>0</td>\n",
       "      <td>0</td>\n",
       "      <td>...</td>\n",
       "      <td>0</td>\n",
       "      <td>0</td>\n",
       "      <td>1</td>\n",
       "      <td>0</td>\n",
       "      <td>1</td>\n",
       "      <td>0</td>\n",
       "      <td>0</td>\n",
       "      <td>0</td>\n",
       "      <td>0</td>\n",
       "      <td>0</td>\n",
       "    </tr>\n",
       "    <tr>\n",
       "      <th>2</th>\n",
       "      <td>0</td>\n",
       "      <td>0</td>\n",
       "      <td>0</td>\n",
       "      <td>0</td>\n",
       "      <td>0</td>\n",
       "      <td>0</td>\n",
       "      <td>0</td>\n",
       "      <td>0</td>\n",
       "      <td>0</td>\n",
       "      <td>0</td>\n",
       "      <td>...</td>\n",
       "      <td>0</td>\n",
       "      <td>0</td>\n",
       "      <td>0</td>\n",
       "      <td>0</td>\n",
       "      <td>0</td>\n",
       "      <td>0</td>\n",
       "      <td>0</td>\n",
       "      <td>0</td>\n",
       "      <td>0</td>\n",
       "      <td>0</td>\n",
       "    </tr>\n",
       "    <tr>\n",
       "      <th>3</th>\n",
       "      <td>0</td>\n",
       "      <td>0</td>\n",
       "      <td>0</td>\n",
       "      <td>0</td>\n",
       "      <td>0</td>\n",
       "      <td>1</td>\n",
       "      <td>0</td>\n",
       "      <td>0</td>\n",
       "      <td>0</td>\n",
       "      <td>0</td>\n",
       "      <td>...</td>\n",
       "      <td>0</td>\n",
       "      <td>0</td>\n",
       "      <td>1</td>\n",
       "      <td>0</td>\n",
       "      <td>0</td>\n",
       "      <td>0</td>\n",
       "      <td>0</td>\n",
       "      <td>0</td>\n",
       "      <td>0</td>\n",
       "      <td>0</td>\n",
       "    </tr>\n",
       "  </tbody>\n",
       "</table>\n",
       "<p>3 rows × 714 columns</p>\n",
       "</div>"
      ],
      "text/plain": [
       "article_id  0.0     2.0     4.0     8.0     9.0     12.0    14.0    15.0    \\\n",
       "user_id                                                                      \n",
       "1                0       0       0       0       0       0       0       0   \n",
       "2                0       0       0       0       0       0       0       0   \n",
       "3                0       0       0       0       0       1       0       0   \n",
       "\n",
       "article_id  16.0    18.0     ...    1434.0  1435.0  1436.0  1437.0  1439.0  \\\n",
       "user_id                      ...                                             \n",
       "1                0       0   ...         0       0       1       0       1   \n",
       "2                0       0   ...         0       0       0       0       0   \n",
       "3                0       0   ...         0       0       1       0       0   \n",
       "\n",
       "article_id  1440.0  1441.0  1442.0  1443.0  1444.0  \n",
       "user_id                                             \n",
       "1                0       0       0       0       0  \n",
       "2                0       0       0       0       0  \n",
       "3                0       0       0       0       0  \n",
       "\n",
       "[3 rows x 714 columns]"
      ]
     },
     "execution_count": 450,
     "metadata": {},
     "output_type": "execute_result"
    }
   ],
   "source": [
    "# Creating a matrix of user interactions\n",
    "interact_mat = user_item.drop(user_id)\n",
    "interact_mat.head(3)\n"
   ]
  },
  {
   "cell_type": "code",
   "execution_count": 451,
   "metadata": {},
   "outputs": [
    {
     "data": {
      "text/plain": [
       "array([0, 0, 1, ..., 0, 0, 0])"
      ]
     },
     "execution_count": 451,
     "metadata": {},
     "output_type": "execute_result"
    }
   ],
   "source": [
    "# Computing the similarity\n",
    "sim = np.dot(interact_mat.values, interact_arr)\n",
    "sim\n"
   ]
  },
  {
   "cell_type": "code",
   "execution_count": 452,
   "metadata": {},
   "outputs": [
    {
     "data": {
      "text/html": [
       "<div>\n",
       "<style scoped>\n",
       "    .dataframe tbody tr th:only-of-type {\n",
       "        vertical-align: middle;\n",
       "    }\n",
       "\n",
       "    .dataframe tbody tr th {\n",
       "        vertical-align: top;\n",
       "    }\n",
       "\n",
       "    .dataframe thead th {\n",
       "        text-align: right;\n",
       "    }\n",
       "</style>\n",
       "<table border=\"1\" class=\"dataframe\">\n",
       "  <thead>\n",
       "    <tr style=\"text-align: right;\">\n",
       "      <th></th>\n",
       "      <th>nbr_id</th>\n",
       "      <th>sim</th>\n",
       "    </tr>\n",
       "  </thead>\n",
       "  <tbody>\n",
       "    <tr>\n",
       "      <th>0</th>\n",
       "      <td>1</td>\n",
       "      <td>0</td>\n",
       "    </tr>\n",
       "    <tr>\n",
       "      <th>1</th>\n",
       "      <td>2</td>\n",
       "      <td>0</td>\n",
       "    </tr>\n",
       "    <tr>\n",
       "      <th>2</th>\n",
       "      <td>3</td>\n",
       "      <td>1</td>\n",
       "    </tr>\n",
       "  </tbody>\n",
       "</table>\n",
       "</div>"
      ],
      "text/plain": [
       "   nbr_id  sim\n",
       "0       1    0\n",
       "1       2    0\n",
       "2       3    1"
      ]
     },
     "execution_count": 452,
     "metadata": {},
     "output_type": "execute_result"
    }
   ],
   "source": [
    "# Creating a pandas dataframe\n",
    "df_sim = pd.DataFrame({'nbr_id': interact_mat.index,'sim': sim.flatten()})\n",
    "df_sim.head(3)\n"
   ]
  },
  {
   "cell_type": "code",
   "execution_count": 453,
   "metadata": {},
   "outputs": [
    {
     "data": {
      "text/plain": [
       "user_id\n",
       "1    47\n",
       "2     6\n",
       "3    82\n",
       "Name: article_id, dtype: int64"
      ]
     },
     "execution_count": 453,
     "metadata": {},
     "output_type": "execute_result"
    }
   ],
   "source": [
    "# Counting the interactions\n",
    "interact_count = df.groupby('user_id')['article_id'].count()\n",
    "interact_count.head(3)\n"
   ]
  },
  {
   "cell_type": "code",
   "execution_count": 454,
   "metadata": {},
   "outputs": [
    {
     "data": {
      "text/html": [
       "<div>\n",
       "<style scoped>\n",
       "    .dataframe tbody tr th:only-of-type {\n",
       "        vertical-align: middle;\n",
       "    }\n",
       "\n",
       "    .dataframe tbody tr th {\n",
       "        vertical-align: top;\n",
       "    }\n",
       "\n",
       "    .dataframe thead th {\n",
       "        text-align: right;\n",
       "    }\n",
       "</style>\n",
       "<table border=\"1\" class=\"dataframe\">\n",
       "  <thead>\n",
       "    <tr style=\"text-align: right;\">\n",
       "      <th></th>\n",
       "      <th>nbr_id</th>\n",
       "      <th>n_interact</th>\n",
       "    </tr>\n",
       "  </thead>\n",
       "  <tbody>\n",
       "    <tr>\n",
       "      <th>0</th>\n",
       "      <td>1</td>\n",
       "      <td>47</td>\n",
       "    </tr>\n",
       "    <tr>\n",
       "      <th>1</th>\n",
       "      <td>2</td>\n",
       "      <td>6</td>\n",
       "    </tr>\n",
       "    <tr>\n",
       "      <th>2</th>\n",
       "      <td>3</td>\n",
       "      <td>82</td>\n",
       "    </tr>\n",
       "  </tbody>\n",
       "</table>\n",
       "</div>"
      ],
      "text/plain": [
       "   nbr_id  n_interact\n",
       "0       1          47\n",
       "1       2           6\n",
       "2       3          82"
      ]
     },
     "execution_count": 454,
     "metadata": {},
     "output_type": "execute_result"
    }
   ],
   "source": [
    "# Creating a pandas dataframe\n",
    "df_interact = pd.DataFrame({'nbr_id': interact_count.index,'n_interact': interact_count.values})\n",
    "df_interact.head(3)\n"
   ]
  },
  {
   "cell_type": "code",
   "execution_count": 455,
   "metadata": {},
   "outputs": [
    {
     "data": {
      "text/html": [
       "<div>\n",
       "<style scoped>\n",
       "    .dataframe tbody tr th:only-of-type {\n",
       "        vertical-align: middle;\n",
       "    }\n",
       "\n",
       "    .dataframe tbody tr th {\n",
       "        vertical-align: top;\n",
       "    }\n",
       "\n",
       "    .dataframe thead th {\n",
       "        text-align: right;\n",
       "    }\n",
       "</style>\n",
       "<table border=\"1\" class=\"dataframe\">\n",
       "  <thead>\n",
       "    <tr style=\"text-align: right;\">\n",
       "      <th></th>\n",
       "      <th>nbr_id</th>\n",
       "      <th>sim</th>\n",
       "      <th>n_interact</th>\n",
       "    </tr>\n",
       "  </thead>\n",
       "  <tbody>\n",
       "    <tr>\n",
       "      <th>0</th>\n",
       "      <td>1</td>\n",
       "      <td>0</td>\n",
       "      <td>47</td>\n",
       "    </tr>\n",
       "    <tr>\n",
       "      <th>1</th>\n",
       "      <td>2</td>\n",
       "      <td>0</td>\n",
       "      <td>6</td>\n",
       "    </tr>\n",
       "    <tr>\n",
       "      <th>2</th>\n",
       "      <td>3</td>\n",
       "      <td>1</td>\n",
       "      <td>82</td>\n",
       "    </tr>\n",
       "  </tbody>\n",
       "</table>\n",
       "</div>"
      ],
      "text/plain": [
       "   nbr_id  sim  n_interact\n",
       "0       1    0          47\n",
       "1       2    0           6\n",
       "2       3    1          82"
      ]
     },
     "execution_count": 455,
     "metadata": {},
     "output_type": "execute_result"
    }
   ],
   "source": [
    "# Defining the neighbors dataframe by merging the defined dataframes above\n",
    "neighbors_df = df_sim.merge(df_interact)\n",
    "neighbors_df.head(3)\n"
   ]
  },
  {
   "cell_type": "code",
   "execution_count": 456,
   "metadata": {},
   "outputs": [
    {
     "data": {
      "text/html": [
       "<div>\n",
       "<style scoped>\n",
       "    .dataframe tbody tr th:only-of-type {\n",
       "        vertical-align: middle;\n",
       "    }\n",
       "\n",
       "    .dataframe tbody tr th {\n",
       "        vertical-align: top;\n",
       "    }\n",
       "\n",
       "    .dataframe thead th {\n",
       "        text-align: right;\n",
       "    }\n",
       "</style>\n",
       "<table border=\"1\" class=\"dataframe\">\n",
       "  <thead>\n",
       "    <tr style=\"text-align: right;\">\n",
       "      <th></th>\n",
       "      <th>nbr_id</th>\n",
       "      <th>sim</th>\n",
       "      <th>n_interact</th>\n",
       "    </tr>\n",
       "  </thead>\n",
       "  <tbody>\n",
       "    <tr>\n",
       "      <th>22</th>\n",
       "      <td>23</td>\n",
       "      <td>3</td>\n",
       "      <td>364</td>\n",
       "    </tr>\n",
       "    <tr>\n",
       "      <th>3780</th>\n",
       "      <td>3782</td>\n",
       "      <td>3</td>\n",
       "      <td>363</td>\n",
       "    </tr>\n",
       "    <tr>\n",
       "      <th>48</th>\n",
       "      <td>49</td>\n",
       "      <td>3</td>\n",
       "      <td>147</td>\n",
       "    </tr>\n",
       "  </tbody>\n",
       "</table>\n",
       "</div>"
      ],
      "text/plain": [
       "      nbr_id  sim  n_interact\n",
       "22        23    3         364\n",
       "3780    3782    3         363\n",
       "48        49    3         147"
      ]
     },
     "execution_count": 456,
     "metadata": {},
     "output_type": "execute_result"
    }
   ],
   "source": [
    "# Sorting descending by similarity\n",
    "neighbors_df.sort_values(by=['sim', 'n_interact'],inplace=True, ascending=False)\n",
    "neighbors_df.head(3)\n"
   ]
  },
  {
   "cell_type": "code",
   "execution_count": 457,
   "metadata": {},
   "outputs": [],
   "source": [
    "# Function: Defining function to get the top sorted users\n",
    "def get_top_sorted_users(user_id, df=df, user_item=user_item):\n",
    "    '''\n",
    "    INPUT:\n",
    "    user_id - (int)\n",
    "    df - (pandas dataframe) df as defined at the top of the notebook \n",
    "    user_item - (pandas dataframe) matrix of users by articles: \n",
    "            1's when a user has interacted with an article, 0 otherwise\n",
    "    \n",
    "            \n",
    "    OUTPUT:\n",
    "    neighbors_df - (pandas dataframe) a dataframe with:\n",
    "                    neighbor_id - is a neighbor user_id\n",
    "                    similarity - measure of the similarity of each user to the provided user_id\n",
    "                    num_interactions - the number of articles viewed by the user - if a u\n",
    "                    \n",
    "    Other Details - sort the neighbors_df by the similarity and then by number of interactions where \n",
    "                    highest of each is higher in the dataframe\n",
    "     \n",
    "    '''\n",
    "    # Your code here\n",
    "    #\n",
    "   \n",
    "    # Defining array of user interatcions\n",
    "    interact_arr = np.array(user_item.loc[user_id])\n",
    "\n",
    "    # Creating a matrix of user interactions\n",
    "    interact_mat = user_item.drop(user_id)\n",
    "    \n",
    "    # Computing the similarity\n",
    "    sim = np.dot(interact_mat.values, interact_arr)\n",
    "\n",
    "    # Creating a pandas dataframe\n",
    "    df_sim = pd.DataFrame({'nbr_id': interact_mat.index,'sim': sim.flatten()})\n",
    "\n",
    "    # Counting the interactions\n",
    "    interact_count = df.groupby('user_id')['article_id'].count()\n",
    "    \n",
    "    # Creating a pandas dataframe\n",
    "    df_interact = pd.DataFrame({'nbr_id': interact_count.index,'n_interact': interact_count.values})\n",
    "\n",
    "    # Defining the neighbors dataframe by merging the defined dataframes above\n",
    "    neighbors_df = df_sim.merge(df_interact)\n",
    "\n",
    "    # Sorting by similarity and interactions\n",
    "    neighbors_df.sort_values(by=['sim', 'n_interact'],inplace=True, ascending=False)\n",
    "    \n",
    "    return neighbors_df # Return the dataframe specified in the doc_string\n",
    "\n",
    "\n",
    "# Function: Defining function to get the user-user recommendations\n",
    "def user_user_recs_part2(user_id, m=10):\n",
    "    '''\n",
    "    INPUT:\n",
    "    user_id - (int) a user id\n",
    "    m - (int) the number of recommendations you want for the user\n",
    "    \n",
    "    OUTPUT:\n",
    "    recs - (list) a list of recommendations for the user by article id\n",
    "    rec_names - (list) a list of recommendations for the user by article title\n",
    "    \n",
    "    Description:\n",
    "    Loops through the users based on closeness to the input user_id\n",
    "    For each user - finds articles the user hasn't seen before and provides them as recs\n",
    "    Does this until m recommendations are found\n",
    "    \n",
    "    Notes:\n",
    "    * Choose the users that have the most total article interactions \n",
    "    before choosing those with fewer article interactions.\n",
    "\n",
    "    * Choose articles with the articles with the most total interactions \n",
    "    before choosing those with fewer total interactions. \n",
    "   \n",
    "    '''\n",
    "    # Your code here\n",
    "    #\n",
    "    \n",
    "    # Creating a pandas dataframe\n",
    "    df_nbrs = get_top_sorted_users(user_id)\n",
    "\n",
    "    # Defining the neighbours id\n",
    "    nbrs_id = df_nbrs['nbr_id'].values\n",
    "\n",
    "    # Creating list with \"article_id\" records\n",
    "    recs = []\n",
    "\n",
    "    for id in nbrs_id:\n",
    "        article_ids = user_item.loc[id]\n",
    "        recs.append([str(article_ids.index[i]) for i in range(len(article_ids)) if int(article_ids.values[i])])\n",
    "\n",
    "    recs = list(set(recs[m]))\n",
    "    \n",
    "    # Defining list with article name records\n",
    "    rec_names = list(set(df[df[\"article_id\"].isin(recs)][\"title\"]))\n",
    "        \n",
    "    return recs, rec_names\n"
   ]
  },
  {
   "cell_type": "code",
   "execution_count": 458,
   "metadata": {},
   "outputs": [
    {
     "data": {
      "text/html": [
       "<div>\n",
       "<style scoped>\n",
       "    .dataframe tbody tr th:only-of-type {\n",
       "        vertical-align: middle;\n",
       "    }\n",
       "\n",
       "    .dataframe tbody tr th {\n",
       "        vertical-align: top;\n",
       "    }\n",
       "\n",
       "    .dataframe thead th {\n",
       "        text-align: right;\n",
       "    }\n",
       "</style>\n",
       "<table border=\"1\" class=\"dataframe\">\n",
       "  <thead>\n",
       "    <tr style=\"text-align: right;\">\n",
       "      <th></th>\n",
       "      <th>nbr_id</th>\n",
       "      <th>sim</th>\n",
       "      <th>n_interact</th>\n",
       "    </tr>\n",
       "  </thead>\n",
       "  <tbody>\n",
       "    <tr>\n",
       "      <th>22</th>\n",
       "      <td>23</td>\n",
       "      <td>3</td>\n",
       "      <td>364</td>\n",
       "    </tr>\n",
       "    <tr>\n",
       "      <th>3780</th>\n",
       "      <td>3782</td>\n",
       "      <td>3</td>\n",
       "      <td>363</td>\n",
       "    </tr>\n",
       "    <tr>\n",
       "      <th>48</th>\n",
       "      <td>49</td>\n",
       "      <td>3</td>\n",
       "      <td>147</td>\n",
       "    </tr>\n",
       "  </tbody>\n",
       "</table>\n",
       "</div>"
      ],
      "text/plain": [
       "      nbr_id  sim  n_interact\n",
       "22        23    3         364\n",
       "3780    3782    3         363\n",
       "48        49    3         147"
      ]
     },
     "execution_count": 458,
     "metadata": {},
     "output_type": "execute_result"
    }
   ],
   "source": [
    "user_id = 96 # Defining variable value\n",
    "m = 10 # Defining variable value\n",
    "\n",
    "# Defining dataframe of neighbours\n",
    "df_nbrs = get_top_sorted_users(user_id)\n",
    "df_nbrs.head(3)\n"
   ]
  },
  {
   "cell_type": "code",
   "execution_count": 459,
   "metadata": {},
   "outputs": [
    {
     "data": {
      "text/plain": [
       "array([  23, 3782,   49, ..., 5147, 5148, 5149])"
      ]
     },
     "execution_count": 459,
     "metadata": {},
     "output_type": "execute_result"
    }
   ],
   "source": [
    "# Defining the neighbours id\n",
    "nbrs_id = df_nbrs['nbr_id'].values\n",
    "nbrs_id\n"
   ]
  },
  {
   "cell_type": "code",
   "execution_count": 460,
   "metadata": {},
   "outputs": [
    {
     "data": {
      "text/plain": [
       "['1162.0',\n",
       " '53.0',\n",
       " '1437.0',\n",
       " '444.0',\n",
       " '943.0',\n",
       " '1148.0',\n",
       " '1014.0',\n",
       " '14.0',\n",
       " '1393.0',\n",
       " '298.0',\n",
       " '1364.0',\n",
       " '1429.0',\n",
       " '1035.0',\n",
       " '658.0',\n",
       " '221.0',\n",
       " '1398.0',\n",
       " '470.0',\n",
       " '1360.0',\n",
       " '64.0',\n",
       " '1368.0',\n",
       " '1296.0',\n",
       " '1089.0',\n",
       " '812.0',\n",
       " '510.0',\n",
       " '415.0',\n",
       " '1436.0',\n",
       " '1170.0']"
      ]
     },
     "execution_count": 460,
     "metadata": {},
     "output_type": "execute_result"
    }
   ],
   "source": [
    "# Creating list with \"article_id\" records\n",
    "recs = []\n",
    "\n",
    "for id in nbrs_id:\n",
    "    article_ids = user_item.loc[id]\n",
    "    recs.append([str(article_ids.index[i]) for i in range(len(article_ids)) if int(article_ids.values[i])])\n",
    "\n",
    "recs = list(set(recs[m]))\n",
    "recs\n"
   ]
  },
  {
   "cell_type": "code",
   "execution_count": 461,
   "metadata": {},
   "outputs": [
    {
     "name": "stdout",
     "output_type": "stream",
     "text": [
      "['predicting churn with the spss random tree algorithm', 'got zip code data? prep it for analytics. – ibm watson data lab – medium', 'this week in data science (may 30, 2017)', '1448    i ranked every intro to data science course on...\\nName: title, dtype: object', 'predicting gentrification using longitudinal census data', 'how smart catalogs can turn the big data flood into an ocean of opportunity', 'putting a human face on machine learning', 'introducing streams designer', 'welcome to pixiedust', 'pixieapp for outlier detection', 'what’s new in the streaming analytics service on bluemix', 'declarative machine learning', 'fortune 100 companies', 'the nurse assignment problem', 'apache spark lab, part 1: basic concepts', 'machine learning exercises in python, part 1', 'use deep learning for image classification', 'using machine learning to predict value of homes on airbnb', 'total population by country', 'automating web analytics through python', 'analyze energy consumption in buildings', 'airbnb data for analytics: dublin reviews', 'what caused the challenger disaster?', 'machine learning for the enterprise.', 'airbnb data for analytics: vancouver listings', 'join and enrich data from multiple sources', 'discover hidden facebook usage insights']\n"
     ]
    }
   ],
   "source": [
    "# Defining list with article name records\n",
    "rec_names = list(set(df[df[\"article_id\"].isin(recs)][\"title\"]))\n",
    "print(rec_names)\n"
   ]
  },
  {
   "cell_type": "code",
   "execution_count": 462,
   "metadata": {},
   "outputs": [
    {
     "name": "stdout",
     "output_type": "stream",
     "text": [
      "The top 10 recommendations for user 20 are the following article ids:\n",
      "['793.0', '981.0', '1271.0', '1296.0', '53.0', '232.0', '495.0', '1320.0', '1053.0', '89.0', '1186.0', '727.0']\n",
      "\n",
      "The top 10 recommendations for user 20 are the following article names:\n",
      "['fortune 100 companies', 'self-service data preparation with ibm data refinery', 'connect to db2 warehouse on cloud and db2 using scala', '10 powerful features on watson data platform, no coding necessary', 'access mysql with python', 'top 20 r machine learning and data science packages', 'from python nested lists to multidimensional numpy arrays', 'super fast string matching in python', 'introducing streams designer', 'housing (2015): united states demographic measures', 'top 10 machine learning algorithms for beginners', 'customer demographics and sales']\n"
     ]
    }
   ],
   "source": [
    "# Quick spot check - don't change this code - just use it to test your functions\n",
    "rec_ids, rec_names = user_user_recs_part2(20, 10)\n",
    "print(\"The top 10 recommendations for user 20 are the following article ids:\")\n",
    "print(rec_ids)\n",
    "print()\n",
    "print(\"The top 10 recommendations for user 20 are the following article names:\")\n",
    "print(rec_names)"
   ]
  },
  {
   "cell_type": "markdown",
   "metadata": {},
   "source": [
    "`5.` Use your functions from above to correctly fill in the solutions to the dictionary below.  Then test your dictionary against the solution.  Provide the code you need to answer each following the comments below."
   ]
  },
  {
   "cell_type": "code",
   "execution_count": 463,
   "metadata": {},
   "outputs": [
    {
     "name": "stdout",
     "output_type": "stream",
     "text": [
      "3933\n",
      "242\n"
     ]
    }
   ],
   "source": [
    "### Tests with a dictionary of results\n",
    "\n",
    "# Finding the user that is most similar to user 1 \n",
    "user1_most_sim = get_top_sorted_users(1)['nbr_id'].values[0]\n",
    "print(user1_most_sim)\n",
    "\n",
    "# Finding the 10th most similar user to user 131\n",
    "user131_10th_sim = get_top_sorted_users(131)['nbr_id'].values[9]\n",
    "print(user131_10th_sim)\n"
   ]
  },
  {
   "cell_type": "code",
   "execution_count": 464,
   "metadata": {},
   "outputs": [
    {
     "name": "stdout",
     "output_type": "stream",
     "text": [
      "This all looks good!  Nice job!\n"
     ]
    }
   ],
   "source": [
    "## Dictionary Test Here\n",
    "sol_5_dict = {\n",
    "    'The user that is most similar to user 1.': user1_most_sim, \n",
    "    'The user that is the 10th most similar to user 131': user131_10th_sim,\n",
    "}\n",
    "\n",
    "t.sol_5_test(sol_5_dict)\n"
   ]
  },
  {
   "cell_type": "markdown",
   "metadata": {},
   "source": [
    "`6.` If we were given a new user, which of the above functions would you be able to use to make recommendations?  Explain.  Can you think of a better way we might make recommendations?  Use the cell below to explain a better method for new users."
   ]
  },
  {
   "cell_type": "markdown",
   "metadata": {},
   "source": [
    "**Provide your response here.**\n",
    "\n",
    "**Response:**\n",
    "\n",
    "Since there is no data of a new user available, there is no exact possibility to recommend an article to this new user based on historic data.\n",
    "One possibility could be, to recommend articles based on the function `get_top_article_ids`. Because this function is based on historic data available from users. And the new user might like it, too.\n",
    "Necessary for good recommendations is to collect more data about a ne user."
   ]
  },
  {
   "cell_type": "markdown",
   "metadata": {},
   "source": [
    "`7.` Using your existing functions, provide the top 10 recommended articles you would provide for the a new user below.  You can test your function against our thoughts to make sure we are all on the same page with how we might make a recommendation."
   ]
  },
  {
   "cell_type": "code",
   "execution_count": 465,
   "metadata": {
    "scrolled": true
   },
   "outputs": [],
   "source": [
    "new_user = '0.0'\n",
    "\n",
    "# What would your recommendations be for this new user '0.0'?  As a new user, they have no observed articles.\n",
    "# Provide a list of the top 10 article ids you would give to \n",
    "# Your recommendations here\n",
    "\n",
    "# Getting top article ids\n",
    "articles = get_top_article_ids(10)\n",
    "\n",
    "# Defining reccomendations for new user\n",
    "new_user_recs = [str(i) for i in articles] \n"
   ]
  },
  {
   "cell_type": "code",
   "execution_count": 466,
   "metadata": {},
   "outputs": [
    {
     "name": "stdout",
     "output_type": "stream",
     "text": [
      "That's right!  Nice job!\n"
     ]
    }
   ],
   "source": [
    "assert set(new_user_recs) == set(['1314.0','1429.0','1293.0','1427.0','1162.0','1364.0','1304.0','1170.0','1431.0','1330.0']), \"Oops!  It makes sense that in this case we would want to recommend the most popular articles, because we don't know anything about these users.\"\n",
    "\n",
    "print(\"That's right!  Nice job!\")\n"
   ]
  },
  {
   "cell_type": "markdown",
   "metadata": {},
   "source": [
    "### <a class=\"anchor\" id=\"Content-Recs\">Part IV: Content Based Recommendations (EXTRA - NOT REQUIRED)</a>\n",
    "\n",
    "Another method we might use to make recommendations is to perform a ranking of the highest ranked articles associated with some term.  You might consider content to be the **doc_body**, **doc_description**, or **doc_full_name**.  There isn't one way to create a content based recommendation, especially considering that each of these columns hold content related information.  \n",
    "\n",
    "`1.` Use the function body below to create a content based recommender.  Since there isn't one right answer for this recommendation tactic, no test functions are provided.  Feel free to change the function inputs if you decide you want to try a method that requires more input values.  The input values are currently set with one idea in mind that you may use to make content based recommendations.  One additional idea is that you might want to choose the most popular recommendations that meet your 'content criteria', but again, there is a lot of flexibility in how you might make these recommendations.\n",
    "\n",
    "### This part is NOT REQUIRED to pass this project.  However, you may choose to take this on as an extra way to show off your skills."
   ]
  },
  {
   "cell_type": "code",
   "execution_count": 467,
   "metadata": {},
   "outputs": [],
   "source": [
    "def make_content_recs():\n",
    "    '''\n",
    "    INPUT:\n",
    "    \n",
    "    OUTPUT:\n",
    "    \n",
    "    '''"
   ]
  },
  {
   "cell_type": "markdown",
   "metadata": {},
   "source": [
    "`2.` Now that you have put together your content-based recommendation system, use the cell below to write a summary explaining how your content based recommender works.  Do you see any possible improvements that could be made to your function?  Is there anything novel about your content based recommender?\n",
    "\n",
    "### This part is NOT REQUIRED to pass this project.  However, you may choose to take this on as an extra way to show off your skills."
   ]
  },
  {
   "cell_type": "markdown",
   "metadata": {},
   "source": [
    "**Write an explanation of your content based recommendation system here.**"
   ]
  },
  {
   "cell_type": "markdown",
   "metadata": {},
   "source": [
    "`3.` Use your content-recommendation system to make recommendations for the below scenarios based on the comments.  Again no tests are provided here, because there isn't one right answer that could be used to find these content based recommendations.\n",
    "\n",
    "### This part is NOT REQUIRED to pass this project.  However, you may choose to take this on as an extra way to show off your skills."
   ]
  },
  {
   "cell_type": "code",
   "execution_count": 468,
   "metadata": {},
   "outputs": [],
   "source": [
    "# make recommendations for a brand new user\n",
    "\n",
    "\n",
    "# make a recommendations for a user who only has interacted with article id '1427.0'\n",
    "\n"
   ]
  },
  {
   "cell_type": "markdown",
   "metadata": {},
   "source": [
    "### <a class=\"anchor\" id=\"Matrix-Fact\">Part V: Matrix Factorization</a>\n",
    "\n",
    "In this part of the notebook, you will build use matrix factorization to make article recommendations to the users on the IBM Watson Studio platform.\n",
    "\n",
    "`1.` You should have already created a **user_item** matrix above in **question 1** of **Part III** above.  This first question here will just require that you run the cells to get things set up for the rest of **Part V** of the notebook. "
   ]
  },
  {
   "cell_type": "code",
   "execution_count": 470,
   "metadata": {},
   "outputs": [],
   "source": [
    "# Loading the matrix here\n",
    "user_item_matrix = pd.read_pickle('user_item_matrix.p')\n"
   ]
  },
  {
   "cell_type": "code",
   "execution_count": 471,
   "metadata": {},
   "outputs": [
    {
     "data": {
      "text/html": [
       "<div>\n",
       "<style scoped>\n",
       "    .dataframe tbody tr th:only-of-type {\n",
       "        vertical-align: middle;\n",
       "    }\n",
       "\n",
       "    .dataframe tbody tr th {\n",
       "        vertical-align: top;\n",
       "    }\n",
       "\n",
       "    .dataframe thead th {\n",
       "        text-align: right;\n",
       "    }\n",
       "</style>\n",
       "<table border=\"1\" class=\"dataframe\">\n",
       "  <thead>\n",
       "    <tr style=\"text-align: right;\">\n",
       "      <th>article_id</th>\n",
       "      <th>0.0</th>\n",
       "      <th>100.0</th>\n",
       "      <th>1000.0</th>\n",
       "      <th>1004.0</th>\n",
       "      <th>1006.0</th>\n",
       "      <th>1008.0</th>\n",
       "      <th>101.0</th>\n",
       "      <th>1014.0</th>\n",
       "      <th>1015.0</th>\n",
       "      <th>1016.0</th>\n",
       "      <th>...</th>\n",
       "      <th>977.0</th>\n",
       "      <th>98.0</th>\n",
       "      <th>981.0</th>\n",
       "      <th>984.0</th>\n",
       "      <th>985.0</th>\n",
       "      <th>986.0</th>\n",
       "      <th>990.0</th>\n",
       "      <th>993.0</th>\n",
       "      <th>996.0</th>\n",
       "      <th>997.0</th>\n",
       "    </tr>\n",
       "    <tr>\n",
       "      <th>user_id</th>\n",
       "      <th></th>\n",
       "      <th></th>\n",
       "      <th></th>\n",
       "      <th></th>\n",
       "      <th></th>\n",
       "      <th></th>\n",
       "      <th></th>\n",
       "      <th></th>\n",
       "      <th></th>\n",
       "      <th></th>\n",
       "      <th></th>\n",
       "      <th></th>\n",
       "      <th></th>\n",
       "      <th></th>\n",
       "      <th></th>\n",
       "      <th></th>\n",
       "      <th></th>\n",
       "      <th></th>\n",
       "      <th></th>\n",
       "      <th></th>\n",
       "      <th></th>\n",
       "    </tr>\n",
       "  </thead>\n",
       "  <tbody>\n",
       "    <tr>\n",
       "      <th>1</th>\n",
       "      <td>0.0</td>\n",
       "      <td>0.0</td>\n",
       "      <td>0.0</td>\n",
       "      <td>0.0</td>\n",
       "      <td>0.0</td>\n",
       "      <td>0.0</td>\n",
       "      <td>0.0</td>\n",
       "      <td>0.0</td>\n",
       "      <td>0.0</td>\n",
       "      <td>0.0</td>\n",
       "      <td>...</td>\n",
       "      <td>0.0</td>\n",
       "      <td>0.0</td>\n",
       "      <td>1.0</td>\n",
       "      <td>0.0</td>\n",
       "      <td>0.0</td>\n",
       "      <td>0.0</td>\n",
       "      <td>0.0</td>\n",
       "      <td>0.0</td>\n",
       "      <td>0.0</td>\n",
       "      <td>0.0</td>\n",
       "    </tr>\n",
       "    <tr>\n",
       "      <th>2</th>\n",
       "      <td>0.0</td>\n",
       "      <td>0.0</td>\n",
       "      <td>0.0</td>\n",
       "      <td>0.0</td>\n",
       "      <td>0.0</td>\n",
       "      <td>0.0</td>\n",
       "      <td>0.0</td>\n",
       "      <td>0.0</td>\n",
       "      <td>0.0</td>\n",
       "      <td>0.0</td>\n",
       "      <td>...</td>\n",
       "      <td>0.0</td>\n",
       "      <td>0.0</td>\n",
       "      <td>0.0</td>\n",
       "      <td>0.0</td>\n",
       "      <td>0.0</td>\n",
       "      <td>0.0</td>\n",
       "      <td>0.0</td>\n",
       "      <td>0.0</td>\n",
       "      <td>0.0</td>\n",
       "      <td>0.0</td>\n",
       "    </tr>\n",
       "    <tr>\n",
       "      <th>3</th>\n",
       "      <td>0.0</td>\n",
       "      <td>0.0</td>\n",
       "      <td>0.0</td>\n",
       "      <td>0.0</td>\n",
       "      <td>0.0</td>\n",
       "      <td>0.0</td>\n",
       "      <td>0.0</td>\n",
       "      <td>0.0</td>\n",
       "      <td>0.0</td>\n",
       "      <td>0.0</td>\n",
       "      <td>...</td>\n",
       "      <td>1.0</td>\n",
       "      <td>0.0</td>\n",
       "      <td>0.0</td>\n",
       "      <td>0.0</td>\n",
       "      <td>0.0</td>\n",
       "      <td>0.0</td>\n",
       "      <td>0.0</td>\n",
       "      <td>0.0</td>\n",
       "      <td>0.0</td>\n",
       "      <td>0.0</td>\n",
       "    </tr>\n",
       "    <tr>\n",
       "      <th>4</th>\n",
       "      <td>0.0</td>\n",
       "      <td>0.0</td>\n",
       "      <td>0.0</td>\n",
       "      <td>0.0</td>\n",
       "      <td>0.0</td>\n",
       "      <td>0.0</td>\n",
       "      <td>0.0</td>\n",
       "      <td>0.0</td>\n",
       "      <td>0.0</td>\n",
       "      <td>0.0</td>\n",
       "      <td>...</td>\n",
       "      <td>0.0</td>\n",
       "      <td>0.0</td>\n",
       "      <td>0.0</td>\n",
       "      <td>0.0</td>\n",
       "      <td>0.0</td>\n",
       "      <td>0.0</td>\n",
       "      <td>0.0</td>\n",
       "      <td>0.0</td>\n",
       "      <td>0.0</td>\n",
       "      <td>0.0</td>\n",
       "    </tr>\n",
       "    <tr>\n",
       "      <th>5</th>\n",
       "      <td>0.0</td>\n",
       "      <td>0.0</td>\n",
       "      <td>0.0</td>\n",
       "      <td>0.0</td>\n",
       "      <td>0.0</td>\n",
       "      <td>0.0</td>\n",
       "      <td>0.0</td>\n",
       "      <td>0.0</td>\n",
       "      <td>0.0</td>\n",
       "      <td>0.0</td>\n",
       "      <td>...</td>\n",
       "      <td>0.0</td>\n",
       "      <td>0.0</td>\n",
       "      <td>0.0</td>\n",
       "      <td>0.0</td>\n",
       "      <td>0.0</td>\n",
       "      <td>0.0</td>\n",
       "      <td>0.0</td>\n",
       "      <td>0.0</td>\n",
       "      <td>0.0</td>\n",
       "      <td>0.0</td>\n",
       "    </tr>\n",
       "  </tbody>\n",
       "</table>\n",
       "<p>5 rows × 714 columns</p>\n",
       "</div>"
      ],
      "text/plain": [
       "article_id  0.0  100.0  1000.0  1004.0  1006.0  1008.0  101.0  1014.0  1015.0  \\\n",
       "user_id                                                                         \n",
       "1           0.0    0.0     0.0     0.0     0.0     0.0    0.0     0.0     0.0   \n",
       "2           0.0    0.0     0.0     0.0     0.0     0.0    0.0     0.0     0.0   \n",
       "3           0.0    0.0     0.0     0.0     0.0     0.0    0.0     0.0     0.0   \n",
       "4           0.0    0.0     0.0     0.0     0.0     0.0    0.0     0.0     0.0   \n",
       "5           0.0    0.0     0.0     0.0     0.0     0.0    0.0     0.0     0.0   \n",
       "\n",
       "article_id  1016.0  ...    977.0  98.0  981.0  984.0  985.0  986.0  990.0  \\\n",
       "user_id             ...                                                     \n",
       "1              0.0  ...      0.0   0.0    1.0    0.0    0.0    0.0    0.0   \n",
       "2              0.0  ...      0.0   0.0    0.0    0.0    0.0    0.0    0.0   \n",
       "3              0.0  ...      1.0   0.0    0.0    0.0    0.0    0.0    0.0   \n",
       "4              0.0  ...      0.0   0.0    0.0    0.0    0.0    0.0    0.0   \n",
       "5              0.0  ...      0.0   0.0    0.0    0.0    0.0    0.0    0.0   \n",
       "\n",
       "article_id  993.0  996.0  997.0  \n",
       "user_id                          \n",
       "1             0.0    0.0    0.0  \n",
       "2             0.0    0.0    0.0  \n",
       "3             0.0    0.0    0.0  \n",
       "4             0.0    0.0    0.0  \n",
       "5             0.0    0.0    0.0  \n",
       "\n",
       "[5 rows x 714 columns]"
      ]
     },
     "execution_count": 471,
     "metadata": {},
     "output_type": "execute_result"
    }
   ],
   "source": [
    "# Quick look at the matrix\n",
    "user_item_matrix.head()\n"
   ]
  },
  {
   "cell_type": "markdown",
   "metadata": {},
   "source": [
    "`2.` In this situation, you can use Singular Value Decomposition from [numpy](https://docs.scipy.org/doc/numpy-1.14.0/reference/generated/numpy.linalg.svd.html) on the user-item matrix.  Use the cell to perform SVD, and explain why this is different than in the lesson."
   ]
  },
  {
   "cell_type": "code",
   "execution_count": 472,
   "metadata": {},
   "outputs": [],
   "source": [
    "# Performing SVD on the User-Item Matrix Here\n",
    "# Creating the u, s, vt matrices\n",
    "u, s, vt = np.linalg.svd(user_item_matrix)\n",
    " "
   ]
  },
  {
   "cell_type": "code",
   "execution_count": 475,
   "metadata": {},
   "outputs": [
    {
     "name": "stdout",
     "output_type": "stream",
     "text": [
      "SVD Matrix of \"u\": (5149, 5149)\n",
      "SVD Matrix of \"s\": (714,)\n",
      "SVD Matrix of \"vt\": (714, 714)\n"
     ]
    }
   ],
   "source": [
    "# Printing the result of U, Sigma, and V-transpose matrices\n",
    "print('SVD Matrix of \"u\": {}'.format(u.shape))\n",
    "print('SVD Matrix of \"s\": {}'.format(s.shape))\n",
    "print('SVD Matrix of \"vt\": {}'.format(vt.shape))"
   ]
  },
  {
   "cell_type": "markdown",
   "metadata": {},
   "source": [
    "**Provide your response here.**\n",
    "\n",
    "**Response:**\n",
    "\n",
    "> SVD needs a dataset without NaN values to fully perform. In this case the creating of the three matrices was possible. The meaning of that is, the data does not contain any missing values.\n",
    "In case of missing values SVD would not run and show an error message."
   ]
  },
  {
   "cell_type": "markdown",
   "metadata": {},
   "source": [
    "`3.` Now for the tricky part, how do we choose the number of latent features to use?  Running the below cell, you can see that as the number of latent features increases, we obtain a lower error rate on making predictions for the 1 and 0 values in the user-item matrix.  Run the cell below to get an idea of how the accuracy improves as we increase the number of latent features."
   ]
  },
  {
   "cell_type": "code",
   "execution_count": 485,
   "metadata": {},
   "outputs": [],
   "source": [
    "# Function: Defining function for the plot layout\n",
    "def plot_2():\n",
    "    '''\n",
    "    INPUT:\n",
    "    none\n",
    "    \n",
    "    OUTPUT:\n",
    "    figsize - (plot size) A definition of the plot dimensions\n",
    "    title - Name of visualization\n",
    "    xlabel - Name of X axis\n",
    "    ylabel - Name of Y axis\n",
    "    \n",
    "    '''\n",
    "\n",
    "    plt.figure(figsize=(9,6))\n",
    "    plt.title('Accuracy vs. Number of Latent Features');\n",
    "    plt.xlabel('Number of Latent Features');\n",
    "    plt.ylabel('Accuracy');\n",
    "    "
   ]
  },
  {
   "cell_type": "code",
   "execution_count": 486,
   "metadata": {},
   "outputs": [
    {
     "data": {
      "image/png": "[encoded data removed]",
      "text/plain": [
       "<matplotlib.figure.Figure at 0x7fbb651f1a20>"
      ]
     },
     "metadata": {
      "needs_background": "light"
     },
     "output_type": "display_data"
    }
   ],
   "source": [
    "# Visualization: Visualization of accuracy over the number of latent features (Actual)\n",
    "num_latent_feats = np.arange(10,700+10,20)\n",
    "sum_errs = []\n",
    "\n",
    "for k in num_latent_feats:\n",
    "    # Restructuring with k latent features\n",
    "    s_new, u_new, vt_new = np.diag(s[:k]), u[:, :k], vt[:k, :]\n",
    "    \n",
    "    # Taking dot product\n",
    "    user_item_est = np.around(np.dot(np.dot(u_new, s_new), vt_new))\n",
    "    \n",
    "    # Computing error for each prediction to actual value\n",
    "    diffs = np.subtract(user_item_matrix, user_item_est)\n",
    "    \n",
    "    # Total errors and keeping track of them\n",
    "    err = np.sum(np.sum(np.abs(diffs)))\n",
    "    sum_errs.append(err)\n",
    "    \n",
    "\n",
    "plot_2() # Function: Defining function for the plot layout \n",
    "plt.plot(num_latent_feats, 1 - np.array(sum_errs)/df.shape[0], label='Accuracy Curve');\n",
    "plt.legend(loc='best');\n"
   ]
  },
  {
   "cell_type": "markdown",
   "metadata": {},
   "source": [
    "`4.` From the above, we can't really be sure how many features to use, because simply having a better way to predict the 1's and 0's of the matrix doesn't exactly give us an indication of if we are able to make good recommendations.  Instead, we might split our dataset into a training and test set of data, as shown in the cell below.  \n",
    "\n",
    "Use the code from question 3 to understand the impact on accuracy of the training and test sets of data with different numbers of latent features. Using the split below: \n",
    "\n",
    "* How many users can we make predictions for in the test set?  \n",
    "* How many users are we not able to make predictions for because of the cold start problem?\n",
    "* How many articles can we make predictions for in the test set?  \n",
    "* How many articles are we not able to make predictions for because of the cold start problem?"
   ]
  },
  {
   "cell_type": "code",
   "execution_count": 487,
   "metadata": {},
   "outputs": [],
   "source": [
    "df_train = df.head(40000)\n",
    "df_test = df.tail(5993)\n",
    "\n",
    "# Function: Defining function for the train and test split\n",
    "def create_test_and_train_user_item(df_train, df_test):\n",
    "    '''\n",
    "    INPUT:\n",
    "    df_train - training dataframe\n",
    "    df_test - test dataframe\n",
    "    \n",
    "    OUTPUT:\n",
    "    user_item_train - a user-item matrix of the training dataframe \n",
    "                      (unique users for each row and unique articles for each column)\n",
    "    user_item_test - a user-item matrix of the testing dataframe \n",
    "                    (unique users for each row and unique articles for each column)\n",
    "    test_idx - all of the test user ids\n",
    "    test_arts - all of the test article ids\n",
    "    \n",
    "    '''\n",
    "    # Your code here\n",
    "    #\n",
    "    \n",
    "    # Defining matrix of the training dataframe\n",
    "    user_item_train = create_user_item_matrix(df_train)\n",
    "    \n",
    "    # Defining matrix of the testing dataframe\n",
    "    user_item_test = create_user_item_matrix(df_test)\n",
    "    \n",
    "    # Defining list of test user ids\n",
    "    test_idx = user_item_test.index.tolist()\n",
    "    \n",
    "    # Defining list of test article ids\n",
    "    test_arts = user_item_test.columns.tolist()\n",
    "    \n",
    "    return user_item_train, user_item_test, test_idx, test_arts\n",
    "\n",
    "user_item_train, user_item_test, test_idx, test_arts = create_test_and_train_user_item(df_train, df_test)\n"
   ]
  },
  {
   "cell_type": "code",
   "execution_count": 488,
   "metadata": {},
   "outputs": [
    {
     "data": {
      "text/plain": [
       "(682, 574)"
      ]
     },
     "execution_count": 488,
     "metadata": {},
     "output_type": "execute_result"
    }
   ],
   "source": [
    "# Overviewing the matrix of the testing dataframe\n",
    "user_item_test.shape\n"
   ]
  },
  {
   "cell_type": "code",
   "execution_count": 489,
   "metadata": {},
   "outputs": [
    {
     "name": "stdout",
     "output_type": "stream",
     "text": [
      "Test set: Number of users we can make predictions for: 20\n"
     ]
    }
   ],
   "source": [
    "# Calculating the answer to Question 1\n",
    "q1 = user_item_train.index.isin(test_idx).sum()\n",
    "print('Test set: Number of users we can make predictions for: {}'.format(q1))\n"
   ]
  },
  {
   "cell_type": "code",
   "execution_count": 490,
   "metadata": {},
   "outputs": [
    {
     "name": "stdout",
     "output_type": "stream",
     "text": [
      "Cold start problem: Number of users we are not able to make predictions for: 662\n"
     ]
    }
   ],
   "source": [
    "# Calculating the answer to Question 2\n",
    "q2 = user_item_test.shape[0] - q1\n",
    "print('Cold start problem: Number of users we are not able to make predictions for: {}'.format(q2))\n"
   ]
  },
  {
   "cell_type": "code",
   "execution_count": 491,
   "metadata": {},
   "outputs": [
    {
     "name": "stdout",
     "output_type": "stream",
     "text": [
      "Test set: Number of articles we can make predictions for: 574\n"
     ]
    }
   ],
   "source": [
    "# Calculating the answer to Question 3\n",
    "#q3 = user_item_test.shape[1]\n",
    "q3 = user_item_train.columns.isin(test_arts).sum()\n",
    "print('Test set: Number of articles we can make predictions for: {}'.format(q3))\n"
   ]
  },
  {
   "cell_type": "code",
   "execution_count": 492,
   "metadata": {},
   "outputs": [
    {
     "name": "stdout",
     "output_type": "stream",
     "text": [
      "Cold start problem: Number of articles we are not able to make predictions for: 0\n"
     ]
    }
   ],
   "source": [
    "# Calculating the answer to Question 4\n",
    "q4 = user_item_test.shape[1] - q3\n",
    "print('Cold start problem: Number of articles we are not able to make predictions for: {}'.format(q4))\n"
   ]
  },
  {
   "cell_type": "code",
   "execution_count": 493,
   "metadata": {
    "scrolled": true
   },
   "outputs": [
    {
     "name": "stdout",
     "output_type": "stream",
     "text": [
      "Awesome job!  That's right!  All of the test movies are in the training data, but there are only 20 test users that were also in the training set.  All of the other users that are in the test set we have no data on.  Therefore, we cannot make predictions for these users using SVD.\n"
     ]
    }
   ],
   "source": [
    "# Replace the values in the dictionary below\n",
    "a = 662\n",
    "b = 574\n",
    "c = 20\n",
    "d = 0\n",
    "\n",
    "\n",
    "sol_4_dict = {\n",
    "    'How many users can we make predictions for in the test set?': c,\n",
    "    'How many users in the test set are we not able to make predictions for because of the cold start problem?': a,\n",
    "    # See also Important Info below! (articles --> movies)\n",
    "    #'How many articles can we make predictions for in the test set?': b,\n",
    "    'How many movies can we make predictions for in the test set?': b,\n",
    "    # See also Important Info below! (articles --> movies)\n",
    "    #'How many articles in the test set are we not able to make predictions for because of the cold start problem?': d\n",
    "    'How many movies in the test set are we not able to make predictions for because of the cold start problem?': d\n",
    "}\n",
    "\n",
    "t.sol_4_test(sol_4_dict)"
   ]
  },
  {
   "cell_type": "markdown",
   "metadata": {},
   "source": [
    "**Important Info**\n",
    "\n",
    "> It seems to be a problem with the test file (code). Because I a m getting the error code \"How many movies can we make predictions for in the test set?\". Since we are considering \"articles\" and not \"movies\" in this project, I tried to find a solution in the knowledge section.\n",
    "I solved the problem by changing \"How many articles ...\" into \"How many movies ...\" due to the post:\n",
    "\n",
    ">> https://knowledge.udacity.com/questions/770708"
   ]
  },
  {
   "cell_type": "markdown",
   "metadata": {},
   "source": [
    "`5.` Now use the **user_item_train** dataset from above to find U, S, and V transpose using SVD. Then find the subset of rows in the **user_item_test** dataset that you can predict using this matrix decomposition with different numbers of latent features to see how many features makes sense to keep based on the accuracy on the test data. This will require combining what was done in questions `2` - `4`.\n",
    "\n",
    "Use the cells below to explore how well SVD works towards making predictions for recommendations on the test data.  "
   ]
  },
  {
   "cell_type": "code",
   "execution_count": 494,
   "metadata": {},
   "outputs": [],
   "source": [
    "# Use these cells to see how well you can use the training \n",
    "# decomposition to predict on test data"
   ]
  },
  {
   "cell_type": "code",
   "execution_count": 495,
   "metadata": {},
   "outputs": [],
   "source": [
    "# Fitting SVD on the user_item_train matrix\n",
    "# Fitting SVD similar to above then use the cells below \n",
    "# Creating the u_train, s_train, vt_train matrices\n",
    "u_train, s_train, vt_train = np.linalg.svd(user_item_train)\n"
   ]
  },
  {
   "cell_type": "code",
   "execution_count": 497,
   "metadata": {},
   "outputs": [
    {
     "name": "stdout",
     "output_type": "stream",
     "text": [
      "SVD Matrix of \"u\": (4487, 4487)\n",
      "SVD Matrix of \"s\": (714,)\n",
      "SVD Matrix of \"vt\": (714, 714)\n"
     ]
    }
   ],
   "source": [
    "# Printing the result of U, Sigma, and V-transpose matrices\n",
    "print('Predict: SVD Matrix of \"u\": {}'.format(u_train.shape))\n",
    "print('Predict: SVD Matrix of \"s\": {}'.format(s_train.shape))\n",
    "print('Predict: SVD Matrix of \"vt\": {}'.format(vt_train.shape))"
   ]
  },
  {
   "cell_type": "code",
   "execution_count": 505,
   "metadata": {
    "scrolled": true
   },
   "outputs": [
    {
     "name": "stdout",
     "output_type": "stream",
     "text": [
      "[[ -9.12128414e-03  -1.04593665e-02  -3.44661555e-05 ...,  -1.79527638e-04\n",
      "    1.57363124e-04  -2.22606585e-03]\n",
      " [ -4.23484921e-02  -8.80195536e-02   2.37441056e-02 ...,  -9.64599546e-04\n",
      "    1.09471046e-03  -4.16064153e-03]\n",
      " [ -1.08548005e-02  -4.07260013e-02  -6.40519993e-03 ...,   2.48133636e-03\n",
      "    2.85137940e-03   4.37297957e-03]\n",
      " ..., \n",
      " [ -2.00584196e-02   4.52035654e-03   1.40205893e-03 ...,  -1.99000075e-03\n",
      "   -2.18702165e-03  -6.78878413e-03]\n",
      " [ -4.34321936e-02   4.29457303e-02   3.35667405e-02 ...,  -3.96677563e-03\n",
      "    1.23123106e-02  -1.34565016e-02]\n",
      " [ -1.61097454e-02  -6.66008794e-03   7.28103953e-03 ...,  -2.79762572e-04\n",
      "   -1.37741965e-04   4.87579480e-01]]\n",
      "[[ -2.17234322e-03  -2.50211538e-02  -2.47568584e-03 ...,  -1.19178349e-03\n",
      "   -1.75764013e-03  -4.04943583e-03]\n",
      " [  2.07052261e-03  -2.21578691e-02   1.47527709e-03 ...,   2.10270582e-03\n",
      "    8.19235025e-03   1.53390757e-02]\n",
      " [ -1.12698320e-03  -1.75169207e-03  -4.36025174e-03 ...,  -5.90100152e-03\n",
      "   -5.73042987e-03  -1.64098364e-02]\n",
      " ..., \n",
      " [  0.00000000e+00   3.13580076e-17  -2.52637340e-17 ...,  -1.98435287e-16\n",
      "    2.25237922e-17  -1.27172671e-16]\n",
      " [  0.00000000e+00   2.01850271e-17   1.03378294e-16 ...,  -3.76658911e-17\n",
      "   -1.10376705e-16  -9.83550529e-18]\n",
      " [  0.00000000e+00   4.73635809e-17   1.08504162e-16 ...,   8.09985802e-17\n",
      "   -1.19684599e-16  -8.44682365e-17]]\n"
     ]
    }
   ],
   "source": [
    "#  Test set: u_test (rows)\n",
    "u_test = u_train[user_item_train.index.isin(user_item_test.index)]\n",
    "print(u_test)\n",
    "\n",
    "#  Test set: vt_test (columns)\n",
    "vt_test = vt_train[:, user_item_train.columns.isin(user_item_test.columns)]\n",
    "print(vt_test)\n"
   ]
  },
  {
   "cell_type": "code",
   "execution_count": 506,
   "metadata": {},
   "outputs": [
    {
     "data": {
      "text/plain": [
       "(20, 574)"
      ]
     },
     "execution_count": 506,
     "metadata": {},
     "output_type": "execute_result"
    }
   ],
   "source": [
    "# Defining list of users of the train and test data sets\n",
    "users_train_test = user_item_train.index[user_item_train.index.isin(test_idx)].tolist()\n",
    "\n",
    "# Loading the new matrix\n",
    "user_item_matrix = user_item_test.loc[users_train_test]\n",
    "user_item_matrix.shape"
   ]
  },
  {
   "cell_type": "code",
   "execution_count": 507,
   "metadata": {},
   "outputs": [
    {
     "data": {
      "image/png": "[encoded data removed]",
      "text/plain": [
       "<matplotlib.figure.Figure at 0x7fbb65927978>"
      ]
     },
     "metadata": {
      "needs_background": "light"
     },
     "output_type": "display_data"
    }
   ],
   "source": [
    "# Visualization: Visualization of accuracy over the number of latent features (Predict)\n",
    "num_latent_feats = np.arange(10,700+10,20)\n",
    "sum_errs = []\n",
    "\n",
    "for k in num_latent_feats:\n",
    "    # Restructuring with k latent features\n",
    "    s_train_new, u_train_new, vt_train_new = np.diag(s_train[:k]), u_train[:, :k], vt_train[:k, :]\n",
    "    u_test_new, vt_test_new = u_test[:, :k], vt_test[:k, :]\n",
    "\n",
    "    # Taking dot product\n",
    "    user_item_est_train = np.around(np.dot(np.dot(u_train_new, s_train_new), vt_train_new))\n",
    "    user_item_est_test = np.around(np.dot(np.dot(u_test_new, s_train_new), vt_test_new)) \n",
    "    \n",
    "    # Computing error for each prediction to predict value\n",
    "    diffs = np.subtract(user_item_matrix, user_item_est_test)\n",
    "    \n",
    "    # Total errors and keeping track of them\n",
    "    err = np.sum(np.sum(np.abs(diffs)))\n",
    "    sum_errs.append(err)\n",
    "    \n",
    "plot_2() # Function: Defining function for the plot layout  \n",
    "plt.plot(num_latent_feats, 1 - np.array(sum_errs)/df.shape[0], label='Accuracy Curve');\n",
    "plt.legend(loc='best');\n"
   ]
  },
  {
   "cell_type": "markdown",
   "metadata": {
    "collapsed": true
   },
   "source": [
    "`6.` Use the cell below to comment on the results you found in the previous question. Given the circumstances of your results, discuss what you might do to determine if the recommendations you make with any of the above recommendation systems are an improvement to how users currently find articles? "
   ]
  },
  {
   "cell_type": "markdown",
   "metadata": {},
   "source": [
    "**Your response here.**\n",
    "\n",
    "**Response:**\n",
    "\n",
    "> With increasing numbers of latent features (k) the accuracy decreases. This could be due to an overfitting problem.\n",
    "It is also noticeable that the delta of the accuracy by increasing number of latent features is not that much. Which means tht even with a high number of latent features (e.g. 600) the accuracy is still around a value of \"0.99...\"."
   ]
  },
  {
   "cell_type": "markdown",
   "metadata": {
    "collapsed": true
   },
   "source": [
    "<a id='conclusions'></a>\n",
    "### Extras\n",
    "Using your workbook, you could now save your recommendations for each user, develop a class to make new predictions and update your results, and make a flask app to deploy your results.  These tasks are beyond what is required for this project.  However, from what you learned in the lessons, you certainly capable of taking these tasks on to improve upon your work here!\n",
    "\n",
    "\n",
    "## Conclusion\n",
    "\n",
    "> Congratulations!  You have reached the end of the Recommendations with IBM project! \n",
    "\n",
    "> **Tip**: Once you are satisfied with your work here, check over your report to make sure that it is satisfies all the areas of the [rubric](https://review.udacity.com/#!/rubrics/2322/view). You should also probably remove all of the \"Tips\" like this one so that the presentation is as polished as possible.\n",
    "\n",
    "\n",
    "## Directions to Submit\n",
    "\n",
    "> Before you submit your project, you need to create a .html or .pdf version of this notebook in the workspace here. To do that, run the code cell below. If it worked correctly, you should get a return code of 0, and you should see the generated .html file in the workspace directory (click on the orange Jupyter icon in the upper left).\n",
    "\n",
    "> Alternatively, you can download this report as .html via the **File** > **Download as** submenu, and then manually upload it into the workspace directory by clicking on the orange Jupyter icon in the upper left, then using the Upload button.\n",
    "\n",
    "> Once you've done this, you can submit your project by clicking on the \"Submit Project\" button in the lower right here. This will create and submit a zip file with this .ipynb doc and the .html or .pdf version you created. Congratulations! "
   ]
  },
  {
   "cell_type": "code",
   "execution_count": null,
   "metadata": {},
   "outputs": [],
   "source": [
    "from subprocess import call\n",
    "call(['python', '-m', 'nbconvert', 'Recommendations_with_IBM.ipynb'])"
   ]
  }
 ],
 "metadata": {
  "kernelspec": {
   "display_name": "Python 3",
   "language": "python",
   "name": "python3"
  },
  "language_info": {
   "codemirror_mode": {
    "name": "ipython",
    "version": 3
   },
   "file_extension": ".py",
   "mimetype": "text/x-python",
   "name": "python",
   "nbconvert_exporter": "python",
   "pygments_lexer": "ipython3",
   "version": "3.6.3"
  }
 },
 "nbformat": 4,
 "nbformat_minor": 2
}
